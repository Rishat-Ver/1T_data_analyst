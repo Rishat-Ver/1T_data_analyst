{
 "cells": [
  {
   "cell_type": "code",
   "execution_count": 1,
   "metadata": {},
   "outputs": [],
   "source": [
    "import random\n",
    "import pandas as pd\n",
    "import requests\n",
    "from matplotlib import pyplot as plt\n",
    "from scipy import stats as st\n",
    "import numpy as np"
   ]
  },
  {
   "cell_type": "markdown",
   "metadata": {},
   "source": [
    "## Базовые понятия теории вероятностей"
   ]
  },
  {
   "cell_type": "markdown",
   "metadata": {},
   "source": [
    "### Вероятность события\n",
    "Если все исходы равновероятны, вероятность события A — это отношение m/n, где m — количество исходов, входящих в событие, а n — общее количество элементарных исходов в вероятностном пространстве.\n",
    "\n",
    "- **Элементарный исход** — неделимый, то есть не состоящий из нескольких исходов, возможный результат эксперимента. Если бросить кубик с пронумерованными от одного до шести гранями, элементарным исходом такого эксперимента будет любое число из этого ряда: 1,2,3,4,5,6.\n",
    "- **Вероятностное пространство** — множество всех возможных элементарных исходов. В математике множество обозначают фигурными скобками, внутри которых перечисляют его элементы. В примере с кубиком множество такое: {1,2,3,4,5,6}.\n",
    "- **Событие** — любое подмножество вероятностного пространства. Например, событие «На кубике выпало чётное число» объединяет такие исходы: «Выпало два», «Выпало четыре» и «Выпало шесть».\n",
    "- **Честный эксперимент** — эксперимент, в котором все исходы равновероятны. Вероятность исхода в честном эксперименте равна 1/n, где n — общее количество исходов. Равная вероятность упасть на любую грань есть у честного кубика или честной монеты.\n"
   ]
  },
  {
   "cell_type": "markdown",
   "metadata": {},
   "source": [
    "#### Задача 1.\n",
    "\n",
    "Светлана хочет стать дизайнером и записалась на шесть онлайн-курсов, среди них — курс \"Инструменты дизайнера\". Но выходных всего два, и один нужно посвятить просмотру любимого сериала. Для выбора курса Светлана кидает честный кубик, а чтобы выбрать субботу или воскресенье — честную монетку. С какой вероятностью по воскресеньям Светлана будет изучать курс \"Инструменты дизайнера\"?"
   ]
  },
  {
   "cell_type": "code",
   "execution_count": null,
   "metadata": {},
   "outputs": [],
   "source": [
    "courses = [f'course_{c}' for c in range(6)]\n",
    "days = [6, 7]\n",
    "i = 0\n",
    "for course in courses:\n",
    "    for d in days:\n",
    "        i += 1\n",
    "        print(i, course, d)"
   ]
  },
  {
   "cell_type": "code",
   "execution_count": null,
   "metadata": {},
   "outputs": [],
   "source": [
    "1/12"
   ]
  },
  {
   "cell_type": "markdown",
   "metadata": {},
   "source": [
    "#### Задача 2.\n",
    "\n",
    "Онлайн-магазин запустил акцию «Рандомакция». Покупатель нажимает кнопку и с равной вероятностью получает скидку 10, 20, 30, 40 или 50 процентов. Два клиента нажали кнопку. Какова вероятность, что хотя бы один из них получил скидку 10%?"
   ]
  },
  {
   "cell_type": "code",
   "execution_count": null,
   "metadata": {},
   "outputs": [],
   "source": [
    "consumer_0_discounts = range(10, 51, 10)\n",
    "consumer_1_discounts = range(10, 51, 10)\n",
    "i = 0\n",
    "for consumer_0_discount in consumer_0_discounts:\n",
    "    for consumer_1_discount in consumer_1_discounts:\n",
    "        i += 1\n",
    "        print(i, consumer_0_discount, consumer_1_discount)"
   ]
  },
  {
   "cell_type": "code",
   "execution_count": null,
   "metadata": {},
   "outputs": [],
   "source": [
    "9/25"
   ]
  },
  {
   "cell_type": "markdown",
   "metadata": {},
   "source": [
    "### Независимые события\n",
    "\n",
    "Главное, что нужно знать о независимых событиях, — вероятность одновременного наступления нескольких независимых событий равна произведению их вероятностей. Одновременное наступление означает, что исход эксперимента лежит в их пересечении. И даже если они происходят не в один момент времени, к концу эксперимента все события произойдут.\n",
    "Термины, которые помогут разобраться в теме:\n",
    "- Два события называются **независимыми**, если наступление одного из них не влияет на вероятность наступления другого.\n",
    "  Например, при игре в рулетку вероятность, что шарик окажется в чёрном секторе, не зависит от того, какой сектор выпадал предыдущие сто раз. Даже если все сто раз выпало красное. То есть вероятность последующего события не зависит от предыдущего. Незнание этого принципа приводит к «ошибке игрока»: предположению, что у рулетки есть память.\n",
    "- События **зависимые**, если наступление одного события меняет вероятность наступления другого.\n",
    "  Например, если эксперимент состоит из выбора парка, а потом поиска в нём желудей, то выбор дубового парка существенно повысит вероятность нахождения жёлудя."
   ]
  },
  {
   "cell_type": "markdown",
   "metadata": {},
   "source": [
    "#### Задача 3.\n",
    "\n",
    "Одноклассники пошли поле уроков в тир. Леша обрадовался, поскольку он ходит в кружок метких стрелков, и у него появился реальный шанс обрадовать свою подружку Катерину и выиграть для нее самую большую игрушку. Но для этого надо попасть в цель подряд 10 раз. Какова вероятность, что Леша порадует Катерину, если он попадает в цель с вероятностью 95%, а его выстрелы друг от друга не зависят."
   ]
  },
  {
   "cell_type": "code",
   "execution_count": null,
   "metadata": {},
   "outputs": [],
   "source": [
    "0.95 ** 10"
   ]
  },
  {
   "cell_type": "markdown",
   "metadata": {},
   "source": [
    "### Противоположные события  \n",
    "\n",
    "Некоторые события исключают другие: хорошая оценка - плохая оценка, сейчас выходной - сейчас будний день. \n",
    "Если событие произошло, то одновременно не может случиться противоположное.  \n",
    "**Противоположное событие** (не A) — множество всех элементарных исходов, которые не входят в событие A. Часто его ещё называют дополняющим событием, реже — комплементарным или обратным.  \n",
    "Противоположное событие включает всё остальное вероятностное пространство. Поэтому для него справедлива формула: P(не А) = 1 - P(А)."
   ]
  },
  {
   "cell_type": "markdown",
   "metadata": {},
   "source": [
    "#### Задача 4.\n",
    "\n",
    "В корзине лежит 4 белых шара и 6 черных. Мы, не глядя, достаем шар, смотрим его цвет, кладем обратно и снова достаем какой-то шар. Какова вероятность, что хотя бы раз мы достали белый шар?"
   ]
  },
  {
   "cell_type": "code",
   "execution_count": null,
   "metadata": {},
   "outputs": [],
   "source": [
    "1 - (6 / (6 + 4)) * (6 / (6 + 4))"
   ]
  },
  {
   "cell_type": "markdown",
   "metadata": {},
   "source": [
    "#### Задача 5.\n",
    "Онлайн газета показывает пользователям статьи, в конце которых размещает рекламу. Если пользователь открыл статью, то дочитает её до конца с вероятностью 0.6.  \n",
    "Пользователь открыл десять статей. Какова вероятность того, что он дочитает не менее одной и не более девяти статей?"
   ]
  },
  {
   "cell_type": "code",
   "execution_count": null,
   "metadata": {},
   "outputs": [],
   "source": [
    "1 - ((1 - 0.6) ** 9)"
   ]
  },
  {
   "cell_type": "markdown",
   "metadata": {},
   "source": [
    "#### Задача 6.\n",
    "\n",
    "Какова вероятность того, что в группе из 23 человек найдется хотя бы два человека, у которых дни рождения (число и месяц) полностью совпадают?"
   ]
  },
  {
   "cell_type": "code",
   "execution_count": null,
   "metadata": {},
   "outputs": [],
   "source": [
    "res = 1\n",
    "for i in range(2, 24):\n",
    "    res *= (1 - (i - 1) / 365)\n",
    "1 - res"
   ]
  },
  {
   "cell_type": "markdown",
   "metadata": {},
   "source": [
    "### Случайная величина"
   ]
  },
  {
   "cell_type": "markdown",
   "metadata": {},
   "source": [
    "**Случайная величина** — переменная, значения которой представляют собой численные исходы некоторого случайного феномена или эксперимента.\n",
    "\n",
    "Сумма значений на двух игральных костях — случайная величина.  \n",
    "Построим для нее распределение вероятностей, учитывая закон больших чисел: чем больше раз повторяется эксперимент, тем ближе относительная частота заданного на этом эксперименте события будет к вероятности этого события. "
   ]
  },
  {
   "cell_type": "code",
   "execution_count": 2,
   "metadata": {},
   "outputs": [
    {
     "data": {
      "text/html": [
       "<div>\n",
       "<style scoped>\n",
       "    .dataframe tbody tr th:only-of-type {\n",
       "        vertical-align: middle;\n",
       "    }\n",
       "\n",
       "    .dataframe tbody tr th {\n",
       "        vertical-align: top;\n",
       "    }\n",
       "\n",
       "    .dataframe thead th {\n",
       "        text-align: right;\n",
       "    }\n",
       "</style>\n",
       "<table border=\"1\" class=\"dataframe\">\n",
       "  <thead>\n",
       "    <tr style=\"text-align: right;\">\n",
       "      <th></th>\n",
       "      <th>first_cube</th>\n",
       "      <th>second_cube</th>\n",
       "      <th>sum</th>\n",
       "    </tr>\n",
       "  </thead>\n",
       "  <tbody>\n",
       "    <tr>\n",
       "      <th>0</th>\n",
       "      <td>1</td>\n",
       "      <td>1</td>\n",
       "      <td>2</td>\n",
       "    </tr>\n",
       "    <tr>\n",
       "      <th>1</th>\n",
       "      <td>1</td>\n",
       "      <td>2</td>\n",
       "      <td>3</td>\n",
       "    </tr>\n",
       "    <tr>\n",
       "      <th>2</th>\n",
       "      <td>1</td>\n",
       "      <td>3</td>\n",
       "      <td>4</td>\n",
       "    </tr>\n",
       "    <tr>\n",
       "      <th>3</th>\n",
       "      <td>1</td>\n",
       "      <td>4</td>\n",
       "      <td>5</td>\n",
       "    </tr>\n",
       "    <tr>\n",
       "      <th>4</th>\n",
       "      <td>1</td>\n",
       "      <td>5</td>\n",
       "      <td>6</td>\n",
       "    </tr>\n",
       "    <tr>\n",
       "      <th>5</th>\n",
       "      <td>1</td>\n",
       "      <td>6</td>\n",
       "      <td>7</td>\n",
       "    </tr>\n",
       "    <tr>\n",
       "      <th>6</th>\n",
       "      <td>2</td>\n",
       "      <td>1</td>\n",
       "      <td>3</td>\n",
       "    </tr>\n",
       "    <tr>\n",
       "      <th>7</th>\n",
       "      <td>2</td>\n",
       "      <td>2</td>\n",
       "      <td>4</td>\n",
       "    </tr>\n",
       "    <tr>\n",
       "      <th>8</th>\n",
       "      <td>2</td>\n",
       "      <td>3</td>\n",
       "      <td>5</td>\n",
       "    </tr>\n",
       "    <tr>\n",
       "      <th>9</th>\n",
       "      <td>2</td>\n",
       "      <td>4</td>\n",
       "      <td>6</td>\n",
       "    </tr>\n",
       "    <tr>\n",
       "      <th>10</th>\n",
       "      <td>2</td>\n",
       "      <td>5</td>\n",
       "      <td>7</td>\n",
       "    </tr>\n",
       "    <tr>\n",
       "      <th>11</th>\n",
       "      <td>2</td>\n",
       "      <td>6</td>\n",
       "      <td>8</td>\n",
       "    </tr>\n",
       "    <tr>\n",
       "      <th>12</th>\n",
       "      <td>3</td>\n",
       "      <td>1</td>\n",
       "      <td>4</td>\n",
       "    </tr>\n",
       "    <tr>\n",
       "      <th>13</th>\n",
       "      <td>3</td>\n",
       "      <td>2</td>\n",
       "      <td>5</td>\n",
       "    </tr>\n",
       "    <tr>\n",
       "      <th>14</th>\n",
       "      <td>3</td>\n",
       "      <td>3</td>\n",
       "      <td>6</td>\n",
       "    </tr>\n",
       "    <tr>\n",
       "      <th>15</th>\n",
       "      <td>3</td>\n",
       "      <td>4</td>\n",
       "      <td>7</td>\n",
       "    </tr>\n",
       "    <tr>\n",
       "      <th>16</th>\n",
       "      <td>3</td>\n",
       "      <td>5</td>\n",
       "      <td>8</td>\n",
       "    </tr>\n",
       "    <tr>\n",
       "      <th>17</th>\n",
       "      <td>3</td>\n",
       "      <td>6</td>\n",
       "      <td>9</td>\n",
       "    </tr>\n",
       "    <tr>\n",
       "      <th>18</th>\n",
       "      <td>4</td>\n",
       "      <td>1</td>\n",
       "      <td>5</td>\n",
       "    </tr>\n",
       "    <tr>\n",
       "      <th>19</th>\n",
       "      <td>4</td>\n",
       "      <td>2</td>\n",
       "      <td>6</td>\n",
       "    </tr>\n",
       "    <tr>\n",
       "      <th>20</th>\n",
       "      <td>4</td>\n",
       "      <td>3</td>\n",
       "      <td>7</td>\n",
       "    </tr>\n",
       "    <tr>\n",
       "      <th>21</th>\n",
       "      <td>4</td>\n",
       "      <td>4</td>\n",
       "      <td>8</td>\n",
       "    </tr>\n",
       "    <tr>\n",
       "      <th>22</th>\n",
       "      <td>4</td>\n",
       "      <td>5</td>\n",
       "      <td>9</td>\n",
       "    </tr>\n",
       "    <tr>\n",
       "      <th>23</th>\n",
       "      <td>4</td>\n",
       "      <td>6</td>\n",
       "      <td>10</td>\n",
       "    </tr>\n",
       "    <tr>\n",
       "      <th>24</th>\n",
       "      <td>5</td>\n",
       "      <td>1</td>\n",
       "      <td>6</td>\n",
       "    </tr>\n",
       "    <tr>\n",
       "      <th>25</th>\n",
       "      <td>5</td>\n",
       "      <td>2</td>\n",
       "      <td>7</td>\n",
       "    </tr>\n",
       "    <tr>\n",
       "      <th>26</th>\n",
       "      <td>5</td>\n",
       "      <td>3</td>\n",
       "      <td>8</td>\n",
       "    </tr>\n",
       "    <tr>\n",
       "      <th>27</th>\n",
       "      <td>5</td>\n",
       "      <td>4</td>\n",
       "      <td>9</td>\n",
       "    </tr>\n",
       "    <tr>\n",
       "      <th>28</th>\n",
       "      <td>5</td>\n",
       "      <td>5</td>\n",
       "      <td>10</td>\n",
       "    </tr>\n",
       "    <tr>\n",
       "      <th>29</th>\n",
       "      <td>5</td>\n",
       "      <td>6</td>\n",
       "      <td>11</td>\n",
       "    </tr>\n",
       "    <tr>\n",
       "      <th>30</th>\n",
       "      <td>6</td>\n",
       "      <td>1</td>\n",
       "      <td>7</td>\n",
       "    </tr>\n",
       "    <tr>\n",
       "      <th>31</th>\n",
       "      <td>6</td>\n",
       "      <td>2</td>\n",
       "      <td>8</td>\n",
       "    </tr>\n",
       "    <tr>\n",
       "      <th>32</th>\n",
       "      <td>6</td>\n",
       "      <td>3</td>\n",
       "      <td>9</td>\n",
       "    </tr>\n",
       "    <tr>\n",
       "      <th>33</th>\n",
       "      <td>6</td>\n",
       "      <td>4</td>\n",
       "      <td>10</td>\n",
       "    </tr>\n",
       "    <tr>\n",
       "      <th>34</th>\n",
       "      <td>6</td>\n",
       "      <td>5</td>\n",
       "      <td>11</td>\n",
       "    </tr>\n",
       "    <tr>\n",
       "      <th>35</th>\n",
       "      <td>6</td>\n",
       "      <td>6</td>\n",
       "      <td>12</td>\n",
       "    </tr>\n",
       "  </tbody>\n",
       "</table>\n",
       "</div>"
      ],
      "text/plain": [
       "    first_cube  second_cube  sum\n",
       "0            1            1    2\n",
       "1            1            2    3\n",
       "2            1            3    4\n",
       "3            1            4    5\n",
       "4            1            5    6\n",
       "5            1            6    7\n",
       "6            2            1    3\n",
       "7            2            2    4\n",
       "8            2            3    5\n",
       "9            2            4    6\n",
       "10           2            5    7\n",
       "11           2            6    8\n",
       "12           3            1    4\n",
       "13           3            2    5\n",
       "14           3            3    6\n",
       "15           3            4    7\n",
       "16           3            5    8\n",
       "17           3            6    9\n",
       "18           4            1    5\n",
       "19           4            2    6\n",
       "20           4            3    7\n",
       "21           4            4    8\n",
       "22           4            5    9\n",
       "23           4            6   10\n",
       "24           5            1    6\n",
       "25           5            2    7\n",
       "26           5            3    8\n",
       "27           5            4    9\n",
       "28           5            5   10\n",
       "29           5            6   11\n",
       "30           6            1    7\n",
       "31           6            2    8\n",
       "32           6            3    9\n",
       "33           6            4   10\n",
       "34           6            5   11\n",
       "35           6            6   12"
      ]
     },
     "execution_count": 2,
     "metadata": {},
     "output_type": "execute_result"
    }
   ],
   "source": [
    "res = []\n",
    "for i in range(1, 7):\n",
    "    for j in range(1, 7):\n",
    "        res.append([i, j, i + j])\n",
    "res_pd = pd.DataFrame(res, columns=['first_cube', 'second_cube', 'sum'])\n",
    "res_pd"
   ]
  },
  {
   "cell_type": "code",
   "execution_count": 3,
   "metadata": {},
   "outputs": [
    {
     "data": {
      "text/plain": [
       "2     1\n",
       "3     2\n",
       "4     3\n",
       "5     4\n",
       "6     5\n",
       "7     6\n",
       "8     5\n",
       "9     4\n",
       "10    3\n",
       "11    2\n",
       "12    1\n",
       "Name: sum, dtype: int64"
      ]
     },
     "execution_count": 3,
     "metadata": {},
     "output_type": "execute_result"
    }
   ],
   "source": [
    "res_pd['sum'].value_counts().sort_index()"
   ]
  },
  {
   "cell_type": "code",
   "execution_count": 7,
   "metadata": {},
   "outputs": [
    {
     "data": {
      "image/png": "[encoded data removed]",
      "text/plain": [
       "<Figure size 640x480 with 1 Axes>"
      ]
     },
     "metadata": {},
     "output_type": "display_data"
    }
   ],
   "source": [
    "res = []\n",
    "for i in range(100000):\n",
    "    cube_1 = random.randint(1, 6)\n",
    "    cube_2 = random.randint(1, 6)\n",
    "\n",
    "    cubes_sum = cube_1 + cube_2\n",
    "\n",
    "    res.append(cubes_sum)\n",
    "\n",
    "res = pd.Series(res)\n",
    "plt.stem(res.value_counts(normalize=True).sort_index())\n",
    "plt.xticks(range(res.nunique()), sorted(res.unique()))\n",
    "plt.show()"
   ]
  },
  {
   "cell_type": "markdown",
   "metadata": {},
   "source": [
    "### Математическое ожидание и дисперсия"
   ]
  },
  {
   "cell_type": "markdown",
   "metadata": {},
   "source": [
    "**Математическое ожидание** случайной величины — сумма всех значений случайной величины, помноженных на их вероятности. Оно показывает, вокруг какого значения распределена случайная величина, и — по закону больших чисел — к какому значению она будет в среднем стремиться при повторениях эксперимента. \n",
    "Посчитаем матожидание для суммы значений на кубиках."
   ]
  },
  {
   "cell_type": "code",
   "execution_count": 10,
   "metadata": {},
   "outputs": [],
   "source": [
    "def E(x):\n",
    "    return x.value_counts(normalize=True).reset_index().apply(lambda f: f['index'] * f[0], axis=1).sum()"
   ]
  },
  {
   "cell_type": "code",
   "execution_count": 11,
   "metadata": {},
   "outputs": [
    {
     "data": {
      "text/plain": [
       "7.007569999999999"
      ]
     },
     "execution_count": 11,
     "metadata": {},
     "output_type": "execute_result"
    }
   ],
   "source": [
    "E(res)"
   ]
  },
  {
   "cell_type": "code",
   "execution_count": 12,
   "metadata": {},
   "outputs": [
    {
     "data": {
      "text/plain": [
       "7.00757"
      ]
     },
     "execution_count": 12,
     "metadata": {},
     "output_type": "execute_result"
    }
   ],
   "source": [
    "res.mean()"
   ]
  },
  {
   "attachments": {
    "image.png": {
     "image/png": "[encoded data removed]"
    }
   },
   "cell_type": "markdown",
   "metadata": {},
   "source": [
    "**Дисперсия** - мера разброса математического ожидания. \n",
    "![image.png](attachment:image.png)  \n",
    "Рассчитаем ее для суммы значений на двух кубиках"
   ]
  },
  {
   "cell_type": "code",
   "execution_count": 13,
   "metadata": {},
   "outputs": [
    {
     "data": {
      "text/plain": [
       "5.859812695100004"
      ]
     },
     "execution_count": 13,
     "metadata": {},
     "output_type": "execute_result"
    }
   ],
   "source": [
    "E(res**2) - (E(res))**2"
   ]
  },
  {
   "cell_type": "markdown",
   "metadata": {},
   "source": [
    "Воспользуемся встроенным методом и сравним результаты"
   ]
  },
  {
   "cell_type": "code",
   "execution_count": 14,
   "metadata": {},
   "outputs": [
    {
     "data": {
      "text/plain": [
       "5.8598712938129385"
      ]
     },
     "execution_count": 14,
     "metadata": {},
     "output_type": "execute_result"
    }
   ],
   "source": [
    "res.var()"
   ]
  },
  {
   "cell_type": "markdown",
   "metadata": {},
   "source": [
    "### Правило трех сигм\n",
    "При нормальном распределении 68 процентов случайных значений лежат в пределах одного стандартного отклонения от среднего, 95 процентов — в пределах двух стандартных отклонений, и 99,7 процентов — в пределах трех стандартных отклонений."
   ]
  },
  {
   "cell_type": "code",
   "execution_count": 15,
   "metadata": {},
   "outputs": [
    {
     "name": "stdout",
     "output_type": "stream",
     "text": [
      "1 0.66484\n",
      "2 0.94347\n",
      "3 1.0\n"
     ]
    }
   ],
   "source": [
    "sigm = res.var() ** (1/2)\n",
    "expect = E(res)\n",
    "for i in range(1, 4):\n",
    "    print(i, res.apply(lambda x: expect - i * sigm < x < expect + i * sigm).mean())"
   ]
  },
  {
   "cell_type": "markdown",
   "metadata": {},
   "source": [
    "### Биномиальное распределениe"
   ]
  },
  {
   "cell_type": "markdown",
   "metadata": {},
   "source": [
    "Представим, что мы играем на набережной в игру, где нужно дротиком попасть в надувной шарик. Вероятность попадания _p_ равна 10%. Бросок дротика — это случайный эксперимент. Попадание в шарик — это случайная величина, распределенная по распределению Бернулли. Построим для нее рапределение вероятностей. Рассчитаем математическое ожидание (_p_) и дисперсию (_pq_) по формулам и с помощью встроенных функций."
   ]
  },
  {
   "cell_type": "code",
   "execution_count": 20,
   "metadata": {},
   "outputs": [
    {
     "data": {
      "text/plain": [
       "0    8999\n",
       "1    1001\n",
       "dtype: int64"
      ]
     },
     "execution_count": 20,
     "metadata": {},
     "output_type": "execute_result"
    }
   ],
   "source": [
    "p = 0.1\n",
    "q = 1 - p\n",
    "\n",
    "res = []\n",
    "for i in range(10000):\n",
    "    res.append(random.choices([1, 0], weights=[p, q])[0])\n",
    "res = pd.Series(res)\n",
    "\n",
    "res.value_counts()"
   ]
  },
  {
   "cell_type": "code",
   "execution_count": 21,
   "metadata": {},
   "outputs": [
    {
     "data": {
      "text/plain": [
       "0    0.8999\n",
       "1    0.1001\n",
       "dtype: float64"
      ]
     },
     "execution_count": 21,
     "metadata": {},
     "output_type": "execute_result"
    }
   ],
   "source": [
    "res.value_counts(normalize=True)"
   ]
  },
  {
   "cell_type": "code",
   "execution_count": 22,
   "metadata": {},
   "outputs": [
    {
     "data": {
      "text/plain": [
       "0.09008899889988999"
      ]
     },
     "execution_count": 22,
     "metadata": {},
     "output_type": "execute_result"
    }
   ],
   "source": [
    "res.var()"
   ]
  },
  {
   "cell_type": "code",
   "execution_count": 23,
   "metadata": {},
   "outputs": [
    {
     "data": {
      "text/plain": [
       "0.09000000000000001"
      ]
     },
     "execution_count": 23,
     "metadata": {},
     "output_type": "execute_result"
    }
   ],
   "source": [
    "p*q"
   ]
  },
  {
   "cell_type": "markdown",
   "metadata": {},
   "source": [
    "Представим теперь, что мы кидaем дротик несколько раз подряд. Количество попаданий из этих нескольких раз — случайная величина, распределенная биномиально. Построим для нее рапределение вероятностей. Рассчитаем математическое ожидание (_np_) и дисперсию (_npq_) по формулам и с помощью встроенных функций."
   ]
  },
  {
   "cell_type": "code",
   "execution_count": 24,
   "metadata": {},
   "outputs": [
    {
     "data": {
      "text/plain": [
       "1    3902\n",
       "0    3466\n",
       "2    1936\n",
       "3     571\n",
       "4     108\n",
       "5      15\n",
       "6       2\n",
       "dtype: int64"
      ]
     },
     "execution_count": 24,
     "metadata": {},
     "output_type": "execute_result"
    }
   ],
   "source": [
    "p = 0.1\n",
    "q = 1 - p\n",
    "n = 10\n",
    "\n",
    "res = []\n",
    "for i in range(10000):\n",
    "    res_here = []\n",
    "    for j in range(n):\n",
    "        res_here.append(random.choices([1, 0], weights=[p, q])[0])\n",
    "    res.append(sum(res_here))\n",
    "res = pd.Series(res)\n",
    "\n",
    "res.value_counts()"
   ]
  },
  {
   "cell_type": "code",
   "execution_count": 25,
   "metadata": {},
   "outputs": [
    {
     "data": {
      "text/plain": [
       "<AxesSubplot:>"
      ]
     },
     "execution_count": 25,
     "metadata": {},
     "output_type": "execute_result"
    },
    {
     "data": {
      "image/png": "[encoded data removed]",
      "text/plain": [
       "<Figure size 640x480 with 1 Axes>"
      ]
     },
     "metadata": {},
     "output_type": "display_data"
    }
   ],
   "source": [
    "res.hist(bins=7, density=True)"
   ]
  },
  {
   "cell_type": "code",
   "execution_count": 26,
   "metadata": {},
   "outputs": [
    {
     "data": {
      "text/plain": [
       "1.0"
      ]
     },
     "execution_count": 26,
     "metadata": {},
     "output_type": "execute_result"
    }
   ],
   "source": [
    "n*p"
   ]
  },
  {
   "cell_type": "code",
   "execution_count": 27,
   "metadata": {},
   "outputs": [
    {
     "data": {
      "text/plain": [
       "1.0006"
      ]
     },
     "execution_count": 27,
     "metadata": {},
     "output_type": "execute_result"
    }
   ],
   "source": [
    "res.mean()"
   ]
  },
  {
   "cell_type": "code",
   "execution_count": 28,
   "metadata": {},
   "outputs": [
    {
     "data": {
      "text/plain": [
       "0.9"
      ]
     },
     "execution_count": 28,
     "metadata": {},
     "output_type": "execute_result"
    }
   ],
   "source": [
    "n*p*q"
   ]
  },
  {
   "cell_type": "code",
   "execution_count": 29,
   "metadata": {},
   "outputs": [
    {
     "data": {
      "text/plain": [
       "0.8948891289128913"
      ]
     },
     "execution_count": 29,
     "metadata": {},
     "output_type": "execute_result"
    }
   ],
   "source": [
    "res.var()"
   ]
  },
  {
   "cell_type": "markdown",
   "metadata": {},
   "source": [
    "### Нормальное распределение"
   ]
  },
  {
   "cell_type": "markdown",
   "metadata": {},
   "source": [
    "Получим данные о росте и весе людей 18 лет из датасета по [ссылке](https://www.kaggle.com/datasets/burnoutminer/heights-and-weights-dataset)."
   ]
  },
  {
   "cell_type": "code",
   "execution_count": 30,
   "metadata": {},
   "outputs": [],
   "source": [
    "data = pd.read_csv('SOCR-HeightWeight.csv')\n",
    "data['Height(cm)'] = data['Height(Inches)'] * 2.54\n",
    "data['Weight(kg)'] = data['Weight(Pounds)'] * 0.4536"
   ]
  },
  {
   "cell_type": "code",
   "execution_count": 31,
   "metadata": {},
   "outputs": [
    {
     "data": {
      "text/plain": [
       "<AxesSubplot:>"
      ]
     },
     "execution_count": 31,
     "metadata": {},
     "output_type": "execute_result"
    },
    {
     "data": {
      "image/png": "[encoded data removed]",
      "text/plain": [
       "<Figure size 640x480 with 1 Axes>"
      ]
     },
     "metadata": {},
     "output_type": "display_data"
    }
   ],
   "source": [
    "data['Height(cm)'].hist(bins=30)"
   ]
  },
  {
   "cell_type": "markdown",
   "metadata": {},
   "source": [
    "Сгенерируем случайные величины, распределенные нормально для моделирования наших показателей"
   ]
  },
  {
   "cell_type": "code",
   "execution_count": 32,
   "metadata": {},
   "outputs": [],
   "source": [
    "height_exp = []\n",
    "mean_height = data['Height(cm)'].mean()\n",
    "heigth_sigm = data['Height(cm)'].std()\n",
    "for i in range(data.shape[0]):\n",
    "    height_exp.append(random.normalvariate(mu=mean_height, sigma=heigth_sigm))\n",
    "height_exp = pd.Series(height_exp)"
   ]
  },
  {
   "cell_type": "code",
   "execution_count": 33,
   "metadata": {},
   "outputs": [
    {
     "data": {
      "text/plain": [
       "<AxesSubplot:>"
      ]
     },
     "execution_count": 33,
     "metadata": {},
     "output_type": "execute_result"
    },
    {
     "data": {
      "image/png": "[encoded data removed]",
      "text/plain": [
       "<Figure size 640x480 with 1 Axes>"
      ]
     },
     "metadata": {},
     "output_type": "display_data"
    }
   ],
   "source": [
    "height_range = [data['Height(cm)'].min(), data['Height(cm)'].max()]\n",
    "\n",
    "data['Height(cm)'].hist(bins=30, range=height_range)\n",
    "height_exp.hist(bins=30, histtype='step', color='coral', range=height_range)"
   ]
  },
  {
   "cell_type": "markdown",
   "metadata": {},
   "source": [
    "Сгенерируем переменную, отвечающую за нормальное распределение с интересующими параметрами, и визуализируем распределение через нее"
   ]
  },
  {
   "cell_type": "code",
   "execution_count": 34,
   "metadata": {},
   "outputs": [],
   "source": [
    "height_distr = st.norm(mean_height, heigth_sigm)\n",
    "height_exp_2 = height_distr.rvs(size=data.shape[0])\n",
    "height_exp_2 = pd.Series(height_exp_2)"
   ]
  },
  {
   "cell_type": "code",
   "execution_count": 35,
   "metadata": {},
   "outputs": [
    {
     "data": {
      "text/plain": [
       "<AxesSubplot:>"
      ]
     },
     "execution_count": 35,
     "metadata": {},
     "output_type": "execute_result"
    },
    {
     "data": {
      "image/png": "[encoded data removed]",
      "text/plain": [
       "<Figure size 640x480 with 1 Axes>"
      ]
     },
     "metadata": {},
     "output_type": "display_data"
    }
   ],
   "source": [
    "data['Height(cm)'].hist(bins=30, range=height_range)\n",
    "height_exp_2.hist(bins=30, histtype='step', color='coral', range=height_range)"
   ]
  },
  {
   "cell_type": "markdown",
   "metadata": {},
   "source": [
    "Чтобы найти вероятность попадания значений в те или иные интервалы, понадобятся два метода: ppf() и cdf(). \n",
    "Буквы расшифровываются так:\n",
    "- ppf — от англ. percent point function, «функция процентных значений»;\n",
    "- cdf — от англ. cumulative distribution function, «кумулятивная функция распределения».\n",
    "\n",
    "Оценим вероятность того, что рост будет превышать 180 см."
   ]
  },
  {
   "cell_type": "code",
   "execution_count": 36,
   "metadata": {},
   "outputs": [
    {
     "data": {
      "text/plain": [
       "0.06542159381416912"
      ]
     },
     "execution_count": 36,
     "metadata": {},
     "output_type": "execute_result"
    }
   ],
   "source": [
    "1 - height_distr.cdf(180)"
   ]
  },
  {
   "cell_type": "markdown",
   "metadata": {},
   "source": [
    "Какой минимальный рост среди самых высоких 6.5% населения?"
   ]
  },
  {
   "cell_type": "code",
   "execution_count": 38,
   "metadata": {},
   "outputs": [
    {
     "data": {
      "text/plain": [
       "180.01602049537695"
      ]
     },
     "execution_count": 38,
     "metadata": {},
     "output_type": "execute_result"
    }
   ],
   "source": [
    "height_distr.ppf(1 - 0.065)"
   ]
  },
  {
   "cell_type": "markdown",
   "metadata": {},
   "source": [
    "### Аппроксимация биномиального распределения нормальным"
   ]
  },
  {
   "cell_type": "code",
   "execution_count": 39,
   "metadata": {},
   "outputs": [
    {
     "data": {
      "text/plain": [
       "<StemContainer object of 3 artists>"
      ]
     },
     "execution_count": 39,
     "metadata": {},
     "output_type": "execute_result"
    },
    {
     "data": {
      "image/png": "[encoded data removed]",
      "text/plain": [
       "<Figure size 640x480 with 1 Axes>"
      ]
     },
     "metadata": {},
     "output_type": "display_data"
    }
   ],
   "source": [
    "shape = 10000\n",
    "\n",
    "# биномиальное распределение\n",
    "p = 0.8\n",
    "n = 50\n",
    "\n",
    "binom = pd.Series(st.binom(n=n, p=p).rvs(size=shape)).value_counts(normalize=True).sort_index()\n",
    "\n",
    "# нормальное распределение\n",
    "mu = n * p\n",
    "var = n * p * (1 - p)\n",
    "sigma = np.sqrt(var)\n",
    "\n",
    "norm = st.norm.pdf(binom.index, mu, sigma)\n",
    "\n",
    "x = range(25, n + 1)\n",
    "\n",
    "plt.plot(binom.index, norm, color='lightgrey')\n",
    "plt.stem(binom.index, binom)"
   ]
  }
 ],
 "metadata": {
  "kernelspec": {
   "display_name": "Python 3",
   "language": "python",
   "name": "python3"
  },
  "language_info": {
   "codemirror_mode": {
    "name": "ipython",
    "version": 3
   },
   "file_extension": ".py",
   "mimetype": "text/x-python",
   "name": "python",
   "nbconvert_exporter": "python",
   "pygments_lexer": "ipython3",
   "version": "3.11.7"
  },
  "toc": {
   "base_numbering": 1,
   "nav_menu": {},
   "number_sections": false,
   "sideBar": false,
   "skip_h1_title": false,
   "title_cell": "Table of Contents",
   "title_sidebar": "Contents",
   "toc_cell": false,
   "toc_position": {},
   "toc_section_display": false,
   "toc_window_display": false
  }
 },
 "nbformat": 4,
 "nbformat_minor": 4
}
