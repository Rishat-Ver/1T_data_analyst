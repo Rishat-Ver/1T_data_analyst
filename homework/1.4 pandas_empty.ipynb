{
 "cells": [
  {
   "cell_type": "markdown",
   "id": "fb022379",
   "metadata": {},
   "source": [
    "# <center>Объявления о продаже автомобилей в Германии<center>"
   ]
  },
  {
   "cell_type": "markdown",
   "id": "010744a6",
   "metadata": {},
   "source": [
    "Вам представлен датасет с объявлениями о продаже в Германии на 2022 год. Необходимо осмотреть первично данные и выполнить их предобработку, также сделать соответствующие выводы по полученной информации"
   ]
  },
  {
   "cell_type": "markdown",
   "id": "ed70e594",
   "metadata": {},
   "source": [
    "### Обзор данных"
   ]
  },
  {
   "cell_type": "markdown",
   "id": "9d7fd2ab",
   "metadata": {},
   "source": [
    "* `mileage` — Пройденное расстояние на автомобиле\n",
    "* `make` — Марка автомобиля\n",
    "* `model` — Модель автомобиля\n",
    "* `fuel` — Тип топлива\n",
    "* `gear` — Тип коробки передач\n",
    "* `offerType` — Тип предложения, то есть «Новые», «Демонстрационные» машины и т.д.\n",
    "* `price` — Цена продажи автомобиля в объявлении (в долларах)\n",
    "* `hp` — Количество лошадиных сил\n",
    "* `year` — Год производства автомобиля"
   ]
  },
  {
   "cell_type": "markdown",
   "id": "b515fc24",
   "metadata": {},
   "source": [
    "Импортируйте необходимые библиотеки"
   ]
  },
  {
   "cell_type": "code",
   "execution_count": 66,
   "id": "414df48c",
   "metadata": {},
   "outputs": [],
   "source": [
    "import pandas as pd\n",
    "import numpy as np"
   ]
  },
  {
   "cell_type": "markdown",
   "id": "bf6bbc88",
   "metadata": {},
   "source": [
    "### Загрузка данных"
   ]
  },
  {
   "cell_type": "markdown",
   "id": "62897a44",
   "metadata": {},
   "source": [
    "1. Загрузите необходимый датасет в переменную"
   ]
  },
  {
   "cell_type": "code",
   "execution_count": 67,
   "id": "18a0d110",
   "metadata": {},
   "outputs": [
    {
     "data": {
      "text/html": [
       "<div>\n",
       "<style scoped>\n",
       "    .dataframe tbody tr th:only-of-type {\n",
       "        vertical-align: middle;\n",
       "    }\n",
       "\n",
       "    .dataframe tbody tr th {\n",
       "        vertical-align: top;\n",
       "    }\n",
       "\n",
       "    .dataframe thead th {\n",
       "        text-align: right;\n",
       "    }\n",
       "</style>\n",
       "<table border=\"1\" class=\"dataframe\">\n",
       "  <thead>\n",
       "    <tr style=\"text-align: right;\">\n",
       "      <th></th>\n",
       "      <th>mileage</th>\n",
       "      <th>make</th>\n",
       "      <th>model</th>\n",
       "      <th>fuel</th>\n",
       "      <th>gear</th>\n",
       "      <th>offerType</th>\n",
       "      <th>price</th>\n",
       "      <th>hp</th>\n",
       "      <th>year</th>\n",
       "    </tr>\n",
       "  </thead>\n",
       "  <tbody>\n",
       "    <tr>\n",
       "      <th>0</th>\n",
       "      <td>235000</td>\n",
       "      <td>BMW</td>\n",
       "      <td>316</td>\n",
       "      <td>Diesel</td>\n",
       "      <td>Manual</td>\n",
       "      <td>Used</td>\n",
       "      <td>6800.0</td>\n",
       "      <td>116.0</td>\n",
       "      <td>2011</td>\n",
       "    </tr>\n",
       "    <tr>\n",
       "      <th>1</th>\n",
       "      <td>92800</td>\n",
       "      <td>Volkswagen</td>\n",
       "      <td>Golf</td>\n",
       "      <td>Gasoline</td>\n",
       "      <td>Manual</td>\n",
       "      <td>Used</td>\n",
       "      <td>6877.0</td>\n",
       "      <td>122.0</td>\n",
       "      <td>2011</td>\n",
       "    </tr>\n",
       "    <tr>\n",
       "      <th>2</th>\n",
       "      <td>149300</td>\n",
       "      <td>SEAT</td>\n",
       "      <td>Exeo</td>\n",
       "      <td>Gasoline</td>\n",
       "      <td>Manual</td>\n",
       "      <td>Used</td>\n",
       "      <td>6900.0</td>\n",
       "      <td>160.0</td>\n",
       "      <td>2011</td>\n",
       "    </tr>\n",
       "    <tr>\n",
       "      <th>3</th>\n",
       "      <td>96200</td>\n",
       "      <td>Renault</td>\n",
       "      <td>Megane</td>\n",
       "      <td>Gasoline</td>\n",
       "      <td>Manual</td>\n",
       "      <td>Used</td>\n",
       "      <td>6950.0</td>\n",
       "      <td>110.0</td>\n",
       "      <td>2011</td>\n",
       "    </tr>\n",
       "    <tr>\n",
       "      <th>4</th>\n",
       "      <td>156000</td>\n",
       "      <td>Peugeot</td>\n",
       "      <td>308</td>\n",
       "      <td>Gasoline</td>\n",
       "      <td>Manual</td>\n",
       "      <td>Used</td>\n",
       "      <td>6950.0</td>\n",
       "      <td>156.0</td>\n",
       "      <td>2011</td>\n",
       "    </tr>\n",
       "    <tr>\n",
       "      <th>...</th>\n",
       "      <td>...</td>\n",
       "      <td>...</td>\n",
       "      <td>...</td>\n",
       "      <td>...</td>\n",
       "      <td>...</td>\n",
       "      <td>...</td>\n",
       "      <td>...</td>\n",
       "      <td>...</td>\n",
       "      <td>...</td>\n",
       "    </tr>\n",
       "    <tr>\n",
       "      <th>46400</th>\n",
       "      <td>99</td>\n",
       "      <td>Fiat</td>\n",
       "      <td>500</td>\n",
       "      <td>Electric/Gasoline</td>\n",
       "      <td>Manual</td>\n",
       "      <td>Pre-registered</td>\n",
       "      <td>12990.0</td>\n",
       "      <td>71.0</td>\n",
       "      <td>2021</td>\n",
       "    </tr>\n",
       "    <tr>\n",
       "      <th>46401</th>\n",
       "      <td>99</td>\n",
       "      <td>Fiat</td>\n",
       "      <td>500</td>\n",
       "      <td>Electric/Gasoline</td>\n",
       "      <td>Manual</td>\n",
       "      <td>Pre-registered</td>\n",
       "      <td>12990.0</td>\n",
       "      <td>71.0</td>\n",
       "      <td>2021</td>\n",
       "    </tr>\n",
       "    <tr>\n",
       "      <th>46402</th>\n",
       "      <td>99</td>\n",
       "      <td>Fiat</td>\n",
       "      <td>500</td>\n",
       "      <td>Electric/Gasoline</td>\n",
       "      <td>Manual</td>\n",
       "      <td>Pre-registered</td>\n",
       "      <td>12990.0</td>\n",
       "      <td>71.0</td>\n",
       "      <td>2021</td>\n",
       "    </tr>\n",
       "    <tr>\n",
       "      <th>46403</th>\n",
       "      <td>99</td>\n",
       "      <td>Fiat</td>\n",
       "      <td>500</td>\n",
       "      <td>Electric/Gasoline</td>\n",
       "      <td>Manual</td>\n",
       "      <td>Pre-registered</td>\n",
       "      <td>12990.0</td>\n",
       "      <td>71.0</td>\n",
       "      <td>2021</td>\n",
       "    </tr>\n",
       "    <tr>\n",
       "      <th>46404</th>\n",
       "      <td>99</td>\n",
       "      <td>Fiat</td>\n",
       "      <td>500</td>\n",
       "      <td>Electric/Gasoline</td>\n",
       "      <td>Manual</td>\n",
       "      <td>Pre-registered</td>\n",
       "      <td>12990.0</td>\n",
       "      <td>71.0</td>\n",
       "      <td>2021</td>\n",
       "    </tr>\n",
       "  </tbody>\n",
       "</table>\n",
       "<p>46405 rows × 9 columns</p>\n",
       "</div>"
      ],
      "text/plain": [
       "       mileage        make   model               fuel    gear       offerType  \\\n",
       "0       235000         BMW     316             Diesel  Manual            Used   \n",
       "1        92800  Volkswagen    Golf           Gasoline  Manual            Used   \n",
       "2       149300        SEAT    Exeo           Gasoline  Manual            Used   \n",
       "3        96200     Renault  Megane           Gasoline  Manual            Used   \n",
       "4       156000     Peugeot     308           Gasoline  Manual            Used   \n",
       "...        ...         ...     ...                ...     ...             ...   \n",
       "46400       99        Fiat     500  Electric/Gasoline  Manual  Pre-registered   \n",
       "46401       99        Fiat     500  Electric/Gasoline  Manual  Pre-registered   \n",
       "46402       99        Fiat     500  Electric/Gasoline  Manual  Pre-registered   \n",
       "46403       99        Fiat     500  Electric/Gasoline  Manual  Pre-registered   \n",
       "46404       99        Fiat     500  Electric/Gasoline  Manual  Pre-registered   \n",
       "\n",
       "         price     hp  year  \n",
       "0       6800.0  116.0  2011  \n",
       "1       6877.0  122.0  2011  \n",
       "2       6900.0  160.0  2011  \n",
       "3       6950.0  110.0  2011  \n",
       "4       6950.0  156.0  2011  \n",
       "...        ...    ...   ...  \n",
       "46400  12990.0   71.0  2021  \n",
       "46401  12990.0   71.0  2021  \n",
       "46402  12990.0   71.0  2021  \n",
       "46403  12990.0   71.0  2021  \n",
       "46404  12990.0   71.0  2021  \n",
       "\n",
       "[46405 rows x 9 columns]"
      ]
     },
     "execution_count": 67,
     "metadata": {},
     "output_type": "execute_result"
    }
   ],
   "source": [
    "cars_df = pd.read_csv('germany_cars.csv')\n",
    "\n",
    "correct_cars_df = cars_df.copy() # Создал копию для работы с DataFrame\n",
    "correct_cars_df"
   ]
  },
  {
   "cell_type": "markdown",
   "id": "59248a9b",
   "metadata": {},
   "source": [
    "2. Проведите первичный осмотр данных при помощи известных вам методов(дополнительно можно использовать метод hist() для оценки распределений). Сделайте соответствующие выводы на основе полученной информации"
   ]
  },
  {
   "cell_type": "code",
   "execution_count": 68,
   "id": "2405c119",
   "metadata": {
    "scrolled": true
   },
   "outputs": [
    {
     "name": "stdout",
     "output_type": "stream",
     "text": [
      "(46405, 9)\n",
      "\n",
      "417645\n",
      "\n",
      "Index(['mileage', 'make', 'model', 'fuel', 'gear', 'offerType', 'price', 'hp',\n",
      "       'year'],\n",
      "      dtype='object')\n",
      "\n",
      "RangeIndex(start=0, stop=46405, step=1)\n",
      "\n",
      "16565.45\n",
      "\n",
      "            mileage         price            hp          year\n",
      "count  4.640500e+04  4.487200e+04  46376.000000  46405.000000\n",
      "mean   7.117786e+04  1.656545e+04    132.990987   2016.012951\n",
      "std    6.262531e+04  1.936315e+04     75.449284      3.155214\n",
      "min    0.000000e+00  1.100000e+03      1.000000   2011.000000\n",
      "25%    1.980000e+04  7.490000e+03     86.000000   2013.000000\n",
      "50%    6.000000e+04  1.099900e+04    116.000000   2016.000000\n",
      "75%    1.050000e+05  1.949000e+04    150.000000   2019.000000\n",
      "max    1.111111e+06  1.199900e+06    850.000000   2021.000000\n"
     ]
    },
    {
     "data": {
      "image/png": "[encoded data removed]",
      "text/plain": [
       "<Figure size 640x480 with 4 Axes>"
      ]
     },
     "metadata": {},
     "output_type": "display_data"
    }
   ],
   "source": [
    "shape = correct_cars_df.shape                                           # Размерность нашего DataFrame 46405\n",
    "size = correct_cars_df.size                                             # Количество элементов\n",
    "columns = correct_cars_df.columns                                       # Названия колонок\n",
    "string = correct_cars_df.index                                          # Значение индексов во строкам\n",
    "hist = correct_cars_df.hist(column=['mileage', 'price', 'hp', 'year'])  # Гистограммы числовых колонок\n",
    "mean_price_germany = round(correct_cars_df['price'].mean(), 2)          # Средняя цена автомобиля в Германии\n",
    "all_stat = correct_cars_df.describe()                                   # Общая статистика\n",
    "\n",
    "print(shape, size, columns, string, mean_price_germany, all_stat, sep='\\n\\n')\n"
   ]
  },
  {
   "cell_type": "markdown",
   "id": "338de16b",
   "metadata": {},
   "source": [
    "3. Переименуйте столбец `offerType` под стандартное название"
   ]
  },
  {
   "cell_type": "code",
   "execution_count": 69,
   "id": "2789eee4",
   "metadata": {},
   "outputs": [],
   "source": [
    "correct_cars_df = correct_cars_df.rename(columns={'offerType': 'offertype'})\n"
   ]
  },
  {
   "cell_type": "markdown",
   "id": "c2233e92",
   "metadata": {},
   "source": [
    "### Работа с дубликатами данных"
   ]
  },
  {
   "cell_type": "markdown",
   "id": "e000dc9b",
   "metadata": {},
   "source": [
    "4. Необходимо вывести на экран количество дублированных строк в данных, если таковые имеются, а также избавиться от них. Не забудьте сбросить индекс в датафрейме при необходимости."
   ]
  },
  {
   "cell_type": "code",
   "execution_count": 70,
   "id": "3af3f27b",
   "metadata": {},
   "outputs": [],
   "source": [
    "\n",
    "correct_cars_df = correct_cars_df.drop_duplicates()\n"
   ]
  },
  {
   "cell_type": "markdown",
   "id": "755d8add",
   "metadata": {},
   "source": [
    "### Работа с пропусками"
   ]
  },
  {
   "cell_type": "markdown",
   "id": "af8f2cd8",
   "metadata": {},
   "source": [
    "5. Выведите на экран количество пропусков в каждом столбце, опишите их, почему они могут возникнуть и как их возможно исправить"
   ]
  },
  {
   "cell_type": "code",
   "execution_count": 71,
   "id": "ac4e9021",
   "metadata": {},
   "outputs": [
    {
     "name": "stdout",
     "output_type": "stream",
     "text": [
      "model     137\n",
      "fuel      247\n",
      "gear      175\n",
      "price    1520\n",
      "hp         24\n",
      "dtype: int64\n"
     ]
    }
   ],
   "source": [
    "\n",
    "sir = correct_cars_df.isna().sum()\n",
    "str_nan = sir[sir > 0]\n",
    "\n",
    "print(str_nan)\n",
    "\n",
    "# Причины: машина продана, машины нет в наличие, отсутствие данных\n",
    "# Заполнить пропуски дефолтным значением"
   ]
  },
  {
   "cell_type": "markdown",
   "id": "cf38b8c0",
   "metadata": {},
   "source": [
    "6. Заполните пропуски в `model`,`fuel`,`gear`"
   ]
  },
  {
   "cell_type": "code",
   "execution_count": 72,
   "id": "ee7b5b29",
   "metadata": {},
   "outputs": [],
   "source": [
    "correct_cars_df[['model', 'fuel', 'gear']] = correct_cars_df[['model', 'fuel', 'gear']].fillna('Нет данных')\n"
   ]
  },
  {
   "cell_type": "markdown",
   "id": "34abbb3c",
   "metadata": {},
   "source": [
    "7. Удалите оставшиеся пропуски в столбцах `hp` и `price`."
   ]
  },
  {
   "cell_type": "code",
   "execution_count": 73,
   "id": "1ea4fbe9",
   "metadata": {},
   "outputs": [],
   "source": [
    "correct_cars_df['price'] = correct_cars_df['price'].fillna(correct_cars_df['price'].mean())\n",
    "correct_cars_df['hp'] = correct_cars_df['hp'].fillna(correct_cars_df['hp'].median())\n"
   ]
  },
  {
   "cell_type": "markdown",
   "id": "0b82e780",
   "metadata": {},
   "source": [
    "Проверьте, все ли пропуски точно удалились из датафрейма"
   ]
  },
  {
   "cell_type": "code",
   "execution_count": 74,
   "id": "dd60f423",
   "metadata": {
    "scrolled": true
   },
   "outputs": [
    {
     "data": {
      "text/plain": [
       "mileage      0\n",
       "make         0\n",
       "model        0\n",
       "fuel         0\n",
       "gear         0\n",
       "offertype    0\n",
       "price        0\n",
       "hp           0\n",
       "year         0\n",
       "dtype: int64"
      ]
     },
     "execution_count": 74,
     "metadata": {},
     "output_type": "execute_result"
    }
   ],
   "source": [
    "correct_cars_df.isna().sum()"
   ]
  },
  {
   "cell_type": "markdown",
   "id": "317d4936",
   "metadata": {},
   "source": [
    "8. Оцените количество уникальных марок автомобилей (производителей) с помощью метода unique() и выведите их количество числом (пожалуйста, не считайте вручную)"
   ]
  },
  {
   "cell_type": "code",
   "execution_count": 75,
   "id": "ec24e7b9",
   "metadata": {},
   "outputs": [
    {
     "name": "stdout",
     "output_type": "stream",
     "text": [
      "Кол-во уникальных марок: 77\n"
     ]
    }
   ],
   "source": [
    "count = correct_cars_df['make'].unique().size\n",
    "\n",
    "print(f'Кол-во уникальных марок: {count}')"
   ]
  },
  {
   "cell_type": "markdown",
   "id": "99d2f0d7",
   "metadata": {},
   "source": [
    "9. Выведите топ 20 марок автомобилей (производителей) по количеству объявлений с помощью метода value_counts()"
   ]
  },
  {
   "cell_type": "code",
   "execution_count": 76,
   "id": "0dcb3891",
   "metadata": {
    "scrolled": false
   },
   "outputs": [
    {
     "data": {
      "text/plain": [
       "make\n",
       "Volkswagen       6725\n",
       "Opel             4616\n",
       "Ford             4290\n",
       "Skoda            2755\n",
       "Renault          2704\n",
       "Audi             2559\n",
       "BMW              2373\n",
       "Mercedes-Benz    2281\n",
       "SEAT             1834\n",
       "Hyundai          1758\n",
       "Fiat             1504\n",
       "Peugeot          1182\n",
       "Toyota           1149\n",
       "Kia               968\n",
       "smart             937\n",
       "Citroen           924\n",
       "Volvo             778\n",
       "Nissan            730\n",
       "Mazda             699\n",
       "Dacia             666\n",
       "Name: count, dtype: int64"
      ]
     },
     "execution_count": 76,
     "metadata": {},
     "output_type": "execute_result"
    }
   ],
   "source": [
    "count_make = correct_cars_df['make'].value_counts().head(20)\n",
    "count_make"
   ]
  },
  {
   "cell_type": "markdown",
   "id": "12a24658",
   "metadata": {},
   "source": [
    "### Группировка данных"
   ]
  },
  {
   "cell_type": "markdown",
   "id": "dd49bf38",
   "metadata": {},
   "source": [
    "10. Сгруппируйте данные по столбцу `make`, выведите для каждого производителя среднюю стоимость их автомобиля, а также среднее число лошадиных сил и отсортируйте по убыванию столбца `price`. Отобразите только топ 20 самых дорогих производителей. Напишите вывод, всё ли в порядке с полученными данными или Вас что-то смущает"
   ]
  },
  {
   "cell_type": "code",
   "execution_count": 77,
   "id": "0f3c7394",
   "metadata": {},
   "outputs": [
    {
     "name": "stdout",
     "output_type": "stream",
     "text": [
      "Maybach\n",
      "Ferrari\n",
      "Lamborghini\n",
      "McLaren\n",
      "Bentley\n",
      "Aston\n",
      "Rolls-Royce\n",
      "Corvette\n",
      "Porsche\n",
      "FISKER\n",
      "Maserati\n",
      "Alpina\n",
      "Polestar\n",
      "Morgan\n",
      "Tesla\n",
      "Alpine\n",
      "Land\n",
      "RAM\n",
      "Cadillac\n",
      "Dodge\n"
     ]
    },
    {
     "data": {
      "text/html": [
       "<div>\n",
       "<style scoped>\n",
       "    .dataframe tbody tr th:only-of-type {\n",
       "        vertical-align: middle;\n",
       "    }\n",
       "\n",
       "    .dataframe tbody tr th {\n",
       "        vertical-align: top;\n",
       "    }\n",
       "\n",
       "    .dataframe thead th {\n",
       "        text-align: right;\n",
       "    }\n",
       "</style>\n",
       "<table border=\"1\" class=\"dataframe\">\n",
       "  <thead>\n",
       "    <tr style=\"text-align: right;\">\n",
       "      <th></th>\n",
       "      <th>price_mean</th>\n",
       "      <th>hp_mean</th>\n",
       "    </tr>\n",
       "    <tr>\n",
       "      <th>make</th>\n",
       "      <th></th>\n",
       "      <th></th>\n",
       "    </tr>\n",
       "  </thead>\n",
       "  <tbody>\n",
       "    <tr>\n",
       "      <th>Maybach</th>\n",
       "      <td>450479.333333</td>\n",
       "      <td>543.000000</td>\n",
       "    </tr>\n",
       "    <tr>\n",
       "      <th>Ferrari</th>\n",
       "      <td>324028.181818</td>\n",
       "      <td>693.909091</td>\n",
       "    </tr>\n",
       "    <tr>\n",
       "      <th>Lamborghini</th>\n",
       "      <td>305698.777778</td>\n",
       "      <td>690.111111</td>\n",
       "    </tr>\n",
       "    <tr>\n",
       "      <th>McLaren</th>\n",
       "      <td>194661.892801</td>\n",
       "      <td>646.636364</td>\n",
       "    </tr>\n",
       "    <tr>\n",
       "      <th>Bentley</th>\n",
       "      <td>168712.309441</td>\n",
       "      <td>554.866667</td>\n",
       "    </tr>\n",
       "    <tr>\n",
       "      <th>Aston</th>\n",
       "      <td>163442.960000</td>\n",
       "      <td>536.200000</td>\n",
       "    </tr>\n",
       "    <tr>\n",
       "      <th>Rolls-Royce</th>\n",
       "      <td>135446.940270</td>\n",
       "      <td>605.000000</td>\n",
       "    </tr>\n",
       "    <tr>\n",
       "      <th>Corvette</th>\n",
       "      <td>110160.000000</td>\n",
       "      <td>687.000000</td>\n",
       "    </tr>\n",
       "    <tr>\n",
       "      <th>Porsche</th>\n",
       "      <td>87962.465193</td>\n",
       "      <td>412.383621</td>\n",
       "    </tr>\n",
       "    <tr>\n",
       "      <th>FISKER</th>\n",
       "      <td>69900.000000</td>\n",
       "      <td>408.000000</td>\n",
       "    </tr>\n",
       "    <tr>\n",
       "      <th>Maserati</th>\n",
       "      <td>69118.818182</td>\n",
       "      <td>376.363636</td>\n",
       "    </tr>\n",
       "    <tr>\n",
       "      <th>Alpina</th>\n",
       "      <td>66046.300000</td>\n",
       "      <td>443.000000</td>\n",
       "    </tr>\n",
       "    <tr>\n",
       "      <th>Polestar</th>\n",
       "      <td>64150.000000</td>\n",
       "      <td>408.000000</td>\n",
       "    </tr>\n",
       "    <tr>\n",
       "      <th>Morgan</th>\n",
       "      <td>61950.000000</td>\n",
       "      <td>177.000000</td>\n",
       "    </tr>\n",
       "    <tr>\n",
       "      <th>Tesla</th>\n",
       "      <td>60852.513948</td>\n",
       "      <td>491.478261</td>\n",
       "    </tr>\n",
       "    <tr>\n",
       "      <th>Alpine</th>\n",
       "      <td>53783.000000</td>\n",
       "      <td>244.800000</td>\n",
       "    </tr>\n",
       "    <tr>\n",
       "      <th>Land</th>\n",
       "      <td>50008.416717</td>\n",
       "      <td>250.288344</td>\n",
       "    </tr>\n",
       "    <tr>\n",
       "      <th>RAM</th>\n",
       "      <td>47945.000000</td>\n",
       "      <td>401.000000</td>\n",
       "    </tr>\n",
       "    <tr>\n",
       "      <th>Cadillac</th>\n",
       "      <td>45032.142857</td>\n",
       "      <td>348.285714</td>\n",
       "    </tr>\n",
       "    <tr>\n",
       "      <th>Dodge</th>\n",
       "      <td>43732.818296</td>\n",
       "      <td>395.869565</td>\n",
       "    </tr>\n",
       "  </tbody>\n",
       "</table>\n",
       "</div>"
      ],
      "text/plain": [
       "                price_mean     hp_mean\n",
       "make                                  \n",
       "Maybach      450479.333333  543.000000\n",
       "Ferrari      324028.181818  693.909091\n",
       "Lamborghini  305698.777778  690.111111\n",
       "McLaren      194661.892801  646.636364\n",
       "Bentley      168712.309441  554.866667\n",
       "Aston        163442.960000  536.200000\n",
       "Rolls-Royce  135446.940270  605.000000\n",
       "Corvette     110160.000000  687.000000\n",
       "Porsche       87962.465193  412.383621\n",
       "FISKER        69900.000000  408.000000\n",
       "Maserati      69118.818182  376.363636\n",
       "Alpina        66046.300000  443.000000\n",
       "Polestar      64150.000000  408.000000\n",
       "Morgan        61950.000000  177.000000\n",
       "Tesla         60852.513948  491.478261\n",
       "Alpine        53783.000000  244.800000\n",
       "Land          50008.416717  250.288344\n",
       "RAM           47945.000000  401.000000\n",
       "Cadillac      45032.142857  348.285714\n",
       "Dodge         43732.818296  395.869565"
      ]
     },
     "execution_count": 77,
     "metadata": {},
     "output_type": "execute_result"
    }
   ],
   "source": [
    "# Вариант  один\n",
    "group_make = correct_cars_df.groupby(by='make').agg(price_mean=('price','mean'), hp_mean=('hp', 'mean'))\n",
    "print(*group_make['price_mean'].sort_values(ascending=False).head(20).index, sep='\\n')\n",
    "\n",
    "# Вариант  два\n",
    "group_make = group_make.nlargest(20, 'price_mean')\n",
    "group_make\n",
    "\n",
    "# Меня ничего не смущаяет , хочу Maserati"
   ]
  },
  {
   "cell_type": "markdown",
   "id": "ff63ebaf",
   "metadata": {},
   "source": [
    "11. Создайте новый столбец из `make` и `model` и выведите топ 10 самый дорогих и дешевых автомобилей с помощью средней стоимости"
   ]
  },
  {
   "cell_type": "code",
   "execution_count": 86,
   "id": "3c78b550",
   "metadata": {
    "scrolled": true
   },
   "outputs": [
    {
     "data": {
      "text/html": [
       "<div>\n",
       "<style scoped>\n",
       "    .dataframe tbody tr th:only-of-type {\n",
       "        vertical-align: middle;\n",
       "    }\n",
       "\n",
       "    .dataframe tbody tr th {\n",
       "        vertical-align: top;\n",
       "    }\n",
       "\n",
       "    .dataframe thead th {\n",
       "        text-align: right;\n",
       "    }\n",
       "</style>\n",
       "<table border=\"1\" class=\"dataframe\">\n",
       "  <thead>\n",
       "    <tr style=\"text-align: right;\">\n",
       "      <th></th>\n",
       "      <th>price_mean</th>\n",
       "    </tr>\n",
       "    <tr>\n",
       "      <th>make_model</th>\n",
       "      <th></th>\n",
       "    </tr>\n",
       "  </thead>\n",
       "  <tbody>\n",
       "    <tr>\n",
       "      <th>Ferrari-F12</th>\n",
       "      <td>1199900.0</td>\n",
       "    </tr>\n",
       "    <tr>\n",
       "      <th>Mercedes-Benz-S 650</th>\n",
       "      <td>717078.0</td>\n",
       "    </tr>\n",
       "    <tr>\n",
       "      <th>Maybach-Pullman</th>\n",
       "      <td>608439.0</td>\n",
       "    </tr>\n",
       "    <tr>\n",
       "      <th>Ferrari-812</th>\n",
       "      <td>439900.0</td>\n",
       "    </tr>\n",
       "    <tr>\n",
       "      <th>Aston-Martin</th>\n",
       "      <td>398000.0</td>\n",
       "    </tr>\n",
       "    <tr>\n",
       "      <th>Lamborghini-Aventador</th>\n",
       "      <td>371423.0</td>\n",
       "    </tr>\n",
       "    <tr>\n",
       "      <th>McLaren-675LT</th>\n",
       "      <td>297900.0</td>\n",
       "    </tr>\n",
       "    <tr>\n",
       "      <th>Ferrari-F8 Tributo</th>\n",
       "      <td>294417.0</td>\n",
       "    </tr>\n",
       "    <tr>\n",
       "      <th>Bentley-Flying Spur</th>\n",
       "      <td>251560.0</td>\n",
       "    </tr>\n",
       "    <tr>\n",
       "      <th>McLaren-720S</th>\n",
       "      <td>251145.0</td>\n",
       "    </tr>\n",
       "  </tbody>\n",
       "</table>\n",
       "</div>"
      ],
      "text/plain": [
       "                       price_mean\n",
       "make_model                       \n",
       "Ferrari-F12             1199900.0\n",
       "Mercedes-Benz-S 650      717078.0\n",
       "Maybach-Pullman          608439.0\n",
       "Ferrari-812              439900.0\n",
       "Aston-Martin             398000.0\n",
       "Lamborghini-Aventador    371423.0\n",
       "McLaren-675LT            297900.0\n",
       "Ferrari-F8 Tributo       294417.0\n",
       "Bentley-Flying Spur      251560.0\n",
       "McLaren-720S             251145.0"
      ]
     },
     "metadata": {},
     "output_type": "display_data"
    },
    {
     "data": {
      "text/html": [
       "<div>\n",
       "<style scoped>\n",
       "    .dataframe tbody tr th:only-of-type {\n",
       "        vertical-align: middle;\n",
       "    }\n",
       "\n",
       "    .dataframe tbody tr th {\n",
       "        vertical-align: top;\n",
       "    }\n",
       "\n",
       "    .dataframe thead th {\n",
       "        text-align: right;\n",
       "    }\n",
       "</style>\n",
       "<table border=\"1\" class=\"dataframe\">\n",
       "  <thead>\n",
       "    <tr style=\"text-align: right;\">\n",
       "      <th></th>\n",
       "      <th>price_mean</th>\n",
       "    </tr>\n",
       "    <tr>\n",
       "      <th>make_model</th>\n",
       "      <th></th>\n",
       "    </tr>\n",
       "  </thead>\n",
       "  <tbody>\n",
       "    <tr>\n",
       "      <th>Suzuki-Alto</th>\n",
       "      <td>3596.0</td>\n",
       "    </tr>\n",
       "    <tr>\n",
       "      <th>Daihatsu-Cuore</th>\n",
       "      <td>3495.0</td>\n",
       "    </tr>\n",
       "    <tr>\n",
       "      <th>Fiat-Linea</th>\n",
       "      <td>3400.0</td>\n",
       "    </tr>\n",
       "    <tr>\n",
       "      <th>Volkswagen-Fox</th>\n",
       "      <td>3011.0</td>\n",
       "    </tr>\n",
       "    <tr>\n",
       "      <th>Hyundai-Getz</th>\n",
       "      <td>2800.0</td>\n",
       "    </tr>\n",
       "    <tr>\n",
       "      <th>Trailer-Anhänger-Нет данных</th>\n",
       "      <td>2750.0</td>\n",
       "    </tr>\n",
       "    <tr>\n",
       "      <th>Volvo-Нет данных</th>\n",
       "      <td>2499.0</td>\n",
       "    </tr>\n",
       "    <tr>\n",
       "      <th>Others-Landwind</th>\n",
       "      <td>1850.0</td>\n",
       "    </tr>\n",
       "    <tr>\n",
       "      <th>Brilliance-BS4</th>\n",
       "      <td>1500.0</td>\n",
       "    </tr>\n",
       "    <tr>\n",
       "      <th>Lada-Priora</th>\n",
       "      <td>1190.0</td>\n",
       "    </tr>\n",
       "  </tbody>\n",
       "</table>\n",
       "</div>"
      ],
      "text/plain": [
       "                             price_mean\n",
       "make_model                             \n",
       "Suzuki-Alto                      3596.0\n",
       "Daihatsu-Cuore                   3495.0\n",
       "Fiat-Linea                       3400.0\n",
       "Volkswagen-Fox                   3011.0\n",
       "Hyundai-Getz                     2800.0\n",
       "Trailer-Anhänger-Нет данных      2750.0\n",
       "Volvo-Нет данных                 2499.0\n",
       "Others-Landwind                  1850.0\n",
       "Brilliance-BS4                   1500.0\n",
       "Lada-Priora                      1190.0"
      ]
     },
     "metadata": {},
     "output_type": "display_data"
    }
   ],
   "source": [
    "correct_cars_df['make_model'] = correct_cars_df['make'].str.cat(correct_cars_df['model'], sep='-')\n",
    "price_df = correct_cars_df.groupby(by='make_model').agg(price_mean=('price', 'mean')).sort_values('price_mean', ascending=False)\n",
    "price_df['price_mean'] = round(price_df['price_mean'])\n",
    "\n",
    "\n",
    "display(price_df.head(10))\n",
    "display(price_df.tail(10))"
   ]
  },
  {
   "cell_type": "markdown",
   "id": "3a22e922",
   "metadata": {},
   "source": [
    "12. Сделайте общий вывод о проделанной работе"
   ]
  },
  {
   "cell_type": "markdown",
   "id": "6bcc8c15",
   "metadata": {},
   "source": [
    "# В Германии крутые машины "
   ]
  }
 ],
 "metadata": {
  "kernelspec": {
   "display_name": "Python 3 (ipykernel)",
   "language": "python",
   "name": "python3"
  },
  "language_info": {
   "codemirror_mode": {
    "name": "ipython",
    "version": 3
   },
   "file_extension": ".py",
   "mimetype": "text/x-python",
   "name": "python",
   "nbconvert_exporter": "python",
   "pygments_lexer": "ipython3",
   "version": "3.11.7"
  }
 },
 "nbformat": 4,
 "nbformat_minor": 5
}
