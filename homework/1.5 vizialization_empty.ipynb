{
 "cells": [
  {
   "cell_type": "markdown",
   "id": "0c9a78ca",
   "metadata": {},
   "source": [
    "# <center>Визуализация данных<center>"
   ]
  },
  {
   "cell_type": "code",
   "execution_count": 1,
   "id": "0c36e4a6",
   "metadata": {},
   "outputs": [],
   "source": [
    "import matplotlib.pyplot as plt\n",
    "import seaborn as sns\n",
    "import pandas as pd\n",
    "import numpy as np #установите данную библиотеку"
   ]
  },
  {
   "cell_type": "markdown",
   "id": "df9a9b66",
   "metadata": {},
   "source": [
    "1. **Постройте график временного ряда , отображающий изменение температуры на протяжении недели. На графике должны быть отображены температуры на каждый день недели. Также небходимо дать корректные названия осям и самому графику (данное требование применимо ко всем заданиям)**"
   ]
  },
  {
   "cell_type": "code",
   "execution_count": 2,
   "id": "e1aade20",
   "metadata": {
    "scrolled": false
   },
   "outputs": [],
   "source": [
    "weekdays = ['Mon', 'Tue', 'Wed', 'Thu', 'Fri', 'Sat', 'Sun']\n",
    "temperatures = [20, 22, 25, 23, 24, 27, 26]"
   ]
  },
  {
   "cell_type": "markdown",
   "id": "e94f5f66",
   "metadata": {},
   "source": [
    "2. **Создайте `DataFrame` из предоставленных списков. Постройте scatterplot, отображающий зависимость размера скидки и количества проданных товаров. Необходимо выделить категории товаров разными маркерами и цветами. С данной задачей поможет параметр `hue`.**\n"
   ]
  },
  {
   "cell_type": "code",
   "execution_count": 3,
   "id": "e423b073",
   "metadata": {
    "scrolled": true
   },
   "outputs": [],
   "source": [
    "products = ['Shoes', 'Clothes', 'Accessories', 'Shoes', 'Clothes',\n",
    "            'Accessories', 'Shoes', 'Clothes', 'Accessories', 'Shoes', 'Clothes', 'Accessories']\n",
    "discounts = [10, 25, 15, 20, 30, 18, 5, 12, 20, 30, 22, 27]\n",
    "sales = [50, 75, 60, 55, 80, 70, 40, 65, 50, 75, 90, 85]\n"
   ]
  },
  {
   "cell_type": "markdown",
   "id": "a547e0aa",
   "metadata": {},
   "source": [
    "3. **Постройте тепловую карту, отображающую матрицу корреляций для предложенного датасета. Воспользуйтесь методом `corr()` к `DateFrame`**"
   ]
  },
  {
   "cell_type": "code",
   "execution_count": 4,
   "id": "02b89570",
   "metadata": {},
   "outputs": [],
   "source": [
    "df = pd.DataFrame({'col1': [1, 2, 7, 4, 56],\n",
    "                   'col2': [1, 19, 6, 13, -10],\n",
    "                   'col3': [2, 12, -9, 12, 15],\n",
    "                   'col4': [1, 8, 15, 16, 21],\n",
    "                   'col5': [7, 4, 3, 17, -3]})"
   ]
  },
  {
   "cell_type": "markdown",
   "id": "0d8aa111",
   "metadata": {},
   "source": [
    "4. **Постройте столбчатую диаграмму, отражающую количество продаж товара за последние 6 месяцев.**"
   ]
  },
  {
   "cell_type": "code",
   "execution_count": 5,
   "id": "a3bd0d9a",
   "metadata": {
    "scrolled": true
   },
   "outputs": [],
   "source": [
    "sales = pd.DataFrame({'Month': ['Jan', 'Feb', 'Mar', 'Apr', 'May', 'Jun'],\n",
    "                      'Sales': [350, 450, 600, 480, 750, 900]})"
   ]
  },
  {
   "cell_type": "markdown",
   "id": "235788db",
   "metadata": {},
   "source": [
    "5. **Необходимо построить boxplot, отображающий распределение значений для трех признаков в предложенном датасете.**"
   ]
  },
  {
   "cell_type": "code",
   "execution_count": 6,
   "id": "723a9f36",
   "metadata": {},
   "outputs": [],
   "source": [
    "data = pd.DataFrame({'col1': [1, 2, 3, 4, 5],\n",
    "                     'col2': [2, 4, 6, 8, 10],\n",
    "                     'col3': [3, 6, 9, 12, 15]})"
   ]
  },
  {
   "cell_type": "markdown",
   "id": "1a49c7de",
   "metadata": {},
   "source": [
    "6. **Вам нужно построить гистограмму для данных о температуре воздуха в городе за последнюю неделю.**"
   ]
  },
  {
   "cell_type": "code",
   "execution_count": 7,
   "id": "c90a7c3a",
   "metadata": {},
   "outputs": [],
   "source": [
    "# генерируем случайные данные о температуре в городе за последнюю неделю\n",
    "np.random.seed(42)\n",
    "data = pd.DataFrame({'Temperature': np.random.normal(15, 5, 100)})"
   ]
  },
  {
   "cell_type": "markdown",
   "id": "a3bf2989",
   "metadata": {},
   "source": [
    "7. **Вам предоставлены данные о продажах продуктов в магазине по категориям товаров. Ваша задача - построить круговую диаграмму, отображающую, какую долю продаж в магазине составляет каждая категория товаров.**"
   ]
  },
  {
   "cell_type": "code",
   "execution_count": 8,
   "id": "6125b8f7",
   "metadata": {},
   "outputs": [],
   "source": [
    "# создаем датафрейм с данными о продажах по категориям товаров\n",
    "df = pd.DataFrame({\n",
    "    'Category': ['Electronics', 'Apparel', 'Beauty', 'Grocery'],\n",
    "    'Sales': [25000, 20000, 15000, 30000]\n",
    "})"
   ]
  }
 ],
 "metadata": {
  "kernelspec": {
   "display_name": "Python 3 (ipykernel)",
   "language": "python",
   "name": "python3"
  },
  "language_info": {
   "codemirror_mode": {
    "name": "ipython",
    "version": 3
   },
   "file_extension": ".py",
   "mimetype": "text/x-python",
   "name": "python",
   "nbconvert_exporter": "python",
   "pygments_lexer": "ipython3",
   "version": "3.11.7"
  }
 },
 "nbformat": 4,
 "nbformat_minor": 5
}
