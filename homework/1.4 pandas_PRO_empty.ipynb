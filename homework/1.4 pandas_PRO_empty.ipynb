{
 "cells": [
  {
   "cell_type": "markdown",
   "id": "fb022379",
   "metadata": {},
   "source": [
    "# <center>Объявления о продаже автомобилей в Германии<center>"
   ]
  },
  {
   "cell_type": "markdown",
   "id": "010744a6",
   "metadata": {},
   "source": [
    "Вам представлен датасет с объявлениями о продаже в Германии на 2022 год. Необходимо осмотреть первично данные и выполнить их предобработку, также сделать соответствующие выводы по полученной информации"
   ]
  },
  {
   "cell_type": "markdown",
   "id": "ed70e594",
   "metadata": {},
   "source": [
    "### Обзор данных"
   ]
  },
  {
   "cell_type": "markdown",
   "id": "9d7fd2ab",
   "metadata": {},
   "source": [
    "* `mileage` — Пройденное расстояние на автомобиле\n",
    "* `make` — Марка автомобиля\n",
    "* `model` — Модель автомобиля\n",
    "* `fuel` — Тип топлива\n",
    "* `gear` — Тип коробки передач\n",
    "* `offerType` — Тип предложения, то есть «Новые», «Демонстрационные» машины и т.д.\n",
    "* `price` — Цена продажи автомобиля в объявлении (в долларах)\n",
    "* `hp` — Количество лошадиных сил\n",
    "* `year` — Год производства автомобиля"
   ]
  },
  {
   "cell_type": "markdown",
   "id": "b515fc24",
   "metadata": {},
   "source": [
    "Импортируйте необходимые библиотеки"
   ]
  },
  {
   "cell_type": "code",
   "execution_count": 75,
   "id": "3a256f82",
   "metadata": {},
   "outputs": [],
   "source": [
    "import pandas as pd\n",
    "import numpy as np\n",
    "\n",
    "from pprint import pprint"
   ]
  },
  {
   "cell_type": "markdown",
   "id": "bf6bbc88",
   "metadata": {},
   "source": [
    "### Загрузка данных"
   ]
  },
  {
   "cell_type": "markdown",
   "id": "62897a44",
   "metadata": {},
   "source": [
    "1. Загрузите необходимый датасет в переменную"
   ]
  },
  {
   "cell_type": "code",
   "execution_count": 76,
   "id": "18a0d110",
   "metadata": {},
   "outputs": [
    {
     "data": {
      "text/html": [
       "<div>\n",
       "<style scoped>\n",
       "    .dataframe tbody tr th:only-of-type {\n",
       "        vertical-align: middle;\n",
       "    }\n",
       "\n",
       "    .dataframe tbody tr th {\n",
       "        vertical-align: top;\n",
       "    }\n",
       "\n",
       "    .dataframe thead th {\n",
       "        text-align: right;\n",
       "    }\n",
       "</style>\n",
       "<table border=\"1\" class=\"dataframe\">\n",
       "  <thead>\n",
       "    <tr style=\"text-align: right;\">\n",
       "      <th></th>\n",
       "      <th>mileage</th>\n",
       "      <th>make</th>\n",
       "      <th>model</th>\n",
       "      <th>fuel</th>\n",
       "      <th>gear</th>\n",
       "      <th>offerType</th>\n",
       "      <th>price</th>\n",
       "      <th>hp</th>\n",
       "      <th>year</th>\n",
       "    </tr>\n",
       "  </thead>\n",
       "  <tbody>\n",
       "    <tr>\n",
       "      <th>0</th>\n",
       "      <td>235000</td>\n",
       "      <td>BMW</td>\n",
       "      <td>316</td>\n",
       "      <td>Diesel</td>\n",
       "      <td>Manual</td>\n",
       "      <td>Used</td>\n",
       "      <td>6800.0</td>\n",
       "      <td>116.0</td>\n",
       "      <td>2011</td>\n",
       "    </tr>\n",
       "    <tr>\n",
       "      <th>1</th>\n",
       "      <td>92800</td>\n",
       "      <td>Volkswagen</td>\n",
       "      <td>Golf</td>\n",
       "      <td>Gasoline</td>\n",
       "      <td>Manual</td>\n",
       "      <td>Used</td>\n",
       "      <td>6877.0</td>\n",
       "      <td>122.0</td>\n",
       "      <td>2011</td>\n",
       "    </tr>\n",
       "    <tr>\n",
       "      <th>2</th>\n",
       "      <td>149300</td>\n",
       "      <td>SEAT</td>\n",
       "      <td>Exeo</td>\n",
       "      <td>Gasoline</td>\n",
       "      <td>Manual</td>\n",
       "      <td>Used</td>\n",
       "      <td>6900.0</td>\n",
       "      <td>160.0</td>\n",
       "      <td>2011</td>\n",
       "    </tr>\n",
       "    <tr>\n",
       "      <th>3</th>\n",
       "      <td>96200</td>\n",
       "      <td>Renault</td>\n",
       "      <td>Megane</td>\n",
       "      <td>Gasoline</td>\n",
       "      <td>Manual</td>\n",
       "      <td>Used</td>\n",
       "      <td>6950.0</td>\n",
       "      <td>110.0</td>\n",
       "      <td>2011</td>\n",
       "    </tr>\n",
       "    <tr>\n",
       "      <th>4</th>\n",
       "      <td>156000</td>\n",
       "      <td>Peugeot</td>\n",
       "      <td>308</td>\n",
       "      <td>Gasoline</td>\n",
       "      <td>Manual</td>\n",
       "      <td>Used</td>\n",
       "      <td>6950.0</td>\n",
       "      <td>156.0</td>\n",
       "      <td>2011</td>\n",
       "    </tr>\n",
       "    <tr>\n",
       "      <th>...</th>\n",
       "      <td>...</td>\n",
       "      <td>...</td>\n",
       "      <td>...</td>\n",
       "      <td>...</td>\n",
       "      <td>...</td>\n",
       "      <td>...</td>\n",
       "      <td>...</td>\n",
       "      <td>...</td>\n",
       "      <td>...</td>\n",
       "    </tr>\n",
       "    <tr>\n",
       "      <th>46400</th>\n",
       "      <td>99</td>\n",
       "      <td>Fiat</td>\n",
       "      <td>500</td>\n",
       "      <td>Electric/Gasoline</td>\n",
       "      <td>Manual</td>\n",
       "      <td>Pre-registered</td>\n",
       "      <td>12990.0</td>\n",
       "      <td>71.0</td>\n",
       "      <td>2021</td>\n",
       "    </tr>\n",
       "    <tr>\n",
       "      <th>46401</th>\n",
       "      <td>99</td>\n",
       "      <td>Fiat</td>\n",
       "      <td>500</td>\n",
       "      <td>Electric/Gasoline</td>\n",
       "      <td>Manual</td>\n",
       "      <td>Pre-registered</td>\n",
       "      <td>12990.0</td>\n",
       "      <td>71.0</td>\n",
       "      <td>2021</td>\n",
       "    </tr>\n",
       "    <tr>\n",
       "      <th>46402</th>\n",
       "      <td>99</td>\n",
       "      <td>Fiat</td>\n",
       "      <td>500</td>\n",
       "      <td>Electric/Gasoline</td>\n",
       "      <td>Manual</td>\n",
       "      <td>Pre-registered</td>\n",
       "      <td>12990.0</td>\n",
       "      <td>71.0</td>\n",
       "      <td>2021</td>\n",
       "    </tr>\n",
       "    <tr>\n",
       "      <th>46403</th>\n",
       "      <td>99</td>\n",
       "      <td>Fiat</td>\n",
       "      <td>500</td>\n",
       "      <td>Electric/Gasoline</td>\n",
       "      <td>Manual</td>\n",
       "      <td>Pre-registered</td>\n",
       "      <td>12990.0</td>\n",
       "      <td>71.0</td>\n",
       "      <td>2021</td>\n",
       "    </tr>\n",
       "    <tr>\n",
       "      <th>46404</th>\n",
       "      <td>99</td>\n",
       "      <td>Fiat</td>\n",
       "      <td>500</td>\n",
       "      <td>Electric/Gasoline</td>\n",
       "      <td>Manual</td>\n",
       "      <td>Pre-registered</td>\n",
       "      <td>12990.0</td>\n",
       "      <td>71.0</td>\n",
       "      <td>2021</td>\n",
       "    </tr>\n",
       "  </tbody>\n",
       "</table>\n",
       "<p>46405 rows × 9 columns</p>\n",
       "</div>"
      ],
      "text/plain": [
       "       mileage        make   model               fuel    gear       offerType  \\\n",
       "0       235000         BMW     316             Diesel  Manual            Used   \n",
       "1        92800  Volkswagen    Golf           Gasoline  Manual            Used   \n",
       "2       149300        SEAT    Exeo           Gasoline  Manual            Used   \n",
       "3        96200     Renault  Megane           Gasoline  Manual            Used   \n",
       "4       156000     Peugeot     308           Gasoline  Manual            Used   \n",
       "...        ...         ...     ...                ...     ...             ...   \n",
       "46400       99        Fiat     500  Electric/Gasoline  Manual  Pre-registered   \n",
       "46401       99        Fiat     500  Electric/Gasoline  Manual  Pre-registered   \n",
       "46402       99        Fiat     500  Electric/Gasoline  Manual  Pre-registered   \n",
       "46403       99        Fiat     500  Electric/Gasoline  Manual  Pre-registered   \n",
       "46404       99        Fiat     500  Electric/Gasoline  Manual  Pre-registered   \n",
       "\n",
       "         price     hp  year  \n",
       "0       6800.0  116.0  2011  \n",
       "1       6877.0  122.0  2011  \n",
       "2       6900.0  160.0  2011  \n",
       "3       6950.0  110.0  2011  \n",
       "4       6950.0  156.0  2011  \n",
       "...        ...    ...   ...  \n",
       "46400  12990.0   71.0  2021  \n",
       "46401  12990.0   71.0  2021  \n",
       "46402  12990.0   71.0  2021  \n",
       "46403  12990.0   71.0  2021  \n",
       "46404  12990.0   71.0  2021  \n",
       "\n",
       "[46405 rows x 9 columns]"
      ]
     },
     "execution_count": 76,
     "metadata": {},
     "output_type": "execute_result"
    }
   ],
   "source": [
    "\n",
    "cars_df = pd.read_csv('../datasets/germany_cars.csv') # Исходный DataFrame\n",
    "\n",
    "my_cars_df = cars_df.copy() # DataFrame c которым буду работать\n",
    "\n",
    "my_cars_df"
   ]
  },
  {
   "cell_type": "markdown",
   "id": "59248a9b",
   "metadata": {},
   "source": [
    "2. Проведите первичный осмотр данных при помощи известных вам методов(дополнительно можно использовать метод hist() для оценки распределений). Сделайте соответствующие выводы на основе полученной информации"
   ]
  },
  {
   "cell_type": "code",
   "execution_count": 77,
   "id": "b6cb637b",
   "metadata": {
    "scrolled": false
   },
   "outputs": [
    {
     "name": "stdout",
     "output_type": "stream",
     "text": [
      "Размернось DataFrame: (46405, 9)\n",
      "\n",
      "Количество колонок: 9\n",
      "\n",
      "Количество строк: 46405\n",
      "\n",
      "Строковые индексы: RangeIndex(start=0, stop=46405, step=1)\n",
      "\n",
      "Название колонок: Index(['mileage', 'make', 'model', 'fuel', 'gear', 'offerType', 'price', 'hp',\n",
      "       'year'],\n",
      "      dtype='object')\n",
      "\n",
      "Колонки в которых есть пропуски: Index(['model', 'fuel', 'gear', 'price', 'hp'], dtype='object')\n",
      "\n",
      "\n",
      "{'fuel': dtype('O'),\n",
      " 'gear': dtype('O'),\n",
      " 'hp': dtype('float64'),\n",
      " 'make': dtype('O'),\n",
      " 'mileage': dtype('int64'),\n",
      " 'model': dtype('O'),\n",
      " 'offerType': dtype('O'),\n",
      " 'price': dtype('float64'),\n",
      " 'year': dtype('int64')}\n"
     ]
    }
   ],
   "source": [
    "# Поверхностная информация о данном DataFrame\n",
    "\n",
    "# my_cars_df.info()                                                      # Информация о DataFrame\n",
    "# hist = correct_cars_df.hist(column=['mileage', 'price', 'hp', 'year']) # В прошлом уроке сдавал\n",
    "\n",
    "size_colomn = my_cars_df.shape                                          # Размернось DataFrame\n",
    "count_colmn = size_colomn[1]                                            # Количество колонок\n",
    "count_row = size_colomn[0]                                              # Количество строк\n",
    "\n",
    "row_index = my_cars_df.index                                            # Строковые индексы\n",
    "colomn_index = my_cars_df.columns                                       # Название колонок\n",
    "\n",
    "colomn_is_nan = my_cars_df.columns[my_cars_df.isnull().any()]           # Колонки в которых есть пропуски\n",
    "\n",
    "colomn_type = {i: my_cars_df[i].dtype for i in my_cars_df.columns}      # Колонка: тип данных\n",
    "\n",
    "print(f\"Размернось DataFrame: {size_colomn}\\n\\n\"\n",
    "      f\"Количество колонок: {count_colmn}\\n\\n\"\n",
    "      f\"Количество строк: {count_row}\\n\\n\"\n",
    "      f\"Строковые индексы: {row_index}\\n\\n\"\n",
    "      f\"Название колонок: {colomn_index}\\n\\n\"\n",
    "      f\"Колонки в которых есть пропуски: {colomn_is_nan}\\n\\n\")\n",
    "\n",
    "pprint(colomn_type)"
   ]
  },
  {
   "cell_type": "markdown",
   "id": "338de16b",
   "metadata": {},
   "source": [
    "3. Переименуйте столбец `offerType` под стандартное название"
   ]
  },
  {
   "cell_type": "code",
   "execution_count": 78,
   "id": "2789eee4",
   "metadata": {},
   "outputs": [],
   "source": [
    "my_cars_df.rename(columns={'offerType': 'offertype'}, inplace=True)"
   ]
  },
  {
   "cell_type": "markdown",
   "id": "c2233e92",
   "metadata": {},
   "source": [
    "### Работа с дубликатами данных"
   ]
  },
  {
   "cell_type": "markdown",
   "id": "e000dc9b",
   "metadata": {},
   "source": [
    "4. Необходимо вывести на экран количество дублированных строк в данных, если таковые имеются, а также избавиться от них. Не забудьте сбросить индекс в датафрейме при необходимости."
   ]
  },
  {
   "cell_type": "code",
   "execution_count": 79,
   "id": "3af3f27b",
   "metadata": {},
   "outputs": [
    {
     "name": "stdout",
     "output_type": "stream",
     "text": [
      "Количество дублированных строк: 2003\n"
     ]
    }
   ],
   "source": [
    "count_dubl = my_cars_df.duplicated().sum()    # Считаем количество дублирующих строк\n",
    "my_cars_df.drop_duplicates(inplace=True)      # Удаляем дублирующие строки\n",
    "\n",
    "my_cars_df.reset_index(inplace=True)          # Сбрасываем индексы до стандартных\n",
    "del my_cars_df['index']\n",
    "\n",
    "print(f\"Количество дублированных строк: {count_dubl}\")  # 2003 , При повторном запуске будет 0. Данные уже перезаписанны"
   ]
  },
  {
   "cell_type": "markdown",
   "id": "755d8add",
   "metadata": {},
   "source": [
    "### Работа с пропусками"
   ]
  },
  {
   "cell_type": "markdown",
   "id": "af8f2cd8",
   "metadata": {},
   "source": [
    "5. Выведите на экран количество пропусков в каждом столбце, опишите их, почему они могут возникнуть и как их возможно исправить"
   ]
  },
  {
   "cell_type": "code",
   "execution_count": 80,
   "id": "ac4e9021",
   "metadata": {},
   "outputs": [
    {
     "name": "stdout",
     "output_type": "stream",
     "text": [
      "model     137\n",
      "fuel      247\n",
      "gear      175\n",
      "price    1520\n",
      "hp         24\n",
      "dtype: int64\n"
     ]
    }
   ],
   "source": [
    "check_colomn_is_nan = my_cars_df.isna().sum()\n",
    "only_colomn_is_nan = check_colomn_is_nan[check_colomn_is_nan > 0]\n",
    "\n",
    "print(only_colomn_is_nan)"
   ]
  },
  {
   "cell_type": "markdown",
   "id": "7e37e1a2",
   "metadata": {},
   "source": [
    "6. Заполните пропуски в `model`,`fuel`,`gear`"
   ]
  },
  {
   "cell_type": "code",
   "execution_count": 81,
   "id": "20d46aa5",
   "metadata": {},
   "outputs": [],
   "source": [
    "my_cars_df['model'] = my_cars_df['model'].fillna('Модель не указана')\n",
    "my_cars_df['fuel'] = my_cars_df['fuel'].fillna('92/95/100')\n",
    "my_cars_df['gear'] = my_cars_df['gear'].fillna('AT/MT')\n"
   ]
  },
  {
   "cell_type": "markdown",
   "id": "365ae615",
   "metadata": {},
   "source": [
    "## Работа с пропусками данных ПРО (желательно выполнить, но необязательно)"
   ]
  },
  {
   "cell_type": "markdown",
   "id": "563949ea",
   "metadata": {},
   "source": [
    "7. Необходимо заполнить пропуски в столбце `price` с помощью медианного значения по моделям автомобиля."
   ]
  },
  {
   "cell_type": "code",
   "execution_count": 82,
   "id": "b1ab679e",
   "metadata": {},
   "outputs": [],
   "source": [
    "median_model = my_cars_df.groupby('model')['price'].median()  # Находим медиану по каждой модели\n",
    "\n",
    "my_cars_df['price'] = my_cars_df.apply(lambda row: median_model[row['model']] if pd.isna(row['price']) else row['price'], axis=1) # Заполняем\n",
    "\n",
    "my_cars_df.loc[7] # Проверка на одной конкретной строчки\n",
    "\n",
    "my_cars_df[my_cars_df['price'].isna()]  # Не могу понять почему ути строки не заполнились (\n",
    "\n",
    "my_cars_df['price'] = my_cars_df['price'].fillna(10000) # Заполнил две строчки в ручную"
   ]
  },
  {
   "cell_type": "markdown",
   "id": "381c1367",
   "metadata": {},
   "source": [
    "## Продолжение базовых заданий"
   ]
  },
  {
   "cell_type": "markdown",
   "id": "34abbb3c",
   "metadata": {},
   "source": [
    "7. Если предыдущее задание показалось Вам сложным, то удалите оставшиеся пропуски."
   ]
  },
  {
   "cell_type": "code",
   "execution_count": 83,
   "id": "a7912a01",
   "metadata": {},
   "outputs": [
    {
     "name": "stdout",
     "output_type": "stream",
     "text": [
      "Оствшееся пропуски:\n",
      "\n",
      "mileage       0\n",
      "make          0\n",
      "model         0\n",
      "fuel          0\n",
      "gear          0\n",
      "offertype     0\n",
      "price         0\n",
      "hp           24\n",
      "year          0\n",
      "dtype: int64\n"
     ]
    }
   ],
   "source": [
    "print(f\"Оствшееся пропуски:\\n\\n{my_cars_df.isna().sum()}\")\n",
    "\n",
    "my_cars_df['hp'] = my_cars_df['hp'].fillna(0) # Заполнил нулями\n"
   ]
  },
  {
   "cell_type": "markdown",
   "id": "0b82e780",
   "metadata": {},
   "source": [
    "Проверьте, все ли пропуски точно удалились из датафрейма"
   ]
  },
  {
   "cell_type": "code",
   "execution_count": 84,
   "id": "991dcf83",
   "metadata": {},
   "outputs": [
    {
     "name": "stdout",
     "output_type": "stream",
     "text": [
      "Оствшееся пропуски:\n",
      "\n",
      "mileage      0\n",
      "make         0\n",
      "model        0\n",
      "fuel         0\n",
      "gear         0\n",
      "offertype    0\n",
      "price        0\n",
      "hp           0\n",
      "year         0\n",
      "dtype: int64\n"
     ]
    }
   ],
   "source": [
    "print(f\"Оствшееся пропуски:\\n\\n{my_cars_df.isna().sum()}\")"
   ]
  },
  {
   "cell_type": "markdown",
   "id": "317d4936",
   "metadata": {},
   "source": [
    "8. Оцените количество уникальных марок автомобилей (производителей) с помощью метода unique() и выведите их количество числом (пожалуйста, не считайте вручную)"
   ]
  },
  {
   "cell_type": "code",
   "execution_count": 85,
   "id": "d9d09afa",
   "metadata": {},
   "outputs": [
    {
     "name": "stdout",
     "output_type": "stream",
     "text": [
      "Кол-во уникальных марок: 77\n"
     ]
    }
   ],
   "source": [
    "count_make = my_cars_df['make'].unique().size\n",
    "\n",
    "print(f'Кол-во уникальных марок: {count_make}')"
   ]
  },
  {
   "cell_type": "markdown",
   "id": "99d2f0d7",
   "metadata": {},
   "source": [
    "9. Выведите топ 20 марок автомобилей (производителей) по количеству объявлений с помощью метода value_counts()"
   ]
  },
  {
   "cell_type": "code",
   "execution_count": 138,
   "id": "4d4213e5",
   "metadata": {},
   "outputs": [
    {
     "data": {
      "text/plain": [
       "make\n",
       "Volkswagen       6725\n",
       "Opel             4616\n",
       "Ford             4290\n",
       "Skoda            2755\n",
       "Renault          2704\n",
       "Audi             2559\n",
       "BMW              2373\n",
       "Mercedes-Benz    2281\n",
       "SEAT             1834\n",
       "Hyundai          1758\n",
       "Fiat             1504\n",
       "Peugeot          1182\n",
       "Toyota           1149\n",
       "Kia               968\n",
       "smart             937\n",
       "Citroen           924\n",
       "Volvo             778\n",
       "Nissan            730\n",
       "Mazda             699\n",
       "Dacia             666\n",
       "Name: count, dtype: int64"
      ]
     },
     "execution_count": 138,
     "metadata": {},
     "output_type": "execute_result"
    }
   ],
   "source": [
    "top_make = my_cars_df['make'].value_counts().head(20)\n",
    "top_make"
   ]
  },
  {
   "cell_type": "markdown",
   "id": "12a24658",
   "metadata": {},
   "source": [
    "### Группировка данных"
   ]
  },
  {
   "cell_type": "markdown",
   "id": "dd49bf38",
   "metadata": {},
   "source": [
    "10. Сгруппируйте данные по столбцу `make`, выведите для каждого производителя среднюю стоимость их автомобиля, а также среднее число лошадиных сил и отсортируйте по убыванию столбца `price`. Отобразите только топ 20 самых дорогих производителей. Напишите вывод, всё ли в порядке с полученными данными или Вас что-то смущает"
   ]
  },
  {
   "cell_type": "code",
   "execution_count": 87,
   "id": "2d531f49",
   "metadata": {},
   "outputs": [
    {
     "data": {
      "text/html": [
       "<div>\n",
       "<style scoped>\n",
       "    .dataframe tbody tr th:only-of-type {\n",
       "        vertical-align: middle;\n",
       "    }\n",
       "\n",
       "    .dataframe tbody tr th {\n",
       "        vertical-align: top;\n",
       "    }\n",
       "\n",
       "    .dataframe thead th {\n",
       "        text-align: right;\n",
       "    }\n",
       "</style>\n",
       "<table border=\"1\" class=\"dataframe\">\n",
       "  <thead>\n",
       "    <tr style=\"text-align: right;\">\n",
       "      <th></th>\n",
       "      <th>price_mean</th>\n",
       "      <th>hp_mean</th>\n",
       "    </tr>\n",
       "    <tr>\n",
       "      <th>make</th>\n",
       "      <th></th>\n",
       "      <th></th>\n",
       "    </tr>\n",
       "  </thead>\n",
       "  <tbody>\n",
       "    <tr>\n",
       "      <th>Maybach</th>\n",
       "      <td>450479.333333</td>\n",
       "      <td>543.000000</td>\n",
       "    </tr>\n",
       "    <tr>\n",
       "      <th>Ferrari</th>\n",
       "      <td>324028.181818</td>\n",
       "      <td>693.909091</td>\n",
       "    </tr>\n",
       "    <tr>\n",
       "      <th>Lamborghini</th>\n",
       "      <td>305698.777778</td>\n",
       "      <td>690.111111</td>\n",
       "    </tr>\n",
       "    <tr>\n",
       "      <th>McLaren</th>\n",
       "      <td>207538.181818</td>\n",
       "      <td>646.636364</td>\n",
       "    </tr>\n",
       "    <tr>\n",
       "      <th>Bentley</th>\n",
       "      <td>182383.966667</td>\n",
       "      <td>554.866667</td>\n",
       "    </tr>\n",
       "    <tr>\n",
       "      <th>Aston</th>\n",
       "      <td>163442.960000</td>\n",
       "      <td>536.200000</td>\n",
       "    </tr>\n",
       "    <tr>\n",
       "      <th>Rolls-Royce</th>\n",
       "      <td>133266.666667</td>\n",
       "      <td>605.000000</td>\n",
       "    </tr>\n",
       "    <tr>\n",
       "      <th>Corvette</th>\n",
       "      <td>110160.000000</td>\n",
       "      <td>687.000000</td>\n",
       "    </tr>\n",
       "    <tr>\n",
       "      <th>Porsche</th>\n",
       "      <td>90140.474138</td>\n",
       "      <td>412.383621</td>\n",
       "    </tr>\n",
       "    <tr>\n",
       "      <th>FISKER</th>\n",
       "      <td>69900.000000</td>\n",
       "      <td>408.000000</td>\n",
       "    </tr>\n",
       "    <tr>\n",
       "      <th>Maserati</th>\n",
       "      <td>69118.818182</td>\n",
       "      <td>376.363636</td>\n",
       "    </tr>\n",
       "    <tr>\n",
       "      <th>Alpina</th>\n",
       "      <td>66046.300000</td>\n",
       "      <td>443.000000</td>\n",
       "    </tr>\n",
       "    <tr>\n",
       "      <th>Polestar</th>\n",
       "      <td>64150.000000</td>\n",
       "      <td>408.000000</td>\n",
       "    </tr>\n",
       "    <tr>\n",
       "      <th>Tesla</th>\n",
       "      <td>62392.913043</td>\n",
       "      <td>491.478261</td>\n",
       "    </tr>\n",
       "    <tr>\n",
       "      <th>Morgan</th>\n",
       "      <td>61950.000000</td>\n",
       "      <td>177.000000</td>\n",
       "    </tr>\n",
       "    <tr>\n",
       "      <th>Alpine</th>\n",
       "      <td>53783.000000</td>\n",
       "      <td>244.800000</td>\n",
       "    </tr>\n",
       "    <tr>\n",
       "      <th>Land</th>\n",
       "      <td>51825.472393</td>\n",
       "      <td>250.288344</td>\n",
       "    </tr>\n",
       "    <tr>\n",
       "      <th>RAM</th>\n",
       "      <td>47945.000000</td>\n",
       "      <td>401.000000</td>\n",
       "    </tr>\n",
       "    <tr>\n",
       "      <th>Cadillac</th>\n",
       "      <td>45032.142857</td>\n",
       "      <td>348.285714</td>\n",
       "    </tr>\n",
       "    <tr>\n",
       "      <th>Dodge</th>\n",
       "      <td>44661.043478</td>\n",
       "      <td>395.869565</td>\n",
       "    </tr>\n",
       "  </tbody>\n",
       "</table>\n",
       "</div>"
      ],
      "text/plain": [
       "                price_mean     hp_mean\n",
       "make                                  \n",
       "Maybach      450479.333333  543.000000\n",
       "Ferrari      324028.181818  693.909091\n",
       "Lamborghini  305698.777778  690.111111\n",
       "McLaren      207538.181818  646.636364\n",
       "Bentley      182383.966667  554.866667\n",
       "Aston        163442.960000  536.200000\n",
       "Rolls-Royce  133266.666667  605.000000\n",
       "Corvette     110160.000000  687.000000\n",
       "Porsche       90140.474138  412.383621\n",
       "FISKER        69900.000000  408.000000\n",
       "Maserati      69118.818182  376.363636\n",
       "Alpina        66046.300000  443.000000\n",
       "Polestar      64150.000000  408.000000\n",
       "Tesla         62392.913043  491.478261\n",
       "Morgan        61950.000000  177.000000\n",
       "Alpine        53783.000000  244.800000\n",
       "Land          51825.472393  250.288344\n",
       "RAM           47945.000000  401.000000\n",
       "Cadillac      45032.142857  348.285714\n",
       "Dodge         44661.043478  395.869565"
      ]
     },
     "execution_count": 87,
     "metadata": {},
     "output_type": "execute_result"
    }
   ],
   "source": [
    "group_make = my_cars_df.groupby(by='make').agg(price_mean=('price','mean'), hp_mean=('hp', 'mean'))\n",
    "group_make = group_make.nlargest(20, 'price_mean')\n",
    "group_make"
   ]
  },
  {
   "cell_type": "markdown",
   "id": "ff63ebaf",
   "metadata": {},
   "source": [
    "11. Создайте новый столбец из `make` и `model` и выведите топ 10 самый дорогих и дешевых автомобилей с помощью средней стоимости"
   ]
  },
  {
   "cell_type": "code",
   "execution_count": 88,
   "id": "0242a03a",
   "metadata": {},
   "outputs": [
    {
     "data": {
      "text/html": [
       "<div>\n",
       "<style scoped>\n",
       "    .dataframe tbody tr th:only-of-type {\n",
       "        vertical-align: middle;\n",
       "    }\n",
       "\n",
       "    .dataframe tbody tr th {\n",
       "        vertical-align: top;\n",
       "    }\n",
       "\n",
       "    .dataframe thead th {\n",
       "        text-align: right;\n",
       "    }\n",
       "</style>\n",
       "<table border=\"1\" class=\"dataframe\">\n",
       "  <thead>\n",
       "    <tr style=\"text-align: right;\">\n",
       "      <th></th>\n",
       "      <th>price_mean</th>\n",
       "    </tr>\n",
       "    <tr>\n",
       "      <th>make_model</th>\n",
       "      <th></th>\n",
       "    </tr>\n",
       "  </thead>\n",
       "  <tbody>\n",
       "    <tr>\n",
       "      <th>Ferrari-F12</th>\n",
       "      <td>1199900.0</td>\n",
       "    </tr>\n",
       "    <tr>\n",
       "      <th>Mercedes-Benz-S 650</th>\n",
       "      <td>717078.0</td>\n",
       "    </tr>\n",
       "    <tr>\n",
       "      <th>Maybach-Pullman</th>\n",
       "      <td>608439.0</td>\n",
       "    </tr>\n",
       "    <tr>\n",
       "      <th>Ferrari-812</th>\n",
       "      <td>439900.0</td>\n",
       "    </tr>\n",
       "    <tr>\n",
       "      <th>Aston-Martin</th>\n",
       "      <td>398000.0</td>\n",
       "    </tr>\n",
       "    <tr>\n",
       "      <th>Lamborghini-Aventador</th>\n",
       "      <td>371423.0</td>\n",
       "    </tr>\n",
       "    <tr>\n",
       "      <th>McLaren-675LT</th>\n",
       "      <td>297900.0</td>\n",
       "    </tr>\n",
       "    <tr>\n",
       "      <th>Ferrari-F8 Tributo</th>\n",
       "      <td>294417.0</td>\n",
       "    </tr>\n",
       "    <tr>\n",
       "      <th>Bentley-Flying Spur</th>\n",
       "      <td>251560.0</td>\n",
       "    </tr>\n",
       "    <tr>\n",
       "      <th>McLaren-720S</th>\n",
       "      <td>251145.0</td>\n",
       "    </tr>\n",
       "  </tbody>\n",
       "</table>\n",
       "</div>"
      ],
      "text/plain": [
       "                       price_mean\n",
       "make_model                       \n",
       "Ferrari-F12             1199900.0\n",
       "Mercedes-Benz-S 650      717078.0\n",
       "Maybach-Pullman          608439.0\n",
       "Ferrari-812              439900.0\n",
       "Aston-Martin             398000.0\n",
       "Lamborghini-Aventador    371423.0\n",
       "McLaren-675LT            297900.0\n",
       "Ferrari-F8 Tributo       294417.0\n",
       "Bentley-Flying Spur      251560.0\n",
       "McLaren-720S             251145.0"
      ]
     },
     "metadata": {},
     "output_type": "display_data"
    },
    {
     "data": {
      "text/html": [
       "<div>\n",
       "<style scoped>\n",
       "    .dataframe tbody tr th:only-of-type {\n",
       "        vertical-align: middle;\n",
       "    }\n",
       "\n",
       "    .dataframe tbody tr th {\n",
       "        vertical-align: top;\n",
       "    }\n",
       "\n",
       "    .dataframe thead th {\n",
       "        text-align: right;\n",
       "    }\n",
       "</style>\n",
       "<table border=\"1\" class=\"dataframe\">\n",
       "  <thead>\n",
       "    <tr style=\"text-align: right;\">\n",
       "      <th></th>\n",
       "      <th>price_mean</th>\n",
       "    </tr>\n",
       "    <tr>\n",
       "      <th>make_model</th>\n",
       "      <th></th>\n",
       "    </tr>\n",
       "  </thead>\n",
       "  <tbody>\n",
       "    <tr>\n",
       "      <th>Daihatsu-Cuore</th>\n",
       "      <td>3495.0</td>\n",
       "    </tr>\n",
       "    <tr>\n",
       "      <th>Fiat-Linea</th>\n",
       "      <td>3400.0</td>\n",
       "    </tr>\n",
       "    <tr>\n",
       "      <th>Peugeot-206</th>\n",
       "      <td>3366.0</td>\n",
       "    </tr>\n",
       "    <tr>\n",
       "      <th>Volkswagen-Fox</th>\n",
       "      <td>3011.0</td>\n",
       "    </tr>\n",
       "    <tr>\n",
       "      <th>Hyundai-Getz</th>\n",
       "      <td>2800.0</td>\n",
       "    </tr>\n",
       "    <tr>\n",
       "      <th>Trailer-Anhänger-Модель не указана</th>\n",
       "      <td>2750.0</td>\n",
       "    </tr>\n",
       "    <tr>\n",
       "      <th>Volvo-Модель не указана</th>\n",
       "      <td>2499.0</td>\n",
       "    </tr>\n",
       "    <tr>\n",
       "      <th>Others-Landwind</th>\n",
       "      <td>1850.0</td>\n",
       "    </tr>\n",
       "    <tr>\n",
       "      <th>Brilliance-BS4</th>\n",
       "      <td>1500.0</td>\n",
       "    </tr>\n",
       "    <tr>\n",
       "      <th>Lada-Priora</th>\n",
       "      <td>1190.0</td>\n",
       "    </tr>\n",
       "  </tbody>\n",
       "</table>\n",
       "</div>"
      ],
      "text/plain": [
       "                                    price_mean\n",
       "make_model                                    \n",
       "Daihatsu-Cuore                          3495.0\n",
       "Fiat-Linea                              3400.0\n",
       "Peugeot-206                             3366.0\n",
       "Volkswagen-Fox                          3011.0\n",
       "Hyundai-Getz                            2800.0\n",
       "Trailer-Anhänger-Модель не указана      2750.0\n",
       "Volvo-Модель не указана                 2499.0\n",
       "Others-Landwind                         1850.0\n",
       "Brilliance-BS4                          1500.0\n",
       "Lada-Priora                             1190.0"
      ]
     },
     "metadata": {},
     "output_type": "display_data"
    }
   ],
   "source": [
    "my_cars_df['make_model'] = my_cars_df['make'].str.cat(my_cars_df['model'], sep='-')\n",
    "price_df = my_cars_df.groupby(by='make_model').agg(price_mean=('price', 'mean')).sort_values('price_mean', ascending=False)\n",
    "price_df['price_mean'] = round(price_df['price_mean'])\n",
    "\n",
    "\n",
    "display(price_df.head(10))\n",
    "display(price_df.tail(10))"
   ]
  },
  {
   "cell_type": "markdown",
   "id": "fce6792b",
   "metadata": {},
   "source": [
    "## Задания ПРО (желательно выполнить, но необязательно)"
   ]
  },
  {
   "cell_type": "markdown",
   "id": "6c80441b",
   "metadata": {},
   "source": [
    "12. Выведите информацию о DataFrame с помощью метода describe() для категориальных данных , кратко опишите выведенную информацию"
   ]
  },
  {
   "cell_type": "code",
   "execution_count": 89,
   "id": "4d4d79a3",
   "metadata": {},
   "outputs": [
    {
     "name": "stdout",
     "output_type": "stream",
     "text": [
      "              make  model      fuel    gear offertype       make_model\n",
      "count        44402  44402     44402   44402     44402            44402\n",
      "unique          77    842        12       4         5              884\n",
      "top     Volkswagen   Golf  Gasoline  Manual      Used  Volkswagen-Golf\n",
      "freq          6725   1458     27311   28920     38935             1458\n",
      "\n",
      "            mileage          year\n",
      "count  4.440200e+04  44402.000000\n",
      "mean   7.221993e+04   2015.936061\n",
      "std    6.237677e+04      3.121481\n",
      "min    0.000000e+00   2011.000000\n",
      "25%    2.131350e+04   2013.000000\n",
      "50%    6.105050e+04   2016.000000\n",
      "75%    1.060000e+05   2019.000000\n",
      "max    1.111111e+06   2021.000000\n",
      "\n",
      "              price            hp\n",
      "count  4.440200e+04  44402.000000\n",
      "mean   1.649862e+04    133.493379\n",
      "std    1.937145e+04     75.396138\n",
      "min    1.100000e+03      0.000000\n",
      "25%    7.499000e+03     86.000000\n",
      "50%    1.099000e+04    116.000000\n",
      "75%    1.946675e+04    150.000000\n",
      "max    1.199900e+06    850.000000\n"
     ]
    }
   ],
   "source": [
    "object_category = my_cars_df.describe(include='object')\n",
    "\n",
    "int_category = my_cars_df.describe(include='int64')\n",
    "\n",
    "float_category = my_cars_df.describe(include='float64')\n",
    "\n",
    "print(object_category, int_category, float_category, sep='\\n\\n')"
   ]
  },
  {
   "cell_type": "markdown",
   "id": "c5b6cfdb",
   "metadata": {},
   "source": [
    "13. Выведите на экран все BMW с пробегом меньше 1000 миль и годом производства после 2020 включительно, то есть, новые автомобили. Какие выводы можно сделать?"
   ]
  },
  {
   "cell_type": "code",
   "execution_count": 90,
   "id": "321618bd",
   "metadata": {},
   "outputs": [
    {
     "data": {
      "text/html": [
       "<div>\n",
       "<style scoped>\n",
       "    .dataframe tbody tr th:only-of-type {\n",
       "        vertical-align: middle;\n",
       "    }\n",
       "\n",
       "    .dataframe tbody tr th {\n",
       "        vertical-align: top;\n",
       "    }\n",
       "\n",
       "    .dataframe thead th {\n",
       "        text-align: right;\n",
       "    }\n",
       "</style>\n",
       "<table border=\"1\" class=\"dataframe\">\n",
       "  <thead>\n",
       "    <tr style=\"text-align: right;\">\n",
       "      <th></th>\n",
       "      <th>mileage</th>\n",
       "      <th>make</th>\n",
       "      <th>model</th>\n",
       "      <th>fuel</th>\n",
       "      <th>gear</th>\n",
       "      <th>offertype</th>\n",
       "      <th>price</th>\n",
       "      <th>hp</th>\n",
       "      <th>year</th>\n",
       "      <th>make_model</th>\n",
       "    </tr>\n",
       "  </thead>\n",
       "  <tbody>\n",
       "    <tr>\n",
       "      <th>1587</th>\n",
       "      <td>50</td>\n",
       "      <td>BMW</td>\n",
       "      <td>320</td>\n",
       "      <td>Gasoline</td>\n",
       "      <td>Automatic</td>\n",
       "      <td>Used</td>\n",
       "      <td>33950.0</td>\n",
       "      <td>184.0</td>\n",
       "      <td>2020</td>\n",
       "      <td>BMW-320</td>\n",
       "    </tr>\n",
       "    <tr>\n",
       "      <th>5665</th>\n",
       "      <td>25</td>\n",
       "      <td>BMW</td>\n",
       "      <td>330</td>\n",
       "      <td>Electric/Gasoline</td>\n",
       "      <td>Automatic</td>\n",
       "      <td>Demonstration</td>\n",
       "      <td>54680.0</td>\n",
       "      <td>292.0</td>\n",
       "      <td>2021</td>\n",
       "      <td>BMW-330</td>\n",
       "    </tr>\n",
       "    <tr>\n",
       "      <th>5670</th>\n",
       "      <td>25</td>\n",
       "      <td>BMW</td>\n",
       "      <td>X5</td>\n",
       "      <td>Electric/Gasoline</td>\n",
       "      <td>Automatic</td>\n",
       "      <td>Demonstration</td>\n",
       "      <td>89980.0</td>\n",
       "      <td>394.0</td>\n",
       "      <td>2021</td>\n",
       "      <td>BMW-X5</td>\n",
       "    </tr>\n",
       "    <tr>\n",
       "      <th>10239</th>\n",
       "      <td>41</td>\n",
       "      <td>BMW</td>\n",
       "      <td>118</td>\n",
       "      <td>Gasoline</td>\n",
       "      <td>Manual</td>\n",
       "      <td>Employee's car</td>\n",
       "      <td>24960.0</td>\n",
       "      <td>136.0</td>\n",
       "      <td>2021</td>\n",
       "      <td>BMW-118</td>\n",
       "    </tr>\n",
       "    <tr>\n",
       "      <th>15032</th>\n",
       "      <td>10</td>\n",
       "      <td>BMW</td>\n",
       "      <td>X2</td>\n",
       "      <td>Gasoline</td>\n",
       "      <td>Automatic</td>\n",
       "      <td>Pre-registered</td>\n",
       "      <td>41450.0</td>\n",
       "      <td>178.0</td>\n",
       "      <td>2021</td>\n",
       "      <td>BMW-X2</td>\n",
       "    </tr>\n",
       "    <tr>\n",
       "      <th>18837</th>\n",
       "      <td>789</td>\n",
       "      <td>BMW</td>\n",
       "      <td>530</td>\n",
       "      <td>Gasoline</td>\n",
       "      <td>Automatic</td>\n",
       "      <td>Employee's car</td>\n",
       "      <td>51990.0</td>\n",
       "      <td>252.0</td>\n",
       "      <td>2020</td>\n",
       "      <td>BMW-530</td>\n",
       "    </tr>\n",
       "    <tr>\n",
       "      <th>27614</th>\n",
       "      <td>500</td>\n",
       "      <td>BMW</td>\n",
       "      <td>X5</td>\n",
       "      <td>Diesel</td>\n",
       "      <td>Automatic</td>\n",
       "      <td>Demonstration</td>\n",
       "      <td>81995.0</td>\n",
       "      <td>286.0</td>\n",
       "      <td>2021</td>\n",
       "      <td>BMW-X5</td>\n",
       "    </tr>\n",
       "    <tr>\n",
       "      <th>29229</th>\n",
       "      <td>5</td>\n",
       "      <td>BMW</td>\n",
       "      <td>730</td>\n",
       "      <td>Diesel</td>\n",
       "      <td>Automatic</td>\n",
       "      <td>Demonstration</td>\n",
       "      <td>89995.0</td>\n",
       "      <td>286.0</td>\n",
       "      <td>2021</td>\n",
       "      <td>BMW-730</td>\n",
       "    </tr>\n",
       "    <tr>\n",
       "      <th>29235</th>\n",
       "      <td>600</td>\n",
       "      <td>BMW</td>\n",
       "      <td>X5 M</td>\n",
       "      <td>Gasoline</td>\n",
       "      <td>Automatic</td>\n",
       "      <td>Demonstration</td>\n",
       "      <td>71800.0</td>\n",
       "      <td>625.0</td>\n",
       "      <td>2021</td>\n",
       "      <td>BMW-X5 M</td>\n",
       "    </tr>\n",
       "    <tr>\n",
       "      <th>31782</th>\n",
       "      <td>250</td>\n",
       "      <td>BMW</td>\n",
       "      <td>X1</td>\n",
       "      <td>Gasoline</td>\n",
       "      <td>Manual</td>\n",
       "      <td>Demonstration</td>\n",
       "      <td>29260.0</td>\n",
       "      <td>136.0</td>\n",
       "      <td>2021</td>\n",
       "      <td>BMW-X1</td>\n",
       "    </tr>\n",
       "    <tr>\n",
       "      <th>42964</th>\n",
       "      <td>101</td>\n",
       "      <td>BMW</td>\n",
       "      <td>M4</td>\n",
       "      <td>Gasoline</td>\n",
       "      <td>Automatic</td>\n",
       "      <td>Demonstration</td>\n",
       "      <td>64450.0</td>\n",
       "      <td>450.0</td>\n",
       "      <td>2020</td>\n",
       "      <td>BMW-M4</td>\n",
       "    </tr>\n",
       "    <tr>\n",
       "      <th>44339</th>\n",
       "      <td>45</td>\n",
       "      <td>BMW</td>\n",
       "      <td>iX3</td>\n",
       "      <td>Electric</td>\n",
       "      <td>AT/MT</td>\n",
       "      <td>Used</td>\n",
       "      <td>58000.0</td>\n",
       "      <td>286.0</td>\n",
       "      <td>2021</td>\n",
       "      <td>BMW-iX3</td>\n",
       "    </tr>\n",
       "    <tr>\n",
       "      <th>44356</th>\n",
       "      <td>100</td>\n",
       "      <td>BMW</td>\n",
       "      <td>340</td>\n",
       "      <td>Gasoline</td>\n",
       "      <td>Automatic</td>\n",
       "      <td>Demonstration</td>\n",
       "      <td>82648.0</td>\n",
       "      <td>374.0</td>\n",
       "      <td>2021</td>\n",
       "      <td>BMW-340</td>\n",
       "    </tr>\n",
       "  </tbody>\n",
       "</table>\n",
       "</div>"
      ],
      "text/plain": [
       "       mileage make model               fuel       gear       offertype  \\\n",
       "1587        50  BMW   320           Gasoline  Automatic            Used   \n",
       "5665        25  BMW   330  Electric/Gasoline  Automatic   Demonstration   \n",
       "5670        25  BMW    X5  Electric/Gasoline  Automatic   Demonstration   \n",
       "10239       41  BMW   118           Gasoline     Manual  Employee's car   \n",
       "15032       10  BMW    X2           Gasoline  Automatic  Pre-registered   \n",
       "18837      789  BMW   530           Gasoline  Automatic  Employee's car   \n",
       "27614      500  BMW    X5             Diesel  Automatic   Demonstration   \n",
       "29229        5  BMW   730             Diesel  Automatic   Demonstration   \n",
       "29235      600  BMW  X5 M           Gasoline  Automatic   Demonstration   \n",
       "31782      250  BMW    X1           Gasoline     Manual   Demonstration   \n",
       "42964      101  BMW    M4           Gasoline  Automatic   Demonstration   \n",
       "44339       45  BMW   iX3           Electric      AT/MT            Used   \n",
       "44356      100  BMW   340           Gasoline  Automatic   Demonstration   \n",
       "\n",
       "         price     hp  year make_model  \n",
       "1587   33950.0  184.0  2020    BMW-320  \n",
       "5665   54680.0  292.0  2021    BMW-330  \n",
       "5670   89980.0  394.0  2021     BMW-X5  \n",
       "10239  24960.0  136.0  2021    BMW-118  \n",
       "15032  41450.0  178.0  2021     BMW-X2  \n",
       "18837  51990.0  252.0  2020    BMW-530  \n",
       "27614  81995.0  286.0  2021     BMW-X5  \n",
       "29229  89995.0  286.0  2021    BMW-730  \n",
       "29235  71800.0  625.0  2021   BMW-X5 M  \n",
       "31782  29260.0  136.0  2021     BMW-X1  \n",
       "42964  64450.0  450.0  2020     BMW-M4  \n",
       "44339  58000.0  286.0  2021    BMW-iX3  \n",
       "44356  82648.0  374.0  2021    BMW-340  "
      ]
     },
     "execution_count": 90,
     "metadata": {},
     "output_type": "execute_result"
    }
   ],
   "source": [
    "my_cars_df[(my_cars_df['make'] == 'BMW') & (my_cars_df['mileage'] < 1000) & (my_cars_df['year'] >= 2020)]"
   ]
  },
  {
   "cell_type": "markdown",
   "id": "de874f4f",
   "metadata": {},
   "source": [
    "14. Напишите функцию, которая будет применена к столбцу `price` с помощью apply(). Она должна категоризировать машины по данному признаку на дорогие, средней ценовой категории и дешевые. (границы категорий подберите самостоятельно). Дополнительно выведите количество автомобилей в каждой новой категории."
   ]
  },
  {
   "cell_type": "code",
   "execution_count": 91,
   "id": "e48b0cec",
   "metadata": {},
   "outputs": [
    {
     "name": "stdout",
     "output_type": "stream",
     "text": [
      "Дешевых на рынке: 20096\n",
      "Средней стоимости на рынке: 19209\n",
      "Дорогих на рынке: 5022\n"
     ]
    }
   ],
   "source": [
    "def category_price(row):\n",
    "    '''Дешевая цена/Средняя цена/Дорогая цена.'''\n",
    "\n",
    "    if row['price'] < 10000:\n",
    "        return 'Дешевая цена'\n",
    "    if 10000 < row['price'] < 30000:\n",
    "        return 'Средняя цена'\n",
    "    if row['price'] > 30000:\n",
    "        return 'Дорогая цена'\n",
    "\n",
    "\n",
    "my_cars_df['category_price'] = my_cars_df.apply(category_price, axis=1)\n",
    "\n",
    "count_cheap = my_cars_df[my_cars_df['category_price'] == 'Дешевая цена'].index.size\n",
    "count_medium = my_cars_df[my_cars_df['category_price'] == 'Средняя цена'].index.size\n",
    "count_expensive = my_cars_df[my_cars_df['category_price'] == 'Дорогая цена'].index.size\n",
    "\n",
    "print(f\"Дешевых на рынке: {count_cheap}\\n\"\n",
    "      f\"Средней стоимости на рынке: {count_medium}\\n\"\n",
    "      f\"Дорогих на рынке: {count_expensive}\")\n"
   ]
  },
  {
   "cell_type": "markdown",
   "id": "0346a0a4",
   "metadata": {},
   "source": [
    "15. Сделайте общий вывод о проделанной работе"
   ]
  },
  {
   "cell_type": "markdown",
   "id": "f54700b0",
   "metadata": {},
   "source": [
    "Мною был проанализированы данные о продажах автомобилей в Германии с помощью библиотеки **pandas**\n",
    "\n",
    "- Количество объявлений о продажах автомобилей c 2011 по 2022 год **46405** из них актуальных только **44401**\n",
    "- Разнообразие рынка **77** разных марок автомобилей\n",
    "- Самая популярная марка автомобиля на продаже: **Volkswagen**\n",
    "- Самые не леквидные:  **Trucks-Lkw**, **DAF**, **Zhidou**, **9ff**, **Brilliance**, **FISKER**, **Tazzari**, **Isuzu**\n",
    "- Средний пробег на продаваемые автомобили около **72219**\n",
    "- Самая дешевая машина продавалась в **2011** году , это был **Citroen С1** с пробегом **204000** , стоимостью **1100.0** \n",
    "- Самая дорогая машина продавалась в **2017** году , это был **Ferrari F12** с пробегом **431** , стоимостью **1199900.0** \n",
    "- Средняя стоимость автомобиля в эти года составляла **16498**\n",
    "- В среднем цена автомобиля росла с динамикой **+2150** , орентируясь на среднюю цену автомобиля\n",
    "- Лидеры по количеству объявлений по годам: \n",
    "    - С 2011 по 2020 года беспорным лидером по продажам автомобилей был **Volkswagen**\n",
    "    - На 2021 лидер **Skoda**\n",
    "- Состояния автомобилей на рынке:\n",
    "    - Used (Б/у): 38935\n",
    "    - Demonstration (Демонстрационное): 2256\n",
    "    - Pre-registered (Предрегистрационное): 2114\n",
    "    - Employee's car (Служебный автомобиль): 1086\n",
    "    - New (Новый): 11\n",
    "\n"
   ]
  }
 ],
 "metadata": {
  "kernelspec": {
   "display_name": "Python 3 (ipykernel)",
   "language": "python",
   "name": "python3"
  },
  "language_info": {
   "codemirror_mode": {
    "name": "ipython",
    "version": 3
   },
   "file_extension": ".py",
   "mimetype": "text/x-python",
   "name": "python",
   "nbconvert_exporter": "python",
   "pygments_lexer": "ipython3",
   "version": "3.11.7"
  }
 },
 "nbformat": 4,
 "nbformat_minor": 5
}
