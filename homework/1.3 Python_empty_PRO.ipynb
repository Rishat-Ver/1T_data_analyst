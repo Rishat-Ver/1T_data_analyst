{
 "cells": [
  {
   "cell_type": "markdown",
   "id": "67c33f49",
   "metadata": {},
   "source": [
    "## Задачи с типами данных"
   ]
  },
  {
   "cell_type": "markdown",
   "id": "c3f20f16",
   "metadata": {},
   "source": [
    "**1. Вам необходимо создать некоторую базу данных, в которую необходимо заложить свои любимые фильмы и сериалы в виде словаря, далее же в виде подсловаря указать название, год выпуска, имя режиссера и главных героев. В качестве подсказки того, как устроена наша база, предоставлены пример данных, а также пример вывода результата при обращении к нашей структуре.**"
   ]
  },
  {
   "cell_type": "markdown",
   "id": "c891251c",
   "metadata": {},
   "source": [
    "Пример данных в программе:\n",
    "```\n",
    "Введите информацию о первом фильме:\n",
    "Название: Зеленая миля\n",
    "Год выпуска: 1999\n",
    "Режиссер: Фрэнк Дарабонт\n",
    "Главный герой: Пол Эджкомб\n",
    "\n",
    "Введите информацию о втором фильме:\n",
    "Название: Криминальное чтиво\n",
    "Год выпуска: 1994\n",
    "Режиссер: Квентин Тарантино\n",
    "Главный герой: Винсент Вега\n",
    "\n",
    "Введите информацию о своем любимом сериале:\n",
    "Название: Игра престолов\n",
    "Год выпуска: 2011\n",
    "Режиссер: Дэвид Бениофф\n",
    "Главные герои: Джон Сноу, Ария Старк, Тирион Ланнистер\n",
    "```"
   ]
  },
  {
   "cell_type": "code",
   "execution_count": 1,
   "id": "ef6c920b",
   "metadata": {},
   "outputs": [
    {
     "name": "stdout",
     "output_type": "stream",
     "text": [
      "defaultdict(<class 'list'>,\n",
      "            {'Сериалы': [{'Главный герой': 'Алан Тейлор',\n",
      "                          'Год выпуска': 2010,\n",
      "                          'Название': 'Игра престолов',\n",
      "                          'Режиссер': 'Эмилия Кларк'},\n",
      "                         {'Главный герой': 'Дэвид Крейн',\n",
      "                          'Год выпуска': 1995,\n",
      "                          'Название': 'Друзья',\n",
      "                          'Режиссер': 'Дженифер Энистон'}],\n",
      "             'Фильмы': [{'Главный герой': 'Фрэнк Дарабонт',\n",
      "                         'Год выпуска': 1999,\n",
      "                         'Название': 'Зеленая миля',\n",
      "                         'Режиссер': 'Пол Эджкомб'},\n",
      "                        {'Главный герой': 'Квентин Тарантино',\n",
      "                         'Год выпуска': 1994,\n",
      "                         'Название': 'Криминальное чтиво',\n",
      "                         'Режиссер': 'Винсент Вега'}]})\n"
     ]
    }
   ],
   "source": [
    "from pprint import pprint\n",
    "from collections import defaultdict\n",
    "\n",
    "\n",
    "def post_db(db, ganre, keys, data):\n",
    "    '''Заполняем базу данных.'''\n",
    "\n",
    "    db[ganre].append(dict(zip(keys, data)))\n",
    "\n",
    "\n",
    "kino = defaultdict(list) # база занных\n",
    "\n",
    "keys = ['Название', 'Год выпуска', 'Режиссер', 'Главный герой']\n",
    "\n",
    "movies_1 = ['Зеленая миля', 1999, 'Пол Эджкомб', 'Фрэнк Дарабонт']\n",
    "movies_2 = ['Криминальное чтиво', 1994, 'Винсент Вега', 'Квентин Тарантино']\n",
    "\n",
    "series_1 = ['Игра престолов', 2010, 'Эмилия Кларк', 'Алан Тейлор']\n",
    "series_2 = ['Друзья', 1995, 'Дженифер Энистон', 'Дэвид Крейн']\n",
    "\n",
    "# Заполняем базу данных\n",
    "post_db(kino, 'Фильмы', keys, movies_1)\n",
    "post_db(kino, 'Фильмы', keys, movies_2)\n",
    "post_db(kino, 'Сериалы', keys, series_1)\n",
    "post_db(kino, 'Сериалы', keys, series_2)\n",
    "\n",
    "pprint(kino, width=100, indent=1) # распечатываем базу данных\n"
   ]
  },
  {
   "cell_type": "markdown",
   "id": "cbe0fc36",
   "metadata": {},
   "source": [
    "Пример вывода результата"
   ]
  },
  {
   "cell_type": "code",
   "execution_count": 2,
   "id": "17db4035",
   "metadata": {},
   "outputs": [
    {
     "data": {
      "text/plain": [
       "[{'Название': 'Зеленая миля',\n",
       "  'Год выпуска': 1999,\n",
       "  'Режиссер': 'Пол Эджкомб',\n",
       "  'Главный герой': 'Фрэнк Дарабонт'},\n",
       " {'Название': 'Криминальное чтиво',\n",
       "  'Год выпуска': 1994,\n",
       "  'Режиссер': 'Винсент Вега',\n",
       "  'Главный герой': 'Квентин Тарантино'}]"
      ]
     },
     "execution_count": 2,
     "metadata": {},
     "output_type": "execute_result"
    }
   ],
   "source": [
    "kino['Фильмы']"
   ]
  },
  {
   "cell_type": "code",
   "execution_count": 3,
   "id": "d8fc2b94",
   "metadata": {},
   "outputs": [
    {
     "data": {
      "text/plain": [
       "{'Название': 'Криминальное чтиво',\n",
       " 'Год выпуска': 1994,\n",
       " 'Режиссер': 'Винсент Вега',\n",
       " 'Главный герой': 'Квентин Тарантино'}"
      ]
     },
     "execution_count": 3,
     "metadata": {},
     "output_type": "execute_result"
    }
   ],
   "source": [
    "kino['Фильмы'][1]"
   ]
  },
  {
   "cell_type": "code",
   "execution_count": 4,
   "id": "d536e38d",
   "metadata": {},
   "outputs": [
    {
     "data": {
      "text/plain": [
       "'Алан Тейлор'"
      ]
     },
     "execution_count": 4,
     "metadata": {},
     "output_type": "execute_result"
    }
   ],
   "source": [
    "kino['Сериалы'][0]['Главный герой']"
   ]
  },
  {
   "cell_type": "markdown",
   "id": "12a5a06b",
   "metadata": {},
   "source": [
    "## Условный оператор if...else"
   ]
  },
  {
   "cell_type": "markdown",
   "id": "230cbdb2",
   "metadata": {},
   "source": [
    "**2. Напишите программу, которая на вход будет получать количество отработанных часов сотрудника и показатель производительности (воспользуйтесь методом `input`, изучите его самостоятельно, он предназначен для того, чтобы значения в него закладывались после выполнения ячейки с кодом). Количество отработанных часов должно быть не менее 40, а показатель производительности положительным, в случае удовлетворения необходимо посчитать эффективность работы сотрудника перемножив `время` * `производительность`, иначе же необходимо вывести замечание сотруднику**"
   ]
  },
  {
   "cell_type": "markdown",
   "id": "dd4da58f",
   "metadata": {},
   "source": [
    "Пример результата:"
   ]
  },
  {
   "cell_type": "markdown",
   "id": "eeddc572",
   "metadata": {},
   "source": [
    "```\n",
    "Введите количество отработанных часов: 42\n",
    "Введите показатель производительности: 5\n",
    "Эффективность работы сотрудника составляет 210.0 единиц в час\n",
    "```\n",
    "```\n",
    "Введите количество отработанных часов: 38\n",
    "Введите показатель производительности: 5\n",
    "Количество часов должно быть больше 40\n",
    "```"
   ]
  },
  {
   "cell_type": "code",
   "execution_count": 5,
   "id": "ba36355b",
   "metadata": {},
   "outputs": [
    {
     "name": "stdout",
     "output_type": "stream",
     "text": [
      "Эффективность работы сотрудника составляет 164 единиц в час\n"
     ]
    }
   ],
   "source": [
    "def work_efficiency(time, efficiency):\n",
    "    '''Проверка эффективности.'''\n",
    "    return time * efficiency\n",
    "\n",
    "\n",
    "def check_input(time, efficiency):\n",
    "    '''Проверка входных данных.'''\n",
    "\n",
    "    if time < 40 :\n",
    "        print('Количество часов должно быть больше 40')\n",
    "        return False\n",
    "    if efficiency < 0:\n",
    "        print('Показатель производительности не может быть отрицательным числом')\n",
    "        return False\n",
    "    return True\n",
    "\n",
    "\n",
    "time = int(input('Введите количество отработанных часов: '))\n",
    "efficiency = int(input('Введите показатель производительности: '))\n",
    "\n",
    "if check_input(time, efficiency):\n",
    "    effectiveness = work_efficiency(time, efficiency)\n",
    "    print(f\"Эффективность работы сотрудника составляет {effectiveness} единиц в час\")"
   ]
  },
  {
   "cell_type": "markdown",
   "id": "5be4d9fe",
   "metadata": {},
   "source": [
    "##  Цикл For"
   ]
  },
  {
   "cell_type": "markdown",
   "id": "04cbf8b6",
   "metadata": {},
   "source": [
    "**3. Напишите программу, которая после выполнения выдает список значений, удовлетворяющих теореме Пифагора (Переберите все возможные комбинации, где сумма всех чисел будет меньше 50)**"
   ]
  },
  {
   "cell_type": "code",
   "execution_count": 23,
   "id": "bb7f3590",
   "metadata": {},
   "outputs": [
    {
     "name": "stdout",
     "output_type": "stream",
     "text": [
      "Всего таких триплов у меня получилось: 6\n",
      "(6, 8, 10)\n",
      "(3, 4, 5)\n",
      "(8, 15, 17)\n",
      "(9, 12, 15)\n",
      "(5, 12, 13)\n",
      "(12, 16, 20)\n"
     ]
    }
   ],
   "source": [
    "def gen_sum():\n",
    "    '''Генерируем список из элементов , сумма которых меньше 50.'''\n",
    "\n",
    "    lst = []\n",
    "    for i in range(1, 51):\n",
    "        for j in range(1, 51):\n",
    "            for g in range(1, 51):\n",
    "                if sum((i, j, g)) < 50:\n",
    "                    lst.append((i, j, g))\n",
    "    return lst\n",
    "\n",
    "\n",
    "def check_pifagor(lst_sum_50):\n",
    "    '''Проверка теоремы Пифагора'''\n",
    "\n",
    "    result = []\n",
    "    for i in lst_sum_50:\n",
    "        a,b,c = i\n",
    "        if any([(a**2+b**2)**0.5 == c, (a**2+c**2)**0.5 == b, (b**2+c**2)**0.5 == a]):\n",
    "            result.append(i)\n",
    "    no_dubl_result = {i for i in [tuple(sorted(i)) for i in result]}\n",
    "    return no_dubl_result\n",
    "\n",
    "\n",
    "lst_sum_50 = gen_sum()\n",
    "result = check_pifagor(lst_sum_50)\n",
    "\n",
    "print(f\"Всего таких триплов у меня получилось: {len(result)}\")\n",
    "print(*result, sep='\\n')"
   ]
  },
  {
   "cell_type": "markdown",
   "id": "1a3a722c",
   "metadata": {},
   "source": [
    "##  Функции"
   ]
  },
  {
   "cell_type": "markdown",
   "id": "698f1fa3",
   "metadata": {},
   "source": [
    "**4. Напишите функцию для поиска наименьшего общего кратного (НОК) двух чисел. Функция должна принимать на вход два параметра и возвращать наименьшее общее кратное этих чисел**"
   ]
  },
  {
   "cell_type": "code",
   "execution_count": 7,
   "id": "c3481833",
   "metadata": {},
   "outputs": [
    {
     "name": "stdout",
     "output_type": "stream",
     "text": [
      "НОК чисел 5 и 12 равен: 60\n"
     ]
    }
   ],
   "source": [
    "def nok(number1, number2):\n",
    "    '''Нахождение НОК.'''\n",
    "\n",
    "    max_number = max((number1, number2))\n",
    "    step = 1\n",
    "    while True:\n",
    "\n",
    "        if step > 1000:\n",
    "            return f\"Я перебрал слишком много чисел, я устал\"\n",
    "\n",
    "        if all([max_number % number1 == 0, max_number % number2 == 0]):\n",
    "            return max_number\n",
    "        else:\n",
    "            max_number += step\n",
    "\n",
    "\n",
    "number1 = 5\n",
    "number2 = 12\n",
    "\n",
    "print(f\"НОК чисел {number1} и {number2} равен: {nok(number1, number2)}\")\n"
   ]
  }
 ],
 "metadata": {
  "kernelspec": {
   "display_name": "Python 3 (ipykernel)",
   "language": "python",
   "name": "python3"
  },
  "language_info": {
   "codemirror_mode": {
    "name": "ipython",
    "version": 3
   },
   "file_extension": ".py",
   "mimetype": "text/x-python",
   "name": "python",
   "nbconvert_exporter": "python",
   "pygments_lexer": "ipython3",
   "version": "3.11.7"
  }
 },
 "nbformat": 4,
 "nbformat_minor": 5
}
