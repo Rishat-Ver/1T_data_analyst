{
 "cells": [
  {
   "cell_type": "code",
   "execution_count": 185,
   "metadata": {},
   "outputs": [],
   "source": [
    "import pandas as pd\n",
    "import numpy as np\n",
    "import matplotlib.pyplot as plt\n",
    "from scipy import stats as st\n",
    "\n",
    "import math\n",
    "from random import normalvariate\n"
   ]
  },
  {
   "cell_type": "markdown",
   "metadata": {},
   "source": [
    "### Задача 1."
   ]
  },
  {
   "cell_type": "markdown",
   "metadata": {},
   "source": [
    "В револьвере вставлены два патрона подряд. Первый участник русской рулетки после выстрела остался жив. Что следует сделать второму участнику: случайно прокрутить барабан перед выстрелом или выстрелить сразу?"
   ]
  },
  {
   "cell_type": "markdown",
   "metadata": {},
   "source": [
    "В рамках решения этой задачи мы будем сравнивать 2 вероятности:\n",
    "- остаться в живых, если произвольно покрутил барабан\n",
    "- остаться в живых, если выстрелил сразу после первого участника\n",
    "\n",
    "Рассчитаем первую.  \n",
    "После выстрела в барабане с шестью ячейками все еще два патрона. Второй участник произвольно крутит барабан. Какова вероятность, что он останется в живых после выстрела? Рассчитайте вероятность, обозначьте ее p_1 и выведите значение этой переменной на экран."
   ]
  },
  {
   "cell_type": "code",
   "execution_count": 186,
   "metadata": {},
   "outputs": [
    {
     "name": "stdout",
     "output_type": "stream",
     "text": [
      "67.0 %\n"
     ]
    }
   ],
   "source": [
    "p_1 = 4/6\n",
    "print(f'{round(p_1, 2) * 100} %')"
   ]
  },
  {
   "cell_type": "markdown",
   "metadata": {},
   "source": [
    "Чтобы рассчитать вероятность второго события, сформируем множество всех элементарных исходов, обозначая 0 ячейки без путь и X ячейки с пулями:\n",
    "\n",
    "- X 0 0 0 0 X\n",
    "- 0 0 0 0 X X\n",
    "- 0 0 0 X X 0\n",
    "- 0 0 X X 0 0\n",
    "- 0 X X 0 0 0\n",
    "- X X 0 0 0 0\n",
    "\n",
    "Два из этих исходов невозможны с учетом, что один игрок уже выстрелил и остался в живых. Посчитайте количество оставшихся исходов, а также количество таких, при которых второй игрок выжевет. Рассчитайте итоговую вероятность выжить для второго игрока, если он не будет крутить барабан после первого, запишите ее в переменную p_2 и выведите ее значение на экран."
   ]
  },
  {
   "cell_type": "code",
   "execution_count": 187,
   "metadata": {},
   "outputs": [
    {
     "name": "stdout",
     "output_type": "stream",
     "text": [
      "75.0 %\n"
     ]
    }
   ],
   "source": [
    "p_2 = 1 - 1/4\n",
    "print(f'{round(p_2, 2) * 100} %')"
   ]
  },
  {
   "cell_type": "markdown",
   "metadata": {},
   "source": [
    "Сравните полученные вероятности и скажите, что лучше сделать второму игроку, чтобы выжить."
   ]
  },
  {
   "cell_type": "code",
   "execution_count": 188,
   "metadata": {},
   "outputs": [
    {
     "name": "stdout",
     "output_type": "stream",
     "text": [
      "Вероятность выжить у игрока , который не будет крутить барабан, после первого холостого выстрела - БОЛЬШЕ\n"
     ]
    }
   ],
   "source": [
    "print(f'Вероятность выжить у игрока , который не будет крутить барабан, после первого холостого выстрела - БОЛЬШЕ')"
   ]
  },
  {
   "cell_type": "markdown",
   "metadata": {},
   "source": [
    "### Задача 2. \n",
    "\n",
    "Вася пришел на автобусную остановку, чтобы поехать в гости к бабушке в деревню. Он знает, что вероятность того, что автобус приедет за 30 минут, составляет 95%. Но он решил столько не ждать, а вызвать такси, если автобус не приедет в течение пятнадцати минут. Какова вероятность, что Вася не поедет к бабушке на такси?"
   ]
  },
  {
   "cell_type": "markdown",
   "metadata": {},
   "source": [
    "Сначала давайте ответим на вопрос: какова вероятность того, что автобус НЕ приедет в течение 30 минут? Это событие является противоположным к событию \"автобус приедет в течение 30 минут\". Посчитайте эту вероятность и запишите в переменную p_1, а затем выведите ее значение на экран."
   ]
  },
  {
   "cell_type": "code",
   "execution_count": 189,
   "metadata": {},
   "outputs": [
    {
     "name": "stdout",
     "output_type": "stream",
     "text": [
      "5.0 %\n"
     ]
    }
   ],
   "source": [
    "p_1 = 1 - 0.95\n",
    "print(f'{round(p_1, 2) * 100} %')"
   ]
  },
  {
   "cell_type": "markdown",
   "metadata": {},
   "source": [
    "Теперь давайте порассуждаем. Чтобы случилось событие \"автобус не приедет в течение тридати минут\", должно произойти два события:\n",
    "- автобус не приезжает первые 15 минут\n",
    "- автобус не приезжает вторые 15 минут\n",
    "\n",
    "Все эти события независимы, то есть вероятность того, что случатся они все, равна произведению их вероятностей. Также их все можно переформулировать в \"автобус не приедет в течение 15 минут\". Обозначьте эту вероятность p_2, рассчитайте и выведите на экран."
   ]
  },
  {
   "cell_type": "code",
   "execution_count": 190,
   "metadata": {},
   "outputs": [
    {
     "name": "stdout",
     "output_type": "stream",
     "text": [
      "22.0 %\n"
     ]
    }
   ],
   "source": [
    "p_2 = math.sqrt(0.05)\n",
    "print(f'{round(p_2, 2) * 100} %')"
   ]
  },
  {
   "cell_type": "markdown",
   "metadata": {},
   "source": [
    "Мы знаем вероятность того, что автобус не приедет в течение 15 минут. Но нам нужна вероятность того, что Вася все таки поедет к бабушке на автобусе. Рассчитайте ее, запишите в переменную p_3 и выведите ее значение на экран."
   ]
  },
  {
   "cell_type": "code",
   "execution_count": 191,
   "metadata": {},
   "outputs": [
    {
     "name": "stdout",
     "output_type": "stream",
     "text": [
      "78.0 %\n"
     ]
    }
   ],
   "source": [
    "p_3 = 1 - p_2\n",
    "print(f'{round(p_3, 2) * 100} %')"
   ]
  },
  {
   "cell_type": "markdown",
   "metadata": {},
   "source": [
    "### Задача 3."
   ]
  },
  {
   "cell_type": "markdown",
   "metadata": {},
   "source": [
    "С помощью [данных](https://www.kaggle.com/datasets/burnoutminer/heights-and-weights-dataset) о весе людей в возрасте 18 лет ответьте на два вопроса:\n",
    "- у какой доли людей в этом возрасте вес не превышает 50кг?\n",
    "- какого веса не имеет 70 процентов людей?"
   ]
  },
  {
   "cell_type": "code",
   "execution_count": 192,
   "metadata": {},
   "outputs": [],
   "source": [
    "df = pd.read_csv('../datasets/SOCR-HeightWeight.csv')\n",
    "\n",
    "df['Height(Inches)'] = round(df['Height(Inches)'], 2)\n",
    "df['Weight(kg)'] = round(df['Weight(Pounds)'] * 0.4536, 2)\n",
    "\n",
    "del df['Weight(Pounds)']"
   ]
  },
  {
   "cell_type": "code",
   "execution_count": 193,
   "metadata": {},
   "outputs": [
    {
     "data": {
      "text/plain": [
       "<Axes: >"
      ]
     },
     "execution_count": 193,
     "metadata": {},
     "output_type": "execute_result"
    },
    {
     "data": {
      "image/png": "[encoded data removed]",
      "text/plain": [
       "<Figure size 500x300 with 1 Axes>"
      ]
     },
     "metadata": {},
     "output_type": "display_data"
    }
   ],
   "source": [
    "plt.figure(figsize=(5, 3))\n",
    "\n",
    "df['Weight(kg)'].hist(bins=30)"
   ]
  },
  {
   "cell_type": "code",
   "execution_count": 194,
   "metadata": {},
   "outputs": [
    {
     "data": {
      "text/plain": [
       "<Axes: >"
      ]
     },
     "execution_count": 194,
     "metadata": {},
     "output_type": "execute_result"
    },
    {
     "data": {
      "image/png": "[encoded data removed]",
      "text/plain": [
       "<Figure size 500x300 with 1 Axes>"
      ]
     },
     "metadata": {},
     "output_type": "display_data"
    }
   ],
   "source": [
    "weight_exp = [normalvariate(df['Weight(kg)'].mean(), df['Weight(kg)'].std()) for _ in range(len(df))]\n",
    "weight_exp = pd.Series(weight_exp)\n",
    "\n",
    "weight_range = [df['Weight(kg)'].min(), df['Weight(kg)'].max()]\n",
    "\n",
    "plt.figure(figsize=(5, 3))\n",
    "df['Weight(kg)'].hist(bins=30, range=weight_range)\n",
    "weight_exp.hist(bins=30, histtype='step', color='coral', range=weight_range)"
   ]
  },
  {
   "cell_type": "markdown",
   "metadata": {},
   "source": [
    "Вероятность того, что вес не превышает 50кг?"
   ]
  },
  {
   "cell_type": "code",
   "execution_count": 202,
   "metadata": {},
   "outputs": [
    {
     "name": "stdout",
     "output_type": "stream",
     "text": [
      "Доля легковесов: 7.53 %\n"
     ]
    }
   ],
   "source": [
    "weight_distr = st.norm(weight_exp.mean(), weight_exp.std())\n",
    "result = weight_distr.cdf(50)\n",
    "\n",
    "print(f'Доля легковесов: {round(result * 100, 2)} %')"
   ]
  },
  {
   "cell_type": "markdown",
   "metadata": {},
   "source": [
    "Какого веса не имеет 70% людей?"
   ]
  },
  {
   "cell_type": "code",
   "execution_count": 208,
   "metadata": {},
   "outputs": [
    {
     "data": {
      "text/plain": [
       "60.39878527811221"
      ]
     },
     "execution_count": 208,
     "metadata": {},
     "output_type": "execute_result"
    }
   ],
   "source": [
    "weight_distr.ppf(0.7)"
   ]
  }
 ],
 "metadata": {
  "kernelspec": {
   "display_name": "venv",
   "language": "python",
   "name": "python3"
  },
  "language_info": {
   "codemirror_mode": {
    "name": "ipython",
    "version": 3
   },
   "file_extension": ".py",
   "mimetype": "text/x-python",
   "name": "python",
   "nbconvert_exporter": "python",
   "pygments_lexer": "ipython3",
   "version": "3.11.7"
  },
  "toc": {
   "base_numbering": 1,
   "nav_menu": {},
   "number_sections": false,
   "sideBar": false,
   "skip_h1_title": false,
   "title_cell": "Table of Contents",
   "title_sidebar": "Contents",
   "toc_cell": false,
   "toc_position": {},
   "toc_section_display": false,
   "toc_window_display": false
  }
 },
 "nbformat": 4,
 "nbformat_minor": 4
}
