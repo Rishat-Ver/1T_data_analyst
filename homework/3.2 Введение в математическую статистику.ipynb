{
 "cells": [
  {
   "cell_type": "markdown",
   "metadata": {},
   "source": [
    "## Домашнее задание 3.2"
   ]
  },
  {
   "cell_type": "markdown",
   "metadata": {},
   "source": [
    "### Импорт библиотек"
   ]
  },
  {
   "cell_type": "code",
   "execution_count": 495,
   "metadata": {},
   "outputs": [],
   "source": [
    "import sqlite3\n",
    "import pandas as pd\n",
    "import numpy as np\n",
    "import matplotlib.pyplot as plt\n",
    "import seaborn as sns\n",
    "from pandas.errors import SettingWithCopyWarning\n",
    "\n",
    "import warnings"
   ]
  },
  {
   "cell_type": "markdown",
   "metadata": {},
   "source": [
    "### Глобальные настройки"
   ]
  },
  {
   "cell_type": "code",
   "execution_count": 496,
   "metadata": {},
   "outputs": [],
   "source": [
    "warnings.filterwarnings(\"ignore\", category=UserWarning)\n",
    "warnings.simplefilter(action='ignore', category=SettingWithCopyWarning)"
   ]
  },
  {
   "cell_type": "markdown",
   "metadata": {},
   "source": [
    "### Изучаем данные"
   ]
  },
  {
   "cell_type": "markdown",
   "metadata": {},
   "source": [
    "*Подключаемся к базе*"
   ]
  },
  {
   "cell_type": "code",
   "execution_count": 497,
   "metadata": {},
   "outputs": [],
   "source": [
    "cnx = sqlite3.connect('../datasets/database.sqlite')"
   ]
  },
  {
   "cell_type": "markdown",
   "metadata": {},
   "source": [
    "*Таблицы в базе*"
   ]
  },
  {
   "cell_type": "code",
   "execution_count": 498,
   "metadata": {},
   "outputs": [
    {
     "data": {
      "text/html": [
       "<div>\n",
       "<style scoped>\n",
       "    .dataframe tbody tr th:only-of-type {\n",
       "        vertical-align: middle;\n",
       "    }\n",
       "\n",
       "    .dataframe tbody tr th {\n",
       "        vertical-align: top;\n",
       "    }\n",
       "\n",
       "    .dataframe thead th {\n",
       "        text-align: right;\n",
       "    }\n",
       "</style>\n",
       "<table border=\"1\" class=\"dataframe\">\n",
       "  <thead>\n",
       "    <tr style=\"text-align: right;\">\n",
       "      <th></th>\n",
       "      <th>name</th>\n",
       "    </tr>\n",
       "  </thead>\n",
       "  <tbody>\n",
       "    <tr>\n",
       "      <th>0</th>\n",
       "      <td>sqlite_sequence</td>\n",
       "    </tr>\n",
       "    <tr>\n",
       "      <th>1</th>\n",
       "      <td>Player_Attributes</td>\n",
       "    </tr>\n",
       "    <tr>\n",
       "      <th>2</th>\n",
       "      <td>Player</td>\n",
       "    </tr>\n",
       "    <tr>\n",
       "      <th>3</th>\n",
       "      <td>Match</td>\n",
       "    </tr>\n",
       "    <tr>\n",
       "      <th>4</th>\n",
       "      <td>League</td>\n",
       "    </tr>\n",
       "    <tr>\n",
       "      <th>5</th>\n",
       "      <td>Country</td>\n",
       "    </tr>\n",
       "    <tr>\n",
       "      <th>6</th>\n",
       "      <td>Team</td>\n",
       "    </tr>\n",
       "    <tr>\n",
       "      <th>7</th>\n",
       "      <td>Team_Attributes</td>\n",
       "    </tr>\n",
       "  </tbody>\n",
       "</table>\n",
       "</div>"
      ],
      "text/plain": [
       "                name\n",
       "0    sqlite_sequence\n",
       "1  Player_Attributes\n",
       "2             Player\n",
       "3              Match\n",
       "4             League\n",
       "5            Country\n",
       "6               Team\n",
       "7    Team_Attributes"
      ]
     },
     "execution_count": 498,
     "metadata": {},
     "output_type": "execute_result"
    }
   ],
   "source": [
    "pd.read_sql_query(\"SELECT name FROM sqlite_master WHERE type='table'\", cnx)"
   ]
  },
  {
   "cell_type": "markdown",
   "metadata": {},
   "source": [
    "*Знакомство с таблицами*"
   ]
  },
  {
   "cell_type": "code",
   "execution_count": 499,
   "metadata": {},
   "outputs": [
    {
     "name": "stdout",
     "output_type": "stream",
     "text": [
      "--------------------df_Player_Attributes----------------------------------------------------------------------------------------------------------------------------------\n"
     ]
    },
    {
     "data": {
      "text/html": [
       "<div>\n",
       "<style scoped>\n",
       "    .dataframe tbody tr th:only-of-type {\n",
       "        vertical-align: middle;\n",
       "    }\n",
       "\n",
       "    .dataframe tbody tr th {\n",
       "        vertical-align: top;\n",
       "    }\n",
       "\n",
       "    .dataframe thead th {\n",
       "        text-align: right;\n",
       "    }\n",
       "</style>\n",
       "<table border=\"1\" class=\"dataframe\">\n",
       "  <thead>\n",
       "    <tr style=\"text-align: right;\">\n",
       "      <th></th>\n",
       "      <th>id</th>\n",
       "      <th>player_fifa_api_id</th>\n",
       "      <th>player_api_id</th>\n",
       "      <th>date</th>\n",
       "      <th>overall_rating</th>\n",
       "      <th>potential</th>\n",
       "      <th>preferred_foot</th>\n",
       "      <th>attacking_work_rate</th>\n",
       "      <th>defensive_work_rate</th>\n",
       "      <th>crossing</th>\n",
       "      <th>...</th>\n",
       "      <th>vision</th>\n",
       "      <th>penalties</th>\n",
       "      <th>marking</th>\n",
       "      <th>standing_tackle</th>\n",
       "      <th>sliding_tackle</th>\n",
       "      <th>gk_diving</th>\n",
       "      <th>gk_handling</th>\n",
       "      <th>gk_kicking</th>\n",
       "      <th>gk_positioning</th>\n",
       "      <th>gk_reflexes</th>\n",
       "    </tr>\n",
       "  </thead>\n",
       "  <tbody>\n",
       "  </tbody>\n",
       "</table>\n",
       "<p>0 rows × 42 columns</p>\n",
       "</div>"
      ],
      "text/plain": [
       "Empty DataFrame\n",
       "Columns: [id, player_fifa_api_id, player_api_id, date, overall_rating, potential, preferred_foot, attacking_work_rate, defensive_work_rate, crossing, finishing, heading_accuracy, short_passing, volleys, dribbling, curve, free_kick_accuracy, long_passing, ball_control, acceleration, sprint_speed, agility, reactions, balance, shot_power, jumping, stamina, strength, long_shots, aggression, interceptions, positioning, vision, penalties, marking, standing_tackle, sliding_tackle, gk_diving, gk_handling, gk_kicking, gk_positioning, gk_reflexes]\n",
       "Index: []\n",
       "\n",
       "[0 rows x 42 columns]"
      ]
     },
     "metadata": {},
     "output_type": "display_data"
    },
    {
     "name": "stdout",
     "output_type": "stream",
     "text": [
      "--------------------df_Player----------------------------------------------------------------------------------------------------------------------------------\n"
     ]
    },
    {
     "data": {
      "text/html": [
       "<div>\n",
       "<style scoped>\n",
       "    .dataframe tbody tr th:only-of-type {\n",
       "        vertical-align: middle;\n",
       "    }\n",
       "\n",
       "    .dataframe tbody tr th {\n",
       "        vertical-align: top;\n",
       "    }\n",
       "\n",
       "    .dataframe thead th {\n",
       "        text-align: right;\n",
       "    }\n",
       "</style>\n",
       "<table border=\"1\" class=\"dataframe\">\n",
       "  <thead>\n",
       "    <tr style=\"text-align: right;\">\n",
       "      <th></th>\n",
       "      <th>id</th>\n",
       "      <th>player_api_id</th>\n",
       "      <th>player_name</th>\n",
       "      <th>player_fifa_api_id</th>\n",
       "      <th>birthday</th>\n",
       "      <th>height</th>\n",
       "      <th>weight</th>\n",
       "    </tr>\n",
       "  </thead>\n",
       "  <tbody>\n",
       "  </tbody>\n",
       "</table>\n",
       "</div>"
      ],
      "text/plain": [
       "Empty DataFrame\n",
       "Columns: [id, player_api_id, player_name, player_fifa_api_id, birthday, height, weight]\n",
       "Index: []"
      ]
     },
     "metadata": {},
     "output_type": "display_data"
    },
    {
     "name": "stdout",
     "output_type": "stream",
     "text": [
      "--------------------df_Match----------------------------------------------------------------------------------------------------------------------------------\n"
     ]
    },
    {
     "data": {
      "text/html": [
       "<div>\n",
       "<style scoped>\n",
       "    .dataframe tbody tr th:only-of-type {\n",
       "        vertical-align: middle;\n",
       "    }\n",
       "\n",
       "    .dataframe tbody tr th {\n",
       "        vertical-align: top;\n",
       "    }\n",
       "\n",
       "    .dataframe thead th {\n",
       "        text-align: right;\n",
       "    }\n",
       "</style>\n",
       "<table border=\"1\" class=\"dataframe\">\n",
       "  <thead>\n",
       "    <tr style=\"text-align: right;\">\n",
       "      <th></th>\n",
       "      <th>id</th>\n",
       "      <th>country_id</th>\n",
       "      <th>league_id</th>\n",
       "      <th>season</th>\n",
       "      <th>stage</th>\n",
       "      <th>date</th>\n",
       "      <th>match_api_id</th>\n",
       "      <th>home_team_api_id</th>\n",
       "      <th>away_team_api_id</th>\n",
       "      <th>home_team_goal</th>\n",
       "      <th>...</th>\n",
       "      <th>SJA</th>\n",
       "      <th>VCH</th>\n",
       "      <th>VCD</th>\n",
       "      <th>VCA</th>\n",
       "      <th>GBH</th>\n",
       "      <th>GBD</th>\n",
       "      <th>GBA</th>\n",
       "      <th>BSH</th>\n",
       "      <th>BSD</th>\n",
       "      <th>BSA</th>\n",
       "    </tr>\n",
       "  </thead>\n",
       "  <tbody>\n",
       "  </tbody>\n",
       "</table>\n",
       "<p>0 rows × 115 columns</p>\n",
       "</div>"
      ],
      "text/plain": [
       "Empty DataFrame\n",
       "Columns: [id, country_id, league_id, season, stage, date, match_api_id, home_team_api_id, away_team_api_id, home_team_goal, away_team_goal, home_player_X1, home_player_X2, home_player_X3, home_player_X4, home_player_X5, home_player_X6, home_player_X7, home_player_X8, home_player_X9, home_player_X10, home_player_X11, away_player_X1, away_player_X2, away_player_X3, away_player_X4, away_player_X5, away_player_X6, away_player_X7, away_player_X8, away_player_X9, away_player_X10, away_player_X11, home_player_Y1, home_player_Y2, home_player_Y3, home_player_Y4, home_player_Y5, home_player_Y6, home_player_Y7, home_player_Y8, home_player_Y9, home_player_Y10, home_player_Y11, away_player_Y1, away_player_Y2, away_player_Y3, away_player_Y4, away_player_Y5, away_player_Y6, away_player_Y7, away_player_Y8, away_player_Y9, away_player_Y10, away_player_Y11, home_player_1, home_player_2, home_player_3, home_player_4, home_player_5, home_player_6, home_player_7, home_player_8, home_player_9, home_player_10, home_player_11, away_player_1, away_player_2, away_player_3, away_player_4, away_player_5, away_player_6, away_player_7, away_player_8, away_player_9, away_player_10, away_player_11, goal, shoton, shotoff, foulcommit, card, cross, corner, possession, B365H, B365D, B365A, BWH, BWD, BWA, IWH, IWD, IWA, LBH, LBD, LBA, PSH, PSD, PSA, ...]\n",
       "Index: []\n",
       "\n",
       "[0 rows x 115 columns]"
      ]
     },
     "metadata": {},
     "output_type": "display_data"
    },
    {
     "name": "stdout",
     "output_type": "stream",
     "text": [
      "--------------------df_League----------------------------------------------------------------------------------------------------------------------------------\n"
     ]
    },
    {
     "data": {
      "text/html": [
       "<div>\n",
       "<style scoped>\n",
       "    .dataframe tbody tr th:only-of-type {\n",
       "        vertical-align: middle;\n",
       "    }\n",
       "\n",
       "    .dataframe tbody tr th {\n",
       "        vertical-align: top;\n",
       "    }\n",
       "\n",
       "    .dataframe thead th {\n",
       "        text-align: right;\n",
       "    }\n",
       "</style>\n",
       "<table border=\"1\" class=\"dataframe\">\n",
       "  <thead>\n",
       "    <tr style=\"text-align: right;\">\n",
       "      <th></th>\n",
       "      <th>id</th>\n",
       "      <th>country_id</th>\n",
       "      <th>name</th>\n",
       "    </tr>\n",
       "  </thead>\n",
       "  <tbody>\n",
       "  </tbody>\n",
       "</table>\n",
       "</div>"
      ],
      "text/plain": [
       "Empty DataFrame\n",
       "Columns: [id, country_id, name]\n",
       "Index: []"
      ]
     },
     "metadata": {},
     "output_type": "display_data"
    },
    {
     "name": "stdout",
     "output_type": "stream",
     "text": [
      "--------------------df_Country----------------------------------------------------------------------------------------------------------------------------------\n"
     ]
    },
    {
     "data": {
      "text/html": [
       "<div>\n",
       "<style scoped>\n",
       "    .dataframe tbody tr th:only-of-type {\n",
       "        vertical-align: middle;\n",
       "    }\n",
       "\n",
       "    .dataframe tbody tr th {\n",
       "        vertical-align: top;\n",
       "    }\n",
       "\n",
       "    .dataframe thead th {\n",
       "        text-align: right;\n",
       "    }\n",
       "</style>\n",
       "<table border=\"1\" class=\"dataframe\">\n",
       "  <thead>\n",
       "    <tr style=\"text-align: right;\">\n",
       "      <th></th>\n",
       "      <th>id</th>\n",
       "      <th>name</th>\n",
       "    </tr>\n",
       "  </thead>\n",
       "  <tbody>\n",
       "  </tbody>\n",
       "</table>\n",
       "</div>"
      ],
      "text/plain": [
       "Empty DataFrame\n",
       "Columns: [id, name]\n",
       "Index: []"
      ]
     },
     "metadata": {},
     "output_type": "display_data"
    },
    {
     "name": "stdout",
     "output_type": "stream",
     "text": [
      "--------------------df_Team----------------------------------------------------------------------------------------------------------------------------------\n"
     ]
    },
    {
     "data": {
      "text/html": [
       "<div>\n",
       "<style scoped>\n",
       "    .dataframe tbody tr th:only-of-type {\n",
       "        vertical-align: middle;\n",
       "    }\n",
       "\n",
       "    .dataframe tbody tr th {\n",
       "        vertical-align: top;\n",
       "    }\n",
       "\n",
       "    .dataframe thead th {\n",
       "        text-align: right;\n",
       "    }\n",
       "</style>\n",
       "<table border=\"1\" class=\"dataframe\">\n",
       "  <thead>\n",
       "    <tr style=\"text-align: right;\">\n",
       "      <th></th>\n",
       "      <th>id</th>\n",
       "      <th>team_api_id</th>\n",
       "      <th>team_fifa_api_id</th>\n",
       "      <th>team_long_name</th>\n",
       "      <th>team_short_name</th>\n",
       "    </tr>\n",
       "  </thead>\n",
       "  <tbody>\n",
       "  </tbody>\n",
       "</table>\n",
       "</div>"
      ],
      "text/plain": [
       "Empty DataFrame\n",
       "Columns: [id, team_api_id, team_fifa_api_id, team_long_name, team_short_name]\n",
       "Index: []"
      ]
     },
     "metadata": {},
     "output_type": "display_data"
    },
    {
     "name": "stdout",
     "output_type": "stream",
     "text": [
      "--------------------df_Team_Attributes----------------------------------------------------------------------------------------------------------------------------------\n"
     ]
    },
    {
     "data": {
      "text/html": [
       "<div>\n",
       "<style scoped>\n",
       "    .dataframe tbody tr th:only-of-type {\n",
       "        vertical-align: middle;\n",
       "    }\n",
       "\n",
       "    .dataframe tbody tr th {\n",
       "        vertical-align: top;\n",
       "    }\n",
       "\n",
       "    .dataframe thead th {\n",
       "        text-align: right;\n",
       "    }\n",
       "</style>\n",
       "<table border=\"1\" class=\"dataframe\">\n",
       "  <thead>\n",
       "    <tr style=\"text-align: right;\">\n",
       "      <th></th>\n",
       "      <th>id</th>\n",
       "      <th>team_fifa_api_id</th>\n",
       "      <th>team_api_id</th>\n",
       "      <th>date</th>\n",
       "      <th>buildUpPlaySpeed</th>\n",
       "      <th>buildUpPlaySpeedClass</th>\n",
       "      <th>buildUpPlayDribbling</th>\n",
       "      <th>buildUpPlayDribblingClass</th>\n",
       "      <th>buildUpPlayPassing</th>\n",
       "      <th>buildUpPlayPassingClass</th>\n",
       "      <th>...</th>\n",
       "      <th>chanceCreationShooting</th>\n",
       "      <th>chanceCreationShootingClass</th>\n",
       "      <th>chanceCreationPositioningClass</th>\n",
       "      <th>defencePressure</th>\n",
       "      <th>defencePressureClass</th>\n",
       "      <th>defenceAggression</th>\n",
       "      <th>defenceAggressionClass</th>\n",
       "      <th>defenceTeamWidth</th>\n",
       "      <th>defenceTeamWidthClass</th>\n",
       "      <th>defenceDefenderLineClass</th>\n",
       "    </tr>\n",
       "  </thead>\n",
       "  <tbody>\n",
       "  </tbody>\n",
       "</table>\n",
       "<p>0 rows × 25 columns</p>\n",
       "</div>"
      ],
      "text/plain": [
       "Empty DataFrame\n",
       "Columns: [id, team_fifa_api_id, team_api_id, date, buildUpPlaySpeed, buildUpPlaySpeedClass, buildUpPlayDribbling, buildUpPlayDribblingClass, buildUpPlayPassing, buildUpPlayPassingClass, buildUpPlayPositioningClass, chanceCreationPassing, chanceCreationPassingClass, chanceCreationCrossing, chanceCreationCrossingClass, chanceCreationShooting, chanceCreationShootingClass, chanceCreationPositioningClass, defencePressure, defencePressureClass, defenceAggression, defenceAggressionClass, defenceTeamWidth, defenceTeamWidthClass, defenceDefenderLineClass]\n",
       "Index: []\n",
       "\n",
       "[0 rows x 25 columns]"
      ]
     },
     "metadata": {},
     "output_type": "display_data"
    }
   ],
   "source": [
    "df_Player_Attributes = pd.read_sql_query(\"SELECT * FROM Player_Attributes\", cnx)\n",
    "df_Player = pd.read_sql_query(\"SELECT * FROM Player\", cnx)\n",
    "df_Match = pd.read_sql_query(\"SELECT * FROM Match\", cnx)\n",
    "df_League = pd.read_sql_query(\"SELECT * FROM League\", cnx)\n",
    "df_Country = pd.read_sql_query(\"SELECT * FROM Country\", cnx)\n",
    "df_Team = pd.read_sql_query(\"SELECT * FROM Team\", cnx)\n",
    "df_Team_Attributes = pd.read_sql_query(\"SELECT * FROM Team_Attributes\", cnx)\n",
    "\n",
    "COUNT_LINE = 0\n",
    "\n",
    "print(f\"{'-'*20}df_Player_Attributes{'-'*130}\")\n",
    "display(df_Player_Attributes.head(COUNT_LINE))\n",
    "print(f\"{'-'*20}df_Player{'-'*130}\")\n",
    "display(df_Player.head(COUNT_LINE))\n",
    "print(f\"{'-'*20}df_Match{'-'*130}\")\n",
    "display(df_Match.head(COUNT_LINE))\n",
    "print(f\"{'-'*20}df_League{'-'*130}\")\n",
    "display(df_League.head(COUNT_LINE))\n",
    "print(f\"{'-'*20}df_Country{'-'*130}\")\n",
    "display(df_Country.head(COUNT_LINE))\n",
    "print(f\"{'-'*20}df_Team{'-'*130}\")\n",
    "display(df_Team.head(COUNT_LINE))\n",
    "print(f\"{'-'*20}df_Team_Attributes{'-'*130}\")\n",
    "display(df_Team_Attributes.head(0))\n"
   ]
  },
  {
   "cell_type": "markdown",
   "metadata": {},
   "source": [
    "### Иследования"
   ]
  },
  {
   "cell_type": "markdown",
   "metadata": {},
   "source": [
    "**1.**<br>\n",
    "*Очень часто коллеги упоминают Серию А. Может, она действительно интересная? Посмотрите, сколько там забивают суммарно голов за матч. Постройте гистограмму соответствующего данным типа. Оцените скошенность распределения визуально и подтвердите или опровергните свою гипотезу о скошенности, вычислив среднее, медиану и моду для проверки правила об их соотношении.*"
   ]
  },
  {
   "cell_type": "code",
   "execution_count": 500,
   "metadata": {},
   "outputs": [
    {
     "name": "stdout",
     "output_type": "stream",
     "text": [
      "Среднее 2.6168379184620485\n",
      "Медиана 2.0\n",
      "Мода [2]\n"
     ]
    },
    {
     "data": {
      "image/png": "[encoded data removed]",
      "text/plain": [
       "<Figure size 1000x300 with 1 Axes>"
      ]
     },
     "metadata": {},
     "output_type": "display_data"
    }
   ],
   "source": [
    "id_seria_A = df_League[df_League['name'] == 'Italy Serie A']['id'].values[0]\n",
    "\n",
    "gools_in_seria_A = pd.read_sql_query(\n",
    "    f'''\n",
    "    SELECT id AS match_id,\n",
    "           home_team_goal + away_team_goal AS goals\n",
    "      FROM Match\n",
    "     WHERE league_id = {id_seria_A};\n",
    "    '''\n",
    "    , cnx)\n",
    "\n",
    "plt.figure(figsize=(10, 3))\n",
    "gools_in_seria_A['goals'].hist(bins=30)\n",
    "\n",
    "print(f\"Среднее {gools_in_seria_A['goals'].mean()}\")\n",
    "print(f\"Медиана {gools_in_seria_A['goals'].median()}\")\n",
    "print(f\"Мода {list(gools_in_seria_A['goals'].mode())}\")"
   ]
  },
  {
   "cell_type": "markdown",
   "metadata": {},
   "source": [
    "**2.**<br> \n",
    "*Не так уж много голов забивается в Серии А, а в каких лигах забивается в среднем голов за матч больше? Выведите их названия.*"
   ]
  },
  {
   "cell_type": "code",
   "execution_count": 501,
   "metadata": {},
   "outputs": [
    {
     "name": "stdout",
     "output_type": "stream",
     "text": [
      "Belgium Jupiler League\n",
      "England Premier League\n",
      "Germany 1. Bundesliga\n",
      "Netherlands Eredivisie\n",
      "Scotland Premier League\n",
      "Spain LIGA BBVA\n",
      "Switzerland Super League\n"
     ]
    }
   ],
   "source": [
    "liga_in_goals = pd.read_sql_query(\n",
    "    f'''\n",
    "    SELECT Match.league_id,\n",
    "           League.name AS league_name,\n",
    "           AVG(Match.home_team_goal + Match. away_team_goal) AS mean_goals\n",
    "      FROM Match\n",
    "           JOIN League ON League.id = Match.league_id\n",
    "     GROUP BY league_id, League.name;\n",
    "    '''\n",
    "    , cnx)\n",
    "\n",
    "mean_seria_A = liga_in_goals[liga_in_goals['league_name'] == 'Italy Serie A']['mean_goals'].values[0]\n",
    "list_league_big_seria_A = liga_in_goals[liga_in_goals['mean_goals'] > mean_seria_A]['league_name']\n",
    "\n",
    "print(*list_league_big_seria_A.values, sep='\\n')"
   ]
  },
  {
   "cell_type": "markdown",
   "metadata": {},
   "source": [
    "**3.**<br>\n",
    "*Таких лиг довольно много. Выберем самую интересную лигу и самый интересный сезон в ней. Для этого посчитаем следующие показатели:*\n",
    "- *сколько в среднем в каждом сезоне каждой лиги забивалось суммарно голов командами за матч*\n",
    "- *сколько в среднем матчей за сезон заканчивались победой, а не ничьей.*"
   ]
  },
  {
   "cell_type": "code",
   "execution_count": 502,
   "metadata": {},
   "outputs": [
    {
     "name": "stdout",
     "output_type": "stream",
     "text": [
      "\n",
      "     Лига в которой больше всего в среднем голов за сезон: `Spain LIGA BBVA`\n",
      "     Лига в которой больше всего в среднем результативных матчей за сезон: `Spain LIGA BBVA`\n",
      "     Самый интересный сезон в самой интересной лиги: `2010/2011`\n",
      "     \n"
     ]
    }
   ],
   "source": [
    "leagues_sesons = pd.read_sql_query(\n",
    "    f'''\n",
    "    WITH table_1 AS (\n",
    "          SELECT Match.league_id,\n",
    "                 Match.season,\n",
    "                 League.name AS league_name,\n",
    "                 Match.home_team_goal + Match. away_team_goal AS mean_goals,\n",
    "                 Match.home_team_goal AS home_goals,\n",
    "                 Match.away_team_goal AS away_goals,\n",
    "                 CASE\n",
    "                 WHEN Match.home_team_goal - Match.away_team_goal <> 0 THEN 1\n",
    "                 ELSE 0\n",
    "                 END AS victory\n",
    "            FROM Match\n",
    "                 JOIN League ON League.id = Match.league_id)\n",
    "\n",
    "    SELECT table_1.league_name AS league_name,\n",
    "           table_1.season AS season,\n",
    "           SUM(mean_goals) AS mean_goals,\n",
    "           SUM(victory) AS victory\n",
    "      FROM table_1\n",
    "     GROUP BY league_name, season\n",
    "\n",
    "    '''\n",
    "    , cnx)\n",
    "\n",
    "# Лига в которой больше всего в среднем голов за сезон\n",
    "best_league_goals = leagues_sesons.groupby(by='league_name').agg(mean_gols_seson = ('mean_goals', 'mean'))\n",
    "best_league_goals = best_league_goals['mean_gols_seson'].idxmax()\n",
    "\n",
    "# Лига в которой больше всего в среднем результативных матчей за сезон\n",
    "best_league_victory = leagues_sesons.groupby(by='league_name').agg(count_victory_match = ('victory', 'mean'))\n",
    "best_league_victory = best_league_victory['count_victory_match'].idxmax()\n",
    "\n",
    "# Самый интересный сезон в самой интересной лиги\n",
    "best_seson = leagues_sesons.loc[leagues_sesons[leagues_sesons['league_name'] == best_league_goals]['victory'].idxmax(), 'season']\n",
    "\n",
    "print(\n",
    "    f'''\n",
    "     Лига в которой больше всего в среднем голов за сезон: `{best_league_goals}`\n",
    "     Лига в которой больше всего в среднем результативных матчей за сезон: `{best_league_victory}`\n",
    "     Самый интересный сезон в самой интересной лиги: `{best_seson}`\n",
    "     '''\n",
    "     )"
   ]
  },
  {
   "cell_type": "markdown",
   "metadata": {},
   "source": [
    "**4.**<br>\n",
    "*Для каждого из двух показателей, рассчитанных в предыдущем шаге, выведите самый зрелищный сезон среди всех сезонов всех лиг.*"
   ]
  },
  {
   "cell_type": "code",
   "execution_count": 503,
   "metadata": {},
   "outputs": [
    {
     "name": "stdout",
     "output_type": "stream",
     "text": [
      "\n",
      "     Самый зрелещный сезон за все время (метрика - количество голов): 2008/2009\n",
      "     Самый зрелещный сезон за все время (метрика - количество победных матчей): 2013/2014\n",
      "     \n"
     ]
    }
   ],
   "source": [
    "# Самый зрелещный сезон за все время , метрика - количество голов\n",
    "best_season_goals = leagues_sesons.loc[leagues_sesons['mean_goals'].idxmax(), 'season']\n",
    "\n",
    "# Самый зрелещный сезон за все время , метрика - количество победных матчей\n",
    "best_season_victory = leagues_sesons.loc[leagues_sesons['victory'].idxmax(), 'season']\n",
    "\n",
    "print(\n",
    "    f'''\n",
    "     Самый зрелещный сезон за все время (метрика - количество голов): {best_season_goals}\n",
    "     Самый зрелещный сезон за все время (метрика - количество победных матчей): {best_season_victory}\n",
    "     '''\n",
    "     )"
   ]
  },
  {
   "cell_type": "markdown",
   "metadata": {},
   "source": [
    "**5.**<br>\n",
    "*Насколько показатели, рассчитанные в шаге 3, взаимосвязаны?*<br>\n",
    "*Оцените их корреляцию и постройте для них диаграмму рассеивания, чтобы ответить на этот вопрос.*"
   ]
  },
  {
   "cell_type": "code",
   "execution_count": 504,
   "metadata": {},
   "outputs": [
    {
     "data": {
      "image/png": "[encoded data removed]",
      "text/plain": [
       "<Figure size 1000x300 with 1 Axes>"
      ]
     },
     "metadata": {},
     "output_type": "display_data"
    }
   ],
   "source": [
    "data = leagues_sesons.loc[:, ['mean_goals', 'victory']]\n",
    "\n",
    "plt.figure(figsize=(10, 3))\n",
    "\n",
    "plt.scatter(data['mean_goals'], data['victory'], alpha=0.5)\n",
    "plt.xlabel('mean_goals')\n",
    "plt.ylabel('victory')\n",
    "\n",
    "plt.show()"
   ]
  },
  {
   "cell_type": "markdown",
   "metadata": {},
   "source": [
    "**6.**<br>\n",
    "*Выберите лигу с самым интересным сезоном. Чтобы разобраться в правилах футбола и не заскучать, посмотрим именно этот сезон!*"
   ]
  },
  {
   "cell_type": "code",
   "execution_count": 505,
   "metadata": {},
   "outputs": [
    {
     "name": "stdout",
     "output_type": "stream",
     "text": [
      "\n",
      "     Лига с самым интересным сезоном: `Netherlands Eredivisie`\n",
      "     Самый интересный сезон по моей метрике: `2010/2011`\n",
      "     Именно в этом сезоне прошел тот легендарный матч между `PSV` и `Feyenoord`\n",
      "     Разница в счете составила: 10 голов\n",
      "     \n"
     ]
    }
   ],
   "source": [
    "# Честно я не понимаю вас , как можно так давать задания ...\n",
    "# Для меня самый интересный сезон будет сезон в котором есть самый разгромный матч , что вы хотите я не знаю !!!\n",
    "\n",
    "leagues_sesons_gap = pd.read_sql_query(\n",
    "    f'''\n",
    "    SELECT Match.league_id,\n",
    "           League.name AS league_name,\n",
    "           Match.season,\n",
    "           home_team.team_long_name AS comand_home,\n",
    "           away_team.team_long_name AS comand_away,\n",
    "           Match.home_team_goal AS home_goals,\n",
    "           Match.away_team_goal AS away_goals,\n",
    "           ABS(Match.home_team_goal - Match.away_team_goal) AS gap\n",
    "      FROM Match\n",
    "           JOIN League ON League.id = Match.league_id\n",
    "           JOIN Team AS home_team ON home_team.team_api_id = Match.home_team_api_id\n",
    "           JOIN Team AS away_team ON away_team.team_api_id = Match.away_team_api_id\n",
    "    '''\n",
    "    , cnx)\n",
    "\n",
    "leagues_interesting_sesons = leagues_sesons_gap.loc[leagues_sesons_gap['gap'].idxmax(), :]\n",
    "league = leagues_interesting_sesons['league_name']\n",
    "season = leagues_interesting_sesons['season']\n",
    "gap = leagues_interesting_sesons['gap']\n",
    "comand_home = leagues_interesting_sesons['comand_home']\n",
    "comand_away = leagues_interesting_sesons['comand_away']\n",
    "print(\n",
    "    f'''\n",
    "     Лига с самым интересным сезоном: `{league}`\n",
    "     Самый интересный сезон по моей метрике: `{season}`\n",
    "     Именно в этом сезоне прошел тот легендарный матч между `{comand_home}` и `{comand_away}`\n",
    "     Разница в счете составила: {gap} голов\n",
    "     '''\n",
    ")"
   ]
  },
  {
   "cell_type": "markdown",
   "metadata": {},
   "source": [
    "**7.**<br>\n",
    "Интересно, а можно ли гарантировать, что в этой лиге всегда такой интересный футбол?<br>\n",
    "Оцените математическое ожидание и стандартное отклонение среднего количества голов за матч с помощью имеющейся выборки.<br> \n",
    "Затем постройте ящик с усами. И сделайте вывод, можно ли быть уверенным, что матчи в этой лиге всегда результативные."
   ]
  },
  {
   "cell_type": "code",
   "execution_count": 506,
   "metadata": {},
   "outputs": [
    {
     "data": {
      "image/png": "[encoded data removed]",
      "text/plain": [
       "<Figure size 300x600 with 1 Axes>"
      ]
     },
     "metadata": {},
     "output_type": "display_data"
    },
    {
     "name": "stdout",
     "output_type": "stream",
     "text": [
      "\n",
      "     Большенство матчей в этой лиге результативные\n",
      "     Имеются выбросы , по которым можно сказать что в этой лиги были матчи с огромным счетом\n",
      "     \n"
     ]
    }
   ],
   "source": [
    "\n",
    "df_best_league = leagues_sesons_gap.loc[leagues_sesons_gap['league_name'] == league]\n",
    "\n",
    "df_best_league.reset_index(drop=True, inplace=True)\n",
    "df_best_league['goals'] = df_best_league['home_goals'] + df_best_league['away_goals']\n",
    "\n",
    "mean_goals = df_best_league['goals'].mean()\n",
    "std_goals = df_best_league['goals'].std()\n",
    "\n",
    "plt.figure(figsize=(3, 6))\n",
    "sns.boxplot(y=df_best_league['goals'])\n",
    "\n",
    "plt.title('Ящик с усами для общего числа голов в матче')\n",
    "plt.ylabel('Количество голов')\n",
    "plt.show()\n",
    "\n",
    "print(\n",
    "    f'''\n",
    "     Большенство матчей в этой лиге результативные\n",
    "     Имеются выбросы , по которым можно сказать что в этой лиги были матчи с огромным счетом\n",
    "     '''\n",
    "      )"
   ]
  },
  {
   "cell_type": "markdown",
   "metadata": {},
   "source": [
    "## ПРАВКИ ПО ЗАДАНИЮ"
   ]
  },
  {
   "cell_type": "markdown",
   "metadata": {},
   "source": [
    "**3.**<br>\n",
    "*Таких лиг довольно много. Выберем самую интересную лигу и самый интересный сезон в ней. Для этого посчитаем следующие показатели:*\n",
    "- *сколько в среднем в каждом сезоне каждой лиги забивалось суммарно голов командами за матч*\n",
    "- *сколько в среднем матчей за сезон заканчивались победой, а не ничьей.*"
   ]
  },
  {
   "cell_type": "code",
   "execution_count": 507,
   "metadata": {},
   "outputs": [
    {
     "data": {
      "text/html": [
       "<div>\n",
       "<style scoped>\n",
       "    .dataframe tbody tr th:only-of-type {\n",
       "        vertical-align: middle;\n",
       "    }\n",
       "\n",
       "    .dataframe tbody tr th {\n",
       "        vertical-align: top;\n",
       "    }\n",
       "\n",
       "    .dataframe thead th {\n",
       "        text-align: right;\n",
       "    }\n",
       "</style>\n",
       "<table border=\"1\" class=\"dataframe\">\n",
       "  <thead>\n",
       "    <tr style=\"text-align: right;\">\n",
       "      <th></th>\n",
       "      <th>league_name</th>\n",
       "      <th>season</th>\n",
       "      <th>mean_goals</th>\n",
       "      <th>percentage_result_match</th>\n",
       "    </tr>\n",
       "  </thead>\n",
       "  <tbody>\n",
       "    <tr>\n",
       "      <th>0</th>\n",
       "      <td>Switzerland Super League</td>\n",
       "      <td>2009/2010</td>\n",
       "      <td>3.33</td>\n",
       "      <td>83</td>\n",
       "    </tr>\n",
       "    <tr>\n",
       "      <th>1</th>\n",
       "      <td>Netherlands Eredivisie</td>\n",
       "      <td>2011/2012</td>\n",
       "      <td>3.26</td>\n",
       "      <td>79</td>\n",
       "    </tr>\n",
       "    <tr>\n",
       "      <th>2</th>\n",
       "      <td>Netherlands Eredivisie</td>\n",
       "      <td>2010/2011</td>\n",
       "      <td>3.23</td>\n",
       "      <td>76</td>\n",
       "    </tr>\n",
       "  </tbody>\n",
       "</table>\n",
       "</div>"
      ],
      "text/plain": [
       "                league_name     season  mean_goals  percentage_result_match\n",
       "0  Switzerland Super League  2009/2010        3.33                       83\n",
       "1    Netherlands Eredivisie  2011/2012        3.26                       79\n",
       "2    Netherlands Eredivisie  2010/2011        3.23                       76"
      ]
     },
     "metadata": {},
     "output_type": "display_data"
    },
    {
     "name": "stdout",
     "output_type": "stream",
     "text": [
      "\n",
      "     Самая интересная лига: `Switzerland Super League`\n",
      "     Самый интересный сезон в этой лиге: `2009/2010`\n",
      "     Среднее количество голов за матч: `3.33`\n",
      "     Процент результативных игр составил: `83 %`\n",
      "     \n"
     ]
    }
   ],
   "source": [
    "best_leagues_sesons = pd.read_sql_query(\n",
    "    f'''\n",
    "    WITH table_1 AS (\n",
    "        SELECT Match.league_id,\n",
    "               League.name AS league_name,\n",
    "               Match.season,\n",
    "               Match.home_team_goal + Match. away_team_goal AS goals,\n",
    "               Match.home_team_goal AS home_goals,\n",
    "               Match.away_team_goal AS away_goals,\n",
    "               CASE\n",
    "               WHEN Match.home_team_goal - Match.away_team_goal <> 0 THEN 1\n",
    "               ELSE 0\n",
    "               END AS victory\n",
    "          FROM Match\n",
    "               JOIN League ON League.id = Match.league_id)\n",
    "\n",
    "    SELECT league_name,\n",
    "           season,\n",
    "           round(AVG(goals), 2) AS mean_goals,\n",
    "           SUM(victory) * 100 / COUNT(victory) AS percentage_result_match\n",
    "      FROM table_1\n",
    "     GROUP BY league_name, season\n",
    "     ORDER BY mean_goals DESC, percentage_result_match DESC\n",
    "    '''\n",
    "    , cnx)\n",
    "\n",
    "display(best_leagues_sesons.head(3))\n",
    "\n",
    "print(\n",
    "    f'''\n",
    "     Самая интересная лига: `{best_leagues_sesons.at[0, 'league_name']}`\n",
    "     Самый интересный сезон в этой лиге: `{best_leagues_sesons.at[0, 'season']}`\n",
    "     Среднее количество голов за матч: `{best_leagues_sesons.at[0, 'mean_goals']}`\n",
    "     Процент результативных игр составил: `{best_leagues_sesons.at[0, 'percentage_result_match']} %`\n",
    "     ''')"
   ]
  },
  {
   "cell_type": "markdown",
   "metadata": {},
   "source": [
    "**4.**<br>\n",
    "*Для каждого из двух показателей, рассчитанных в предыдущем шаге, выведите самый зрелищный сезон среди всех сезонов всех лиг.*"
   ]
  },
  {
   "cell_type": "code",
   "execution_count": 508,
   "metadata": {},
   "outputs": [
    {
     "name": "stdout",
     "output_type": "stream",
     "text": [
      "\n",
      "     Самый зрелещный сезон , по показателю среднего кол-во голов за матч: `2009/2010`\n",
      "     Самый зрелещный сезон , по показателю результативности матча: `2009/2010`\n",
      "     \n"
     ]
    }
   ],
   "source": [
    "еntertainment_season_goals = best_leagues_sesons.at[best_leagues_sesons['mean_goals'].idxmax(), 'season']\n",
    "\n",
    "еntertainment_season_percentage = best_leagues_sesons.at[best_leagues_sesons['percentage_result_match'].idxmax(), 'season']\n",
    "\n",
    "print(\n",
    "    f'''\n",
    "     Самый зрелещный сезон , по показателю среднего кол-во голов за матч: `{еntertainment_season_goals}`\n",
    "     Самый зрелещный сезон , по показателю результативности матча: `{еntertainment_season_percentage}`\n",
    "     '''\n",
    "     )"
   ]
  },
  {
   "cell_type": "markdown",
   "metadata": {},
   "source": [
    "**5.**<br>\n",
    "*Насколько показатели, рассчитанные в шаге 3, взаимосвязаны?*<br>\n",
    "*Оцените их корреляцию и постройте для них диаграмму рассеивания, чтобы ответить на этот вопрос.*"
   ]
  },
  {
   "cell_type": "code",
   "execution_count": 509,
   "metadata": {},
   "outputs": [
    {
     "data": {
      "image/png": "[encoded data removed]",
      "text/plain": [
       "<Figure size 1000x300 with 1 Axes>"
      ]
     },
     "metadata": {},
     "output_type": "display_data"
    },
    {
     "data": {
      "image/png": "[encoded data removed]",
      "text/plain": [
       "<Figure size 500x300 with 2 Axes>"
      ]
     },
     "metadata": {},
     "output_type": "display_data"
    }
   ],
   "source": [
    "data = best_leagues_sesons.loc[:, ['mean_goals', 'percentage_result_match']]\n",
    "\n",
    "plt.figure(figsize=(10, 3))\n",
    "\n",
    "plt.scatter(data['mean_goals'], data['percentage_result_match'], alpha=0.5)\n",
    "plt.xlabel('mean_goals')\n",
    "plt.ylabel('percentage_result_match')\n",
    "\n",
    "plt.show()\n",
    "\n",
    "\n",
    "data = best_leagues_sesons.loc[:, ['mean_goals', 'percentage_result_match']]\n",
    "plt.figure(figsize=(5, 3))\n",
    "sns.heatmap(data.corr(), annot=True)\n",
    "\n",
    "plt.show()"
   ]
  },
  {
   "cell_type": "markdown",
   "metadata": {},
   "source": [
    "**6.**<br>\n",
    "*Выберите лигу с самым интересным сезоном. Чтобы разобраться в правилах футбола и не заскучать, посмотрим именно этот сезон!*"
   ]
  },
  {
   "cell_type": "code",
   "execution_count": 510,
   "metadata": {},
   "outputs": [
    {
     "name": "stdout",
     "output_type": "stream",
     "text": [
      "\n",
      "     Лига с самым интересным сезоном: `Netherlands Eredivisie`\n",
      "     Самый интересный сезон по моей метрике: `2010/2011`\n",
      "     Именно в этом сезоне прошел тот легендарный матч между `PSV` и `Feyenoord`\n",
      "     Разница в счете составила: 10 голов\n",
      "     \n"
     ]
    }
   ],
   "source": [
    "# Я опять же не понимаю , что для Вас интересная лигааа !\n",
    "# Оставляю без изменений\n",
    "\n",
    "leagues_sesons_gap = pd.read_sql_query(\n",
    "    f'''\n",
    "    SELECT Match.league_id,\n",
    "           League.name AS league_name,\n",
    "           Match.season,\n",
    "           home_team.team_long_name AS comand_home,\n",
    "           away_team.team_long_name AS comand_away,\n",
    "           Match.home_team_goal AS home_goals,\n",
    "           Match.away_team_goal AS away_goals,\n",
    "           ABS(Match.home_team_goal - Match.away_team_goal) AS gap\n",
    "      FROM Match\n",
    "           JOIN League ON League.id = Match.league_id\n",
    "           JOIN Team AS home_team ON home_team.team_api_id = Match.home_team_api_id\n",
    "           JOIN Team AS away_team ON away_team.team_api_id = Match.away_team_api_id\n",
    "    '''\n",
    "    , cnx)\n",
    "\n",
    "leagues_interesting_sesons = leagues_sesons_gap.loc[leagues_sesons_gap['gap'].idxmax(), :]\n",
    "league = leagues_interesting_sesons['league_name']\n",
    "season = leagues_interesting_sesons['season']\n",
    "gap = leagues_interesting_sesons['gap']\n",
    "comand_home = leagues_interesting_sesons['comand_home']\n",
    "comand_away = leagues_interesting_sesons['comand_away']\n",
    "print(\n",
    "    f'''\n",
    "     Лига с самым интересным сезоном: `{league}`\n",
    "     Самый интересный сезон по моей метрике: `{season}`\n",
    "     Именно в этом сезоне прошел тот легендарный матч между `{comand_home}` и `{comand_away}`\n",
    "     Разница в счете составила: {gap} голов\n",
    "     '''\n",
    ")"
   ]
  },
  {
   "cell_type": "markdown",
   "metadata": {},
   "source": [
    "**7.**<br>\n",
    "Интересно, а можно ли гарантировать, что в этой лиге всегда такой интересный футбол?<br>\n",
    "Оцените математическое ожидание и стандартное отклонение среднего количества голов за матч с помощью имеющейся выборки.<br> \n",
    "Затем постройте ящик с усами. И сделайте вывод, можно ли быть уверенным, что матчи в этой лиге всегда результативные."
   ]
  },
  {
   "cell_type": "code",
   "execution_count": 511,
   "metadata": {},
   "outputs": [
    {
     "data": {
      "image/png": "[encoded data removed]",
      "text/plain": [
       "<Figure size 300x600 with 1 Axes>"
      ]
     },
     "metadata": {},
     "output_type": "display_data"
    },
    {
     "name": "stdout",
     "output_type": "stream",
     "text": [
      "\n",
      "     Большенство матчей в этой лиге результативные\n",
      "     Имеются выбросы , по которым можно сказать что в этой лиги были матчи с огромным счетом\n",
      "     \n"
     ]
    }
   ],
   "source": [
    "# Аналогично\n",
    "\n",
    "df_best_league = leagues_sesons_gap.loc[leagues_sesons_gap['league_name'] == league]\n",
    "\n",
    "df_best_league.reset_index(drop=True, inplace=True)\n",
    "df_best_league['goals'] = df_best_league['home_goals'] + df_best_league['away_goals']\n",
    "\n",
    "mean_goals = df_best_league['goals'].mean()\n",
    "std_goals = df_best_league['goals'].std()\n",
    "\n",
    "plt.figure(figsize=(3, 6))\n",
    "sns.boxplot(y=df_best_league['goals'])\n",
    "\n",
    "plt.title('Ящик с усами для общего числа голов в матче')\n",
    "plt.ylabel('Количество голов')\n",
    "plt.show()\n",
    "\n",
    "print(\n",
    "    f'''\n",
    "     Большенство матчей в этой лиге результативные\n",
    "     Имеются выбросы , по которым можно сказать что в этой лиги были матчи с огромным счетом\n",
    "     '''\n",
    "      )"
   ]
  },
  {
   "cell_type": "markdown",
   "metadata": {},
   "source": [
    "#### Закрываем соединение"
   ]
  },
  {
   "cell_type": "code",
   "execution_count": 512,
   "metadata": {},
   "outputs": [],
   "source": [
    "cnx.close()"
   ]
  }
 ],
 "metadata": {
  "kernelspec": {
   "display_name": "venv",
   "language": "python",
   "name": "python3"
  },
  "language_info": {
   "codemirror_mode": {
    "name": "ipython",
    "version": 3
   },
   "file_extension": ".py",
   "mimetype": "text/x-python",
   "name": "python",
   "nbconvert_exporter": "python",
   "pygments_lexer": "ipython3",
   "version": "3.11.7"
  }
 },
 "nbformat": 4,
 "nbformat_minor": 2
}
