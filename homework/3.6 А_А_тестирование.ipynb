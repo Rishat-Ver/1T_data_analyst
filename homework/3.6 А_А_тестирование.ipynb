{
 "cells": [
  {
   "cell_type": "markdown",
   "metadata": {},
   "source": [
    "## Домашнее задание 3.6"
   ]
  },
  {
   "cell_type": "markdown",
   "metadata": {},
   "source": [
    "#### Импорт библиотек"
   ]
  },
  {
   "cell_type": "code",
   "execution_count": 84,
   "metadata": {},
   "outputs": [],
   "source": [
    "import numpy as np\n",
    "import matplotlib.pyplot as plt\n",
    "from scipy.stats import ttest_ind"
   ]
  },
  {
   "cell_type": "markdown",
   "metadata": {},
   "source": [
    "#### Глобальные настройки"
   ]
  },
  {
   "cell_type": "code",
   "execution_count": 85,
   "metadata": {},
   "outputs": [],
   "source": [
    "np.random.seed(42)"
   ]
  },
  {
   "cell_type": "markdown",
   "metadata": {},
   "source": [
    "*1. Сгенерируйте три группы данных: Group A, Group B и Group C, каждая из которых будет содержать 1000 случайных значений с нормальным распределением и с разными параметрами (разные средние значения и стандартные отклонения).*\n",
    "- `group_A` - средние значения = 110, стандартное отклонение = 10\n",
    "- `group_B` - средние значения = 115, стандартное отклонение = 15\n",
    "- `group_C` - средние значения = 120, стандартное отклонение = 20"
   ]
  },
  {
   "cell_type": "code",
   "execution_count": 86,
   "metadata": {},
   "outputs": [],
   "source": [
    "group_A = np.random.normal(loc=110, scale=10, size=1000)\n",
    "group_B = np.random.normal(loc=115, scale=15, size=1000)\n",
    "group_C = np.random.normal(loc=120, scale=20, size=1000)"
   ]
  },
  {
   "cell_type": "markdown",
   "metadata": {},
   "source": [
    "*2. Визуализируйте полученные группы на одном графике с помощью библиотеки matplotlib.*"
   ]
  },
  {
   "cell_type": "code",
   "execution_count": 87,
   "metadata": {},
   "outputs": [
    {
     "data": {
      "image/png": "[encoded data removed]",
      "text/plain": [
       "<Figure size 800x300 with 1 Axes>"
      ]
     },
     "metadata": {},
     "output_type": "display_data"
    }
   ],
   "source": [
    "plt.figure(figsize=(8, 3))\n",
    "\n",
    "plt.hist(group_A, bins=30, alpha=0.5,color='red', label='group_A')\n",
    "plt.hist(group_B, bins=30, alpha=0.5,color='blue', label='group_B')\n",
    "plt.hist(group_C, bins=30, alpha=0.5,color='green', label='group_C')\n",
    "\n",
    "\n",
    "plt.title('Гистограмма трех контрольных групп')\n",
    "plt.xlabel('Значения')\n",
    "plt.ylabel('Частота')\n",
    "\n",
    "plt.legend(loc='upper right')\n",
    "\n",
    "plt.show()"
   ]
  },
  {
   "cell_type": "markdown",
   "metadata": {},
   "source": [
    "*3. Проведите парные t-тесты для сравнения каждой группы с другой (A/B, A/C, B/C) с помощью функции ttest_ind из библиотеки scipy.stats. Укажите уровень значимости (alpha).*\n",
    "\n",
    "*Три пары: `group_A, group_B`, `group_A, group_C` и `group_B, group_C`*\n",
    "- `alpha` уровень значимости для теста\n",
    "- `t_stat..` - t-статистика\n",
    "- `p_value..` - p-значение\n",
    "\n"
   ]
  },
  {
   "cell_type": "code",
   "execution_count": 88,
   "metadata": {},
   "outputs": [],
   "source": [
    "alpha = 0.05\n",
    "\n",
    "t_stat_AB, p_value_AB = ttest_ind(group_A, group_B)\n",
    "t_stat_AC, p_value_AC = ttest_ind(group_A, group_C)\n",
    "t_stat_BC, p_value_BC = ttest_ind(group_B, group_C)"
   ]
  },
  {
   "cell_type": "markdown",
   "metadata": {},
   "source": [
    "*4. Выведите результаты анализа для каждого сравнения, указав значения p-value.*"
   ]
  },
  {
   "cell_type": "code",
   "execution_count": 89,
   "metadata": {},
   "outputs": [
    {
     "name": "stdout",
     "output_type": "stream",
     "text": [
      "\n",
      "       group_A, group_B: t-statistic = -10.37959849844661, p-value = 1.280939288513203e-24\n",
      "       group_A, group_C: t-statistic = -14.282149650429723, p-value = 3.894671853150199e-44\n",
      "       group_B, group_C: t-statistic = -5.187696973562293, p-value = 2.3445993075797856e-07\n",
      "       \n"
     ]
    }
   ],
   "source": [
    "print(f'''\n",
    "       group_A, group_B: t-statistic = {t_stat_AB}, p-value = {p_value_AB}\n",
    "       group_A, group_C: t-statistic = {t_stat_AC}, p-value = {p_value_AC}\n",
    "       group_B, group_C: t-statistic = {t_stat_BC}, p-value = {p_value_BC}\n",
    "       ''')"
   ]
  },
  {
   "cell_type": "markdown",
   "metadata": {},
   "source": [
    "*5. Сделайте выводы о статистической значимости различий между группами и сравните их с ожидаемыми результатами А/А тестирования.*"
   ]
  },
  {
   "cell_type": "code",
   "execution_count": 90,
   "metadata": {},
   "outputs": [
    {
     "name": "stdout",
     "output_type": "stream",
     "text": [
      "Статистичиески значимых различий между группами A и B не обнаружено.\n",
      "Статистичиески значимых различий между группами A и C не обнаружено.\n",
      "Статистичиески значимых различий между группами B и C не обнаружено.\n",
      "\n",
      "В данном случае А/А тестирование подтверждает стабильность и надежность эксперимента,\n",
      "так как все контрольные группы между собой имеют идентичность\n"
     ]
    }
   ],
   "source": [
    "def conclusion_a_a_test(*args):\n",
    "    group1, group2, p_value, alpha = args\n",
    "    message_good = f'Статистичиески значимых различий между группами {group1} и {group2} не обнаружено.'\n",
    "    message_failure = f'Обнаружены статистические значимые различия между группами {group1} и {group2}.'\n",
    "    return message_good if p_value < alpha else message_failure\n",
    "\n",
    "\n",
    "print(conclusion_a_a_test('A', 'B', p_value_AB, alpha))\n",
    "print(conclusion_a_a_test('A', 'C', p_value_AC, alpha))\n",
    "print(conclusion_a_a_test('B', 'C', p_value_BC, alpha))\n",
    "\n",
    "print('\\nВ данном случае А/А тестирование подтверждает стабильность и надежность эксперимента,\\nтак как все контрольные группы между собой имеют идентичность')"
   ]
  }
 ],
 "metadata": {
  "kernelspec": {
   "display_name": "venv",
   "language": "python",
   "name": "python3"
  },
  "language_info": {
   "codemirror_mode": {
    "name": "ipython",
    "version": 3
   },
   "file_extension": ".py",
   "mimetype": "text/x-python",
   "name": "python",
   "nbconvert_exporter": "python",
   "pygments_lexer": "ipython3",
   "version": "3.11.7"
  }
 },
 "nbformat": 4,
 "nbformat_minor": 2
}
