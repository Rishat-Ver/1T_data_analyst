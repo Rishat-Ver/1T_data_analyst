{
 "cells": [
  {
   "cell_type": "markdown",
   "id": "71926fa4",
   "metadata": {},
   "source": [
    "## Задачи с типами данных"
   ]
  },
  {
   "cell_type": "markdown",
   "id": "f5254f14",
   "metadata": {},
   "source": [
    "**1. Напишите программу, которая запрашивает у пользователя два числа, складывает их и выводит результат на экран. Затем программа должна запросить у пользователя две строки и объединить их в одну, после чего вывести результат на экран.**\n",
    "\n",
    "Пример результата выполнения программы:\n",
    "```\n",
    "Сумма: 30\n",
    "Объединенная строка: Hello world!\n",
    "```"
   ]
  },
  {
   "cell_type": "code",
   "execution_count": 117,
   "id": "6d9a9887",
   "metadata": {},
   "outputs": [
    {
     "name": "stdout",
     "output_type": "stream",
     "text": [
      "Сумма: 30\n",
      "Объединенная строка: ф ф!\n"
     ]
    }
   ],
   "source": [
    "number1, number2 = int(input()), int(input())\n",
    "string1, string2 = input(), input()\n",
    "\n",
    "summa = number1 + number2\n",
    "combined_string = string1 + ' ' + string2\n",
    "\n",
    "print(f\"Сумма: {summa}\")\n",
    "print(f\"Объединенная строка: {combined_string}!\")\n"
   ]
  },
  {
   "cell_type": "markdown",
   "id": "22d684a6",
   "metadata": {},
   "source": [
    "**2. Напишите программу, которая запрашивает у пользователя количество фотографий, сделанных, например, за декабрь, январь и февраль, а затем выводит эти данные на экран, а также суммирует количество за сезон, а также выводит среднее значение в месяц**"
   ]
  },
  {
   "cell_type": "markdown",
   "id": "e62a4a67",
   "metadata": {},
   "source": [
    "Пример выполнения программы:\n",
    "```\n",
    "Сколько фотографий Вы сделали в декабре? 145\n",
    "Сколько фотографий Вы сделали в январе? 201\n",
    "Сколько фотографий Вы сделали в феврале? 97\n",
    "\n",
    "За зимний сезон Вы сделали 443 фотографий!\n",
    "В среднем, Вы сделали 147.67 фотографий в месяц!\n",
    "```"
   ]
  },
  {
   "cell_type": "code",
   "execution_count": 118,
   "id": "2f3bc8cd",
   "metadata": {},
   "outputs": [
    {
     "name": "stdout",
     "output_type": "stream",
     "text": [
      "Всего фотографий: 600\n",
      "В среднем за месяц: 200 фотографий\n",
      "Наихудший месяц: Июль - 100 фотографий\n",
      "Наилучший месяц: Август - 300 фотографий\n"
     ]
    }
   ],
   "source": [
    "from random import choices\n",
    "import calendar, locale\n",
    "\n",
    "\n",
    "locale.setlocale(locale.LC_ALL, 'ru_RU.UTF-8') # задаем русский язык для календаря\n",
    "\n",
    "\n",
    "def photo_in_month(month, interval=3):\n",
    "    '''Запрашиваем данные о кол-ве сделанных фото за конкретный месяц'''\n",
    "\n",
    "    month_interval = choices(month, k=interval)\n",
    "    month_photo = {i: int(input(f\"Сколько фотографий Вы сделали за {i}? \")) for i in month_interval}\n",
    "\n",
    "    return month_photo\n",
    "\n",
    "\n",
    "def get_statistic(data):\n",
    "    '''Получаем статистику'''\n",
    "\n",
    "    all_photo = sum(data.values())\n",
    "    mean_photo = int(all_photo / len(data))\n",
    "    min_month = min(data, key=lambda x: data[x])\n",
    "    max_month = max(data, key=lambda x: data[x])\n",
    "\n",
    "    return  (f\"Всего фотографий: {all_photo}\\n\"\n",
    "             f\"В среднем за месяц: {mean_photo} фотографий\\n\"\n",
    "             f\"Наихудший месяц: {min_month} - {data[min_month]} фотографий\\n\"\n",
    "             f\"Наилучший месяц: {max_month} - {data[max_month]} фотографий\")\n",
    "\n",
    "\n",
    "data = photo_in_month(list(calendar.month_name)[1:]) # ввод данных, вторым параметром можно передать кол-во месяцев за которые хотим получить данные (по умолчанию 3)\n",
    "print(get_statistic(data)) # вывод статистики\n"
   ]
  },
  {
   "cell_type": "markdown",
   "id": "ad6a9045",
   "metadata": {},
   "source": [
    "**3. Придумайте программу, которая на вход будет получать словарь, выводом которого будет являться жанр фильма, к которому обратились(необязательно связывать с кинематографом). Такжи приведите пример вывода данных**"
   ]
  },
  {
   "cell_type": "markdown",
   "id": "7de979f8",
   "metadata": {},
   "source": [
    "Шаблон программы:"
   ]
  },
  {
   "cell_type": "markdown",
   "id": "e0aa89cd",
   "metadata": {},
   "source": [
    "```\n",
    "{\n",
    "  'Название фильма': 'Жанр фильма',\n",
    "  'Название фильма': 'Жанр фильма',\n",
    "  ...\n",
    "}\n",
    "```"
   ]
  },
  {
   "cell_type": "markdown",
   "id": "233893cf",
   "metadata": {},
   "source": [
    "Пример вывода:"
   ]
  },
  {
   "cell_type": "markdown",
   "id": "25a5dc0d",
   "metadata": {},
   "source": [
    "Мой любимый фильм \"Терминатор\", он исполнен в жанре \"Боевик\""
   ]
  },
  {
   "cell_type": "code",
   "execution_count": 119,
   "id": "87d633c8",
   "metadata": {},
   "outputs": [
    {
     "name": "stdout",
     "output_type": "stream",
     "text": [
      "Мой любимый жанр \"Фантастика\", советую к просмотру фильм \"Интерстеллар\"\n"
     ]
    }
   ],
   "source": [
    "ganre = ['Фантастика', 'Боевик', 'Фантази']\n",
    "film = ['Интерстеллар', 'Терминатор', 'Властелин колец']\n",
    "\n",
    "data = dict(zip(ganre, film))\n",
    "\n",
    "my_love_ganre = input('Мой любимый жанр: ')\n",
    "\n",
    "print(f'Мой любимый жанр \"{my_love_ganre}\", советую к просмотру фильм \"{data[my_love_ganre]}\"')"
   ]
  },
  {
   "cell_type": "markdown",
   "id": "2831e565",
   "metadata": {},
   "source": [
    "## Условный оператор if...else"
   ]
  },
  {
   "cell_type": "markdown",
   "id": "9a9ae7b8",
   "metadata": {},
   "source": [
    "**4. Напишите программу, в которой пользователь должен указать свой возраст, а на вывод получить ответ - совершеннолетний или нет**"
   ]
  },
  {
   "cell_type": "code",
   "execution_count": 120,
   "id": "15b0dd72",
   "metadata": {},
   "outputs": [
    {
     "data": {
      "text/plain": [
       "'Вы совершеннолетний'"
      ]
     },
     "execution_count": 120,
     "metadata": {},
     "output_type": "execute_result"
    }
   ],
   "source": [
    "def get_age_status(age):\n",
    "\n",
    "    return 'Вы совершеннолетний' if age >= 18 else 'Вы не совершеннолетний'\n",
    "\n",
    "\n",
    "age = int(input('Укажите свой возраст: '))\n",
    "get_age_status(age)"
   ]
  },
  {
   "cell_type": "markdown",
   "id": "725dae15",
   "metadata": {},
   "source": [
    "**5. Напишите программу, в которую необходимо ввести два числа и операцию, которую необходимо провести между ними, на выходе должен получится результат выбранной операции. Усложнение: защитите программу от ошибки в случае некорректности данных.**"
   ]
  },
  {
   "cell_type": "code",
   "execution_count": 121,
   "id": "ac373ab4",
   "metadata": {},
   "outputs": [
    {
     "data": {
      "text/plain": [
       "3"
      ]
     },
     "execution_count": 121,
     "metadata": {},
     "output_type": "execute_result"
    }
   ],
   "source": [
    "def perform_operation(number1, number2, operator):\n",
    "\n",
    "    try:\n",
    "        return eval(number1 + operator + number2)\n",
    "    except Exception as error:\n",
    "        return f\"Не могу совершить операцию, вот ошибка {error}\"\n",
    "\n",
    "\n",
    "number1, number2 = input(), input()\n",
    "operator = input('Введите оператор из перечисленных - (+, -, //, %, /, *): ')\n",
    "perform_operation(number1, number2, operator)"
   ]
  },
  {
   "cell_type": "markdown",
   "id": "42914d0e",
   "metadata": {},
   "source": [
    "##  Цикл For"
   ]
  },
  {
   "cell_type": "markdown",
   "id": "0f07e442",
   "metadata": {},
   "source": [
    "**6. Напишите программу, которая на выход получает список значений (от 5 до 10 будет достаточно). элементы списка будут возводиться в квадрат и выводить их по очереди. Для усложнения: создайте список, в котором будут ошибочные типы данных и защищите программу от ошибки.**"
   ]
  },
  {
   "cell_type": "markdown",
   "id": "c9788bf7",
   "metadata": {},
   "source": [
    "Пример выполнения программы:"
   ]
  },
  {
   "cell_type": "markdown",
   "id": "fcaae7b1",
   "metadata": {},
   "source": [
    "```\n",
    "квадрат числа 1 равен 1\n",
    "квадрат числа 20 равен 400\n",
    "квадрат числа 4 равен 16\n",
    "Ошибочный тип данных\n",
    "квадрат числа 16 равен 256\n",
    "квадрат числа 8 равен 64\n",
    "квадрат числа 23 равен 529\n",
    "Ошибочный тип данных\n",
    "```"
   ]
  },
  {
   "cell_type": "code",
   "execution_count": 122,
   "id": "f6fd4d73",
   "metadata": {},
   "outputs": [
    {
     "name": "stdout",
     "output_type": "stream",
     "text": [
      "квадрат числа 1 равен 1\n",
      "квадрат числа 2 равен 4\n",
      "квадрат числа 3 равен 9\n",
      "Ошибочный тип данных\n",
      "квадрат числа 2 равен 4\n",
      "квадрат числа 3 равен 9\n",
      "Ошибочный тип данных\n",
      "Ошибочный тип данных\n"
     ]
    },
    {
     "data": {
      "text/plain": [
       "[1, 2, 3, '4', 5, True, (1, 2, 3)]"
      ]
     },
     "execution_count": 122,
     "metadata": {},
     "output_type": "execute_result"
    }
   ],
   "source": [
    "from functools import wraps\n",
    "\n",
    "\n",
    "def check_lst(func):\n",
    "    '''Декоратор , который выведет сообщение , о не подходящем типе данных для операции возведения в квадрат'''\n",
    "\n",
    "    @wraps(func)\n",
    "    def wrapper(lst):\n",
    "        for i in lst:\n",
    "            try:\n",
    "                if not isinstance(i, (int, float, complex)):\n",
    "                    continue\n",
    "                else:\n",
    "                    func(lst)\n",
    "            except TypeError as error:\n",
    "                print(f\"Ошибочный тип данных\")\n",
    "                wrapper(lst[i:])\n",
    "            except Exception as error:\n",
    "                print(f\"Произошла не предвиденная ошибка\")\n",
    "            return lst\n",
    "    return wrapper\n",
    "\n",
    "\n",
    "@check_lst\n",
    "def lst_square(lst):\n",
    "\n",
    "    for i in lst:\n",
    "        print(f\"квадрат числа {i} равен {i ** 2}\")\n",
    "\n",
    "\n",
    "lst = [1, 2, 3, '4', 5, True, (1,2,3)]\n",
    "lst_square(lst)"
   ]
  },
  {
   "cell_type": "markdown",
   "id": "b9159cf2",
   "metadata": {},
   "source": [
    "**7. Целью следующей программы будет создание цикла в цикле, на вход должна поступить последовательность чисел. На выводе должны получиться последовательность чисел, которая будет являться перемножением всех чисел в списке друг на друга**"
   ]
  },
  {
   "cell_type": "markdown",
   "id": "6a7bb1e7",
   "metadata": {},
   "source": [
    "Например при перемножении всех значений друг на друга от 1 до 3 должен получиться подобный список:  \n",
    "```\n",
    "[1, 2, 3, 2, 4, 6, 3, 6, 9]\n",
    "```"
   ]
  },
  {
   "cell_type": "code",
   "execution_count": 123,
   "id": "77541ee4",
   "metadata": {},
   "outputs": [
    {
     "name": "stdout",
     "output_type": "stream",
     "text": [
      "Вроде это попросили: [2, 4, 6, 8, 4, 8, 12, 16, 6, 12, 18, 24, 8, 16, 24, 32]\n"
     ]
    }
   ],
   "source": [
    "lst1 = list(range(1, 5))\n",
    "lst2 = list(range(2, 10, 2))\n",
    "\n",
    "result = []\n",
    "\n",
    "for i in lst1:\n",
    "    for j in lst2:\n",
    "        result.append(i*j)\n",
    "\n",
    "print(f\"Вроде это попросили: {result}\")\n"
   ]
  },
  {
   "cell_type": "markdown",
   "id": "78101fe1",
   "metadata": {},
   "source": [
    "**8. Напишите программу, которая будет на вход получать список чисел  и определять чётное оно или нет**"
   ]
  },
  {
   "cell_type": "markdown",
   "id": "2ca3dc30",
   "metadata": {},
   "source": [
    "пример строки и вывода:"
   ]
  },
  {
   "cell_type": "markdown",
   "id": "8b18bd36",
   "metadata": {},
   "source": [
    "```\n",
    "lst = [2, 6, 7, 23, 908, 67, 33, 777]\n",
    "число чётное\n",
    "число чётное\n",
    "число нечётное\n",
    "число нечётное\n",
    "число чётное\n",
    "число нечётное\n",
    "число нечётное\n",
    "число нечётное\n",
    "```"
   ]
  },
  {
   "cell_type": "code",
   "execution_count": 124,
   "id": "16a287d9",
   "metadata": {},
   "outputs": [
    {
     "name": "stdout",
     "output_type": "stream",
     "text": [
      "число чётное\n",
      "число чётное\n",
      "число нечётное\n",
      "число нечётное\n",
      "число чётное\n",
      "число нечётное\n",
      "число нечётное\n",
      "число нечётное\n"
     ]
    }
   ],
   "source": [
    "lst = [2, 6, 7, 23, 908, 67, 33, 777]\n",
    "\n",
    "for i in lst:\n",
    "    if not i & 1:\n",
    "        print(f\"число чётное\")\n",
    "    else:\n",
    "        print(f\"число нечётное\")"
   ]
  },
  {
   "cell_type": "markdown",
   "id": "c69d346f",
   "metadata": {},
   "source": [
    "##  Функции"
   ]
  },
  {
   "cell_type": "markdown",
   "id": "86320b9a",
   "metadata": {},
   "source": [
    "**9. Интерпретируйте задачу № 5, то есть создайте функцию, в которую вы будете закладывать два числа и оператор, а на выход получать необходимый результат**"
   ]
  },
  {
   "cell_type": "code",
   "execution_count": 125,
   "id": "008bfafb",
   "metadata": {},
   "outputs": [
    {
     "data": {
      "text/plain": [
       "-10"
      ]
     },
     "execution_count": 125,
     "metadata": {},
     "output_type": "execute_result"
    }
   ],
   "source": [
    "def perform_operation2(number1, number2, operator):\n",
    "\n",
    "    try:\n",
    "        return eval(number1 + operator + number2)\n",
    "    except Exception as error:\n",
    "        return f\"Не могу совершить операцию, вот ошибка {error}\"\n",
    "\n",
    "\n",
    "number1, number2 = input(), input()\n",
    "operator = input('Введите оператор из перечисленных - (+, -, //, %, /, *): ')\n",
    "perform_operation2(number1, number2, operator)\n",
    "\n",
    "# Можно решить через кучу условных операторов , ну чет не хочется .\n",
    "# Другого способа как совершить операцию с вводимым пользователем оператором , кроме как eval() я не знаю"
   ]
  },
  {
   "cell_type": "markdown",
   "id": "888df09e",
   "metadata": {},
   "source": [
    "**10.Напишите функцию, которая принимает на вход два списка и объединяет их в один список, удаляя при этом дубликаты элементов. Для удаления дубликатов воспользуйтесь методом set()**"
   ]
  },
  {
   "cell_type": "code",
   "execution_count": 126,
   "id": "004d663c",
   "metadata": {},
   "outputs": [
    {
     "name": "stdout",
     "output_type": "stream",
     "text": [
      "[1, 2, 3, 4, 5, 6, 7, 8, 9, 10]\n"
     ]
    }
   ],
   "source": [
    "def unification_lst(lst1, lst2):\n",
    "\n",
    "    return list(set(lst1+lst2))\n",
    "\n",
    "\n",
    "lst1 = [1, 2, 4, 6, 7, 3, 9]\n",
    "lst2 = [3, 2, 5, 7, 8, 10]\n",
    "\n",
    "print(unification_lst(lst1, lst2))"
   ]
  },
  {
   "cell_type": "markdown",
   "id": "9e3727c4",
   "metadata": {},
   "source": [
    "**11. Напишите функцию, которая будет принимать на вход два списка, а возвращать только общие элементы этих списков.**"
   ]
  },
  {
   "cell_type": "code",
   "execution_count": 127,
   "id": "b100b23a",
   "metadata": {},
   "outputs": [
    {
     "name": "stdout",
     "output_type": "stream",
     "text": [
      "[3, 5, 8]\n"
     ]
    }
   ],
   "source": [
    "from collections import Counter\n",
    "\n",
    "\n",
    "def get_common_element(lst1, lst2):\n",
    "    '''Поиск только общих элементов в списке'''\n",
    "\n",
    "    lst1 = list(set(lst1))\n",
    "    lst2 = list(set(lst2))\n",
    "    count_number = Counter(lst1+lst2)\n",
    "    result = [i for i in count_number if count_number[i] > 1]\n",
    "    return result\n",
    "\n",
    "\n",
    "lst1 = [2, 3, 5, 8, 2, 4]\n",
    "lst2 = [1, 3, 9, 8, 11, 5]\n",
    "\n",
    "print(get_common_element(lst1, lst2))"
   ]
  }
 ],
 "metadata": {
  "kernelspec": {
   "display_name": "Python 3 (ipykernel)",
   "language": "python",
   "name": "python3"
  },
  "language_info": {
   "codemirror_mode": {
    "name": "ipython",
    "version": 3
   },
   "file_extension": ".py",
   "mimetype": "text/x-python",
   "name": "python",
   "nbconvert_exporter": "python",
   "pygments_lexer": "ipython3",
   "version": "3.11.7"
  }
 },
 "nbformat": 4,
 "nbformat_minor": 5
}
