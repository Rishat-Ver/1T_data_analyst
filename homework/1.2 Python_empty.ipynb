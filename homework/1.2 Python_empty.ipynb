{
 "cells": [
  {
   "cell_type": "markdown",
   "metadata": {},
   "source": [
    "**1. Придумай и выведи на экран любуб математическую операцию**"
   ]
  },
  {
   "cell_type": "markdown",
   "metadata": {},
   "source": [
    "Пример вывода:  \n",
    "`5 + 10 = 15`"
   ]
  },
  {
   "cell_type": "code",
   "execution_count": 1,
   "metadata": {},
   "outputs": [
    {
     "name": "stdout",
     "output_type": "stream",
     "text": [
      "((5 + 10) * (100 // 10)) % 10 = 0\n"
     ]
    }
   ],
   "source": [
    "print(f'((5 + 10) * (100 // 10)) % 10 = {((5 + 10) * (100 // 10)) % 15}')"
   ]
  },
  {
   "cell_type": "markdown",
   "metadata": {},
   "source": [
    "**2. Начинающий программист Марат изучает сложение переменных, в ходе работы у него возникла ошибка, помогите ему решить её, не перезаписывая исходные переменные `a` и `b`**"
   ]
  },
  {
   "cell_type": "code",
   "execution_count": 2,
   "metadata": {},
   "outputs": [],
   "source": [
    "a = 5\n",
    "b = \"18\""
   ]
  },
  {
   "cell_type": "code",
   "execution_count": 3,
   "metadata": {},
   "outputs": [
    {
     "name": "stdout",
     "output_type": "stream",
     "text": [
      "сумма чисел a + b = 23\n"
     ]
    }
   ],
   "source": [
    "print(f'сумма чисел a + b = {a + int(b)}')"
   ]
  },
  {
   "cell_type": "markdown",
   "metadata": {},
   "source": [
    "**3. У вас имеется две длинных строки, определите методами python, какая из строк самая длинная**"
   ]
  },
  {
   "cell_type": "code",
   "execution_count": 4,
   "metadata": {},
   "outputs": [],
   "source": [
    "a = 'dsdalkjdalkdwlkawjdpaskdalkdwokdji13712038120 lfkasfiu398nmd102u0n1d2uh34091d-2309d-1029387d1-jdskjde1-9837-12983dnhiojdnsd1-98237-d18dsjde-n1892d73-9817b-y14f81w-uedoij1dsi-ef7-23f871-9wf8bjd-b83f1b-72983471f-9b-jsdbi-f12-6481y24f81b65-f-bsdjdfb-9e817b324-8916f-598u-0f1bsud-0891u-4976-9561-098f7-isdbjjsd1ji-dj1-9848365-9187ywfb-odkjhsdkjdif156198fobdk159i1b3-598761iosbd1-8956'\n",
    "b = '8954985y2-89eu-v1089374-124 923481-2039812-=07581vn490vb7n230957vzgpofigu-09r756a0v-=9e475=0av9nuf=vawe584=n0av98wr=f098a=0-4985=avn769b=an978v=0m9c8d=a-845v=982=-0850928n [podfugn[b09a7859n0a-fadsdadalskjdhalkdjwdhsjdhjjjjjjjjjjjjjjjjjjjjjjjjjjdhwued10284chncq;akfsdhac3475-acb7-va8b-7v6-awedfjvaspdofia[sv7876-a09v4u[aadkfja;dkfjfdhslfdjfhslfduyab vhfguyeuiywiuryb  wiruyervobsdufvoisyuveobyvrsbvdhfnvsioudfcmsueiurfosnufdfsceoirysn09r8usnfuoisf[parta[ngyuba]]]]'"
   ]
  },
  {
   "cell_type": "code",
   "execution_count": 5,
   "metadata": {},
   "outputs": [
    {
     "name": "stdout",
     "output_type": "stream",
     "text": [
      "Строка b = '89549...' длинее a = 'dsdal...'\n"
     ]
    }
   ],
   "source": [
    "result = f\"Строка  a = '{a[:5]}...' длинее строки b = '{b[:5]}...'\" if len(a) > len(b) else f\"Строка b = '{b[:5]}...' длинее a = '{a[:5]}...'\"\n",
    "print(result)"
   ]
  },
  {
   "cell_type": "markdown",
   "metadata": {},
   "source": [
    "**4. Создайте словарь, ключами в котором является статус в семье (мама, папа, сын, дочь, бабушка, дедушка и т.д.) по отношению к Вам. А значениями будут их имена.**  \n",
    "`Всю информацию можно выдумать`"
   ]
  },
  {
   "cell_type": "code",
   "execution_count": 6,
   "metadata": {},
   "outputs": [
    {
     "name": "stdout",
     "output_type": "stream",
     "text": [
      "{'бабушка': 'Сания',\n",
      " 'брат': 'Руслан',\n",
      " 'мама': 'Динара',\n",
      " 'сестра': 'Мика'}\n"
     ]
    }
   ],
   "source": [
    "from pprint import pprint\n",
    "\n",
    "\n",
    "status = ['мама', 'бабушка', 'сестра', 'брат']\n",
    "names = ['Динара', 'Сания', 'Мика', 'Руслан']\n",
    "\n",
    "result = dict(zip(status, names))\n",
    "\n",
    "pprint(result, width=15, indent=1)"
   ]
  },
  {
   "cell_type": "markdown",
   "metadata": {},
   "source": [
    "**5. Необходимо в цикле вывести статус всех членов семьи из словаря предыдущего задания**"
   ]
  },
  {
   "cell_type": "markdown",
   "metadata": {},
   "source": [
    "Пример вывода:  \n",
    "`В словаре есть мама`  \n",
    "`В словаре есть отец`  \n",
    "`В словаре есть брат_1`  \n",
    "`В словаре есть брат_2`  "
   ]
  },
  {
   "cell_type": "markdown",
   "metadata": {},
   "source": [
    "**Вывод всех строк должен отображаться за одно выполнение ячейки**"
   ]
  },
  {
   "cell_type": "code",
   "execution_count": 7,
   "metadata": {},
   "outputs": [
    {
     "name": "stdout",
     "output_type": "stream",
     "text": [
      "В словаре есть мама\n",
      "В словаре есть бабушка\n",
      "В словаре есть сестра\n",
      "В словаре есть брат\n",
      "Задание выполненно !\n"
     ]
    }
   ],
   "source": [
    "[print(f'В словаре есть {i}') for i in result]\n",
    "\n",
    "print('Задание выполненно !')"
   ]
  }
 ],
 "metadata": {
  "kernelspec": {
   "display_name": "Python 3",
   "language": "python",
   "name": "python3"
  },
  "language_info": {
   "codemirror_mode": {
    "name": "ipython",
    "version": 3
   },
   "file_extension": ".py",
   "mimetype": "text/x-python",
   "name": "python",
   "nbconvert_exporter": "python",
   "pygments_lexer": "ipython3",
   "version": "3.11.7"
  }
 },
 "nbformat": 4,
 "nbformat_minor": 2
}
