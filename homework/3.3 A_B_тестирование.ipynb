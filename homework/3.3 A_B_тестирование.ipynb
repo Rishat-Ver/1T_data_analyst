{
 "cells": [
  {
   "cell_type": "markdown",
   "metadata": {},
   "source": [
    "## Домашнее задание 3.3 "
   ]
  },
  {
   "cell_type": "markdown",
   "metadata": {},
   "source": [
    "### Импорт библиотек"
   ]
  },
  {
   "cell_type": "code",
   "execution_count": 260,
   "metadata": {},
   "outputs": [],
   "source": [
    "import pandas as pd\n",
    "import numpy as np\n",
    "from scipy.stats import chi2_contingency\n",
    "import seaborn as sns\n",
    "import matplotlib.pyplot as plt\n",
    "from pandas.errors import SettingWithCopyWarning\n",
    "\n",
    "import warnings"
   ]
  },
  {
   "cell_type": "markdown",
   "metadata": {},
   "source": [
    "### Глобальные настройки"
   ]
  },
  {
   "cell_type": "code",
   "execution_count": 261,
   "metadata": {},
   "outputs": [],
   "source": [
    "warnings.filterwarnings(\"ignore\", category=UserWarning)\n",
    "warnings.simplefilter(action='ignore', category=SettingWithCopyWarning)\n",
    "\n",
    "np.random.seed(42)\n",
    "\n",
    "sns.set_theme(style=\"darkgrid\")\n",
    "\n",
    "all_users = 2400\n",
    "len_group = all_users // 2\n",
    "count_users_A = 0, 1200\n",
    "count_users_B = 1200, 2400"
   ]
  },
  {
   "cell_type": "markdown",
   "metadata": {},
   "source": [
    "#### *1. Сгенерируйте искусственные данные для этого A/B-теста.*"
   ]
  },
  {
   "cell_type": "code",
   "execution_count": 262,
   "metadata": {},
   "outputs": [],
   "source": [
    "group_A =  pd.DataFrame({\n",
    "    'user_id': np.arange(*count_users_A),\n",
    "    'group': 'A',\n",
    "    'conversion': np.random.choice([0, 1], size=len_group, p=[0.5, 0.5])\n",
    "})\n",
    "\n",
    "group_B =  pd.DataFrame({\n",
    "    'user_id': np.arange(*count_users_B),\n",
    "    'group': 'B',\n",
    "    'conversion': np.random.choice([0, 1], size=len_group, p=[0.45, 0.55])\n",
    "})\n",
    "\n",
    "test_data = pd.concat([group_A, group_B], ignore_index=True)"
   ]
  },
  {
   "cell_type": "markdown",
   "metadata": {},
   "source": [
    "#### *2. Проведите бутстрап-анализ для оценки различий в средних коэффициентах конверсии между двумя группами.*"
   ]
  },
  {
   "cell_type": "code",
   "execution_count": 263,
   "metadata": {},
   "outputs": [
    {
     "name": "stdout",
     "output_type": "stream",
     "text": [
      "99% доверительный интервал для разницы в средних:  [0.01541667 0.0825    ]\n"
     ]
    }
   ],
   "source": [
    "def bootstrap_means(test_data, n_bootstrap_samples=10000):\n",
    "    bootstrap_sample_means = []\n",
    "    for _ in range(n_bootstrap_samples):\n",
    "        bootstrap_sample = np.random.choice(test_data, size=all_users, replace=True)\n",
    "        bootstrap_sample_means.append(bootstrap_sample.mean())\n",
    "    return np.array(bootstrap_sample_means)\n",
    "\n",
    "bootstrap_means_A = bootstrap_means(test_data.loc[test_data['group'] == 'A', 'conversion'])\n",
    "bootstrap_means_B = bootstrap_means(test_data.loc[test_data['group'] == 'B', 'conversion'])\n",
    "\n",
    "boot_diff_means = bootstrap_means_B - bootstrap_means_A\n",
    "\n",
    "blowout = np.percentile(boot_diff_means, [1, 99])\n",
    "print('99% доверительный интервал для разницы в средних: ', blowout)"
   ]
  },
  {
   "cell_type": "markdown",
   "metadata": {},
   "source": [
    "#### *3. Проведите тест Хи-квадрат для оценки значимости различий в коэффициентах конверсии между двумя группами.*"
   ]
  },
  {
   "cell_type": "code",
   "execution_count": 264,
   "metadata": {},
   "outputs": [
    {
     "name": "stdout",
     "output_type": "stream",
     "text": [
      "Chi2: 5.633618051916425, p-value: 0.017619229131454067\n"
     ]
    }
   ],
   "source": [
    "contingency_table = pd.crosstab(test_data['group'], test_data['conversion'])\n",
    "chi2, p_value, _, _ = chi2_contingency(contingency_table)\n",
    "\n",
    "print(f\"Chi2: {chi2}, p-value: {p_value}\")"
   ]
  },
  {
   "cell_type": "markdown",
   "metadata": {},
   "source": [
    "#### *4. Сгенерируйте искусственные метки времени для каждого пользователя, распределенные равномерно в течение 2023 года.*"
   ]
  },
  {
   "cell_type": "code",
   "execution_count": 265,
   "metadata": {},
   "outputs": [
    {
     "data": {
      "text/html": [
       "<div>\n",
       "<style scoped>\n",
       "    .dataframe tbody tr th:only-of-type {\n",
       "        vertical-align: middle;\n",
       "    }\n",
       "\n",
       "    .dataframe tbody tr th {\n",
       "        vertical-align: top;\n",
       "    }\n",
       "\n",
       "    .dataframe thead th {\n",
       "        text-align: right;\n",
       "    }\n",
       "</style>\n",
       "<table border=\"1\" class=\"dataframe\">\n",
       "  <thead>\n",
       "    <tr style=\"text-align: right;\">\n",
       "      <th></th>\n",
       "      <th>user_id</th>\n",
       "      <th>group</th>\n",
       "      <th>conversion</th>\n",
       "      <th>timestamp</th>\n",
       "    </tr>\n",
       "  </thead>\n",
       "  <tbody>\n",
       "    <tr>\n",
       "      <th>0</th>\n",
       "      <td>0</td>\n",
       "      <td>A</td>\n",
       "      <td>0</td>\n",
       "      <td>2023-10-29 18:58:40.466861192</td>\n",
       "    </tr>\n",
       "    <tr>\n",
       "      <th>1</th>\n",
       "      <td>1</td>\n",
       "      <td>A</td>\n",
       "      <td>1</td>\n",
       "      <td>2023-05-17 20:38:54.972905378</td>\n",
       "    </tr>\n",
       "    <tr>\n",
       "      <th>2</th>\n",
       "      <td>2</td>\n",
       "      <td>A</td>\n",
       "      <td>1</td>\n",
       "      <td>2023-04-19 00:45:37.140475198</td>\n",
       "    </tr>\n",
       "  </tbody>\n",
       "</table>\n",
       "</div>"
      ],
      "text/plain": [
       "   user_id group  conversion                     timestamp\n",
       "0        0     A           0 2023-10-29 18:58:40.466861192\n",
       "1        1     A           1 2023-05-17 20:38:54.972905378\n",
       "2        2     A           1 2023-04-19 00:45:37.140475198"
      ]
     },
     "metadata": {},
     "output_type": "display_data"
    },
    {
     "data": {
      "text/html": [
       "<div>\n",
       "<style scoped>\n",
       "    .dataframe tbody tr th:only-of-type {\n",
       "        vertical-align: middle;\n",
       "    }\n",
       "\n",
       "    .dataframe tbody tr th {\n",
       "        vertical-align: top;\n",
       "    }\n",
       "\n",
       "    .dataframe thead th {\n",
       "        text-align: right;\n",
       "    }\n",
       "</style>\n",
       "<table border=\"1\" class=\"dataframe\">\n",
       "  <thead>\n",
       "    <tr style=\"text-align: right;\">\n",
       "      <th></th>\n",
       "      <th>user_id</th>\n",
       "      <th>group</th>\n",
       "      <th>conversion</th>\n",
       "      <th>timestamp</th>\n",
       "    </tr>\n",
       "  </thead>\n",
       "  <tbody>\n",
       "    <tr>\n",
       "      <th>2397</th>\n",
       "      <td>2397</td>\n",
       "      <td>B</td>\n",
       "      <td>0</td>\n",
       "      <td>2023-11-02 06:43:58.099208004</td>\n",
       "    </tr>\n",
       "    <tr>\n",
       "      <th>2398</th>\n",
       "      <td>2398</td>\n",
       "      <td>B</td>\n",
       "      <td>1</td>\n",
       "      <td>2023-12-26 03:28:17.207169656</td>\n",
       "    </tr>\n",
       "    <tr>\n",
       "      <th>2399</th>\n",
       "      <td>2399</td>\n",
       "      <td>B</td>\n",
       "      <td>1</td>\n",
       "      <td>2023-02-20 12:37:30.937890788</td>\n",
       "    </tr>\n",
       "  </tbody>\n",
       "</table>\n",
       "</div>"
      ],
      "text/plain": [
       "      user_id group  conversion                     timestamp\n",
       "2397     2397     B           0 2023-11-02 06:43:58.099208004\n",
       "2398     2398     B           1 2023-12-26 03:28:17.207169656\n",
       "2399     2399     B           1 2023-02-20 12:37:30.937890788"
      ]
     },
     "metadata": {},
     "output_type": "display_data"
    }
   ],
   "source": [
    "date_range = pd.date_range(start='2023-01-01', end='2023-12-31', periods=all_users)\n",
    "test_data['timestamp'] = np.random.choice(date_range, all_users, replace=False)\n",
    "\n",
    "display(test_data.head(3))\n",
    "display(test_data.tail(3))"
   ]
  },
  {
   "cell_type": "markdown",
   "metadata": {},
   "source": [
    "#### *5. Сгенерируйте искусственные признаки «месяц» и «год» на основе этих меток времени.*"
   ]
  },
  {
   "cell_type": "code",
   "execution_count": 266,
   "metadata": {},
   "outputs": [
    {
     "data": {
      "text/html": [
       "<div>\n",
       "<style scoped>\n",
       "    .dataframe tbody tr th:only-of-type {\n",
       "        vertical-align: middle;\n",
       "    }\n",
       "\n",
       "    .dataframe tbody tr th {\n",
       "        vertical-align: top;\n",
       "    }\n",
       "\n",
       "    .dataframe thead th {\n",
       "        text-align: right;\n",
       "    }\n",
       "</style>\n",
       "<table border=\"1\" class=\"dataframe\">\n",
       "  <thead>\n",
       "    <tr style=\"text-align: right;\">\n",
       "      <th></th>\n",
       "      <th>user_id</th>\n",
       "      <th>group</th>\n",
       "      <th>conversion</th>\n",
       "      <th>timestamp</th>\n",
       "      <th>month</th>\n",
       "      <th>year</th>\n",
       "    </tr>\n",
       "  </thead>\n",
       "  <tbody>\n",
       "    <tr>\n",
       "      <th>0</th>\n",
       "      <td>0</td>\n",
       "      <td>A</td>\n",
       "      <td>0</td>\n",
       "      <td>2023-10-29 18:58:40.466861192</td>\n",
       "      <td>10</td>\n",
       "      <td>2023</td>\n",
       "    </tr>\n",
       "    <tr>\n",
       "      <th>1</th>\n",
       "      <td>1</td>\n",
       "      <td>A</td>\n",
       "      <td>1</td>\n",
       "      <td>2023-05-17 20:38:54.972905378</td>\n",
       "      <td>5</td>\n",
       "      <td>2023</td>\n",
       "    </tr>\n",
       "    <tr>\n",
       "      <th>2</th>\n",
       "      <td>2</td>\n",
       "      <td>A</td>\n",
       "      <td>1</td>\n",
       "      <td>2023-04-19 00:45:37.140475198</td>\n",
       "      <td>4</td>\n",
       "      <td>2023</td>\n",
       "    </tr>\n",
       "  </tbody>\n",
       "</table>\n",
       "</div>"
      ],
      "text/plain": [
       "   user_id group  conversion                     timestamp  month  year\n",
       "0        0     A           0 2023-10-29 18:58:40.466861192     10  2023\n",
       "1        1     A           1 2023-05-17 20:38:54.972905378      5  2023\n",
       "2        2     A           1 2023-04-19 00:45:37.140475198      4  2023"
      ]
     },
     "metadata": {},
     "output_type": "display_data"
    },
    {
     "data": {
      "text/html": [
       "<div>\n",
       "<style scoped>\n",
       "    .dataframe tbody tr th:only-of-type {\n",
       "        vertical-align: middle;\n",
       "    }\n",
       "\n",
       "    .dataframe tbody tr th {\n",
       "        vertical-align: top;\n",
       "    }\n",
       "\n",
       "    .dataframe thead th {\n",
       "        text-align: right;\n",
       "    }\n",
       "</style>\n",
       "<table border=\"1\" class=\"dataframe\">\n",
       "  <thead>\n",
       "    <tr style=\"text-align: right;\">\n",
       "      <th></th>\n",
       "      <th>user_id</th>\n",
       "      <th>group</th>\n",
       "      <th>conversion</th>\n",
       "      <th>timestamp</th>\n",
       "      <th>month</th>\n",
       "      <th>year</th>\n",
       "    </tr>\n",
       "  </thead>\n",
       "  <tbody>\n",
       "    <tr>\n",
       "      <th>2397</th>\n",
       "      <td>2397</td>\n",
       "      <td>B</td>\n",
       "      <td>0</td>\n",
       "      <td>2023-11-02 06:43:58.099208004</td>\n",
       "      <td>11</td>\n",
       "      <td>2023</td>\n",
       "    </tr>\n",
       "    <tr>\n",
       "      <th>2398</th>\n",
       "      <td>2398</td>\n",
       "      <td>B</td>\n",
       "      <td>1</td>\n",
       "      <td>2023-12-26 03:28:17.207169656</td>\n",
       "      <td>12</td>\n",
       "      <td>2023</td>\n",
       "    </tr>\n",
       "    <tr>\n",
       "      <th>2399</th>\n",
       "      <td>2399</td>\n",
       "      <td>B</td>\n",
       "      <td>1</td>\n",
       "      <td>2023-02-20 12:37:30.937890788</td>\n",
       "      <td>2</td>\n",
       "      <td>2023</td>\n",
       "    </tr>\n",
       "  </tbody>\n",
       "</table>\n",
       "</div>"
      ],
      "text/plain": [
       "      user_id group  conversion                     timestamp  month  year\n",
       "2397     2397     B           0 2023-11-02 06:43:58.099208004     11  2023\n",
       "2398     2398     B           1 2023-12-26 03:28:17.207169656     12  2023\n",
       "2399     2399     B           1 2023-02-20 12:37:30.937890788      2  2023"
      ]
     },
     "metadata": {},
     "output_type": "display_data"
    }
   ],
   "source": [
    "test_data['month'] = test_data['timestamp'].dt.month\n",
    "test_data['year'] = test_data['timestamp'].dt.year\n",
    "\n",
    "display(test_data.head(3))\n",
    "display(test_data.tail(3))"
   ]
  },
  {
   "cell_type": "markdown",
   "metadata": {},
   "source": [
    "#### *6. Постройте графики, показывающие изменение средних коэффициентов конверсии в течение года по месяцам и для всего года.*"
   ]
  },
  {
   "cell_type": "code",
   "execution_count": 267,
   "metadata": {},
   "outputs": [
    {
     "data": {
      "image/png": "[encoded data removed]",
      "text/plain": [
       "<Figure size 1200x300 with 1 Axes>"
      ]
     },
     "metadata": {},
     "output_type": "display_data"
    }
   ],
   "source": [
    "mean_conversion = test_data.groupby(['group', 'month']).mean()['conversion'].reset_index()\n",
    "\n",
    "plt.figure(figsize=(12, 3))\n",
    "sns.lineplot(data=mean_conversion, x='month', y='conversion', hue='group')\n",
    "\n",
    "plt.title('Средний коэффициент конверсии по месяцам')\n",
    "plt.xlabel('Месяц')\n",
    "plt.ylabel('Коэффициент конверсии')\n",
    "\n",
    "plt.show()"
   ]
  },
  {
   "cell_type": "markdown",
   "metadata": {},
   "source": [
    "#### *7. Напишите вывод по результатам эксперимента.*\n",
    "\n",
    "Новый дизайн сайта показал улучшение в коэффициентах конверсии , и статистические тесты подтвердили, что это улучшение значимо.<br> Рекомендуется внедрить новый дизайн для всех пользователей.<br>\n",
    "\n",
    "1. **Бутстрап-анализ** показал, доверительный интервал (99%) для разницы в средних коэффициентах конверсии не включает 0, что указывает на значительное различие между группами A и B.\n",
    "2. **Тест Хи-квадрат** также показал значительное различие (p-value < 0.05), что дополнительно подтверждает значимость изменений.\n",
    "3. **Анализ временных меток** показывает, что улучшения в коэффициентах конверсии группы B по сравнению с группой A наблюдаются в разные месяцы, что можно увидеть на графике."
   ]
  }
 ],
 "metadata": {
  "kernelspec": {
   "display_name": "venv",
   "language": "python",
   "name": "python3"
  },
  "language_info": {
   "codemirror_mode": {
    "name": "ipython",
    "version": 3
   },
   "file_extension": ".py",
   "mimetype": "text/x-python",
   "name": "python",
   "nbconvert_exporter": "python",
   "pygments_lexer": "ipython3",
   "version": "3.11.7"
  }
 },
 "nbformat": 4,
 "nbformat_minor": 2
}
