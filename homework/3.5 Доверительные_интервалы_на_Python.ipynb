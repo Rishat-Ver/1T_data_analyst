{
 "cells": [
  {
   "cell_type": "markdown",
   "metadata": {},
   "source": [
    "# Домашнее задание 3.5"
   ]
  },
  {
   "cell_type": "markdown",
   "metadata": {},
   "source": [
    "### 1. Загрузка библиотек и генерация данных:"
   ]
  },
  {
   "cell_type": "markdown",
   "metadata": {},
   "source": [
    "#### *Импорт библиотек*"
   ]
  },
  {
   "cell_type": "code",
   "execution_count": 427,
   "metadata": {},
   "outputs": [],
   "source": [
    "import numpy as np\n",
    "import pandas as pd\n",
    "import matplotlib.pyplot as plt\n",
    "import seaborn as sns\n",
    "from scipy import stats\n",
    "from pandas.errors import SettingWithCopyWarning\n",
    "from faker import Faker\n",
    "\n",
    "import warnings"
   ]
  },
  {
   "cell_type": "markdown",
   "metadata": {},
   "source": [
    "#### *Глобальные настройки*"
   ]
  },
  {
   "cell_type": "code",
   "execution_count": 428,
   "metadata": {},
   "outputs": [],
   "source": [
    "warnings.filterwarnings(\"ignore\", category=UserWarning)\n",
    "warnings.simplefilter(action='ignore', category=SettingWithCopyWarning)\n",
    "\n",
    "np.random.seed(42)\n",
    "\n",
    "sns.set_theme(style=\"darkgrid\")\n",
    "\n",
    "fake = Faker('ru_RU')"
   ]
  },
  {
   "cell_type": "markdown",
   "metadata": {},
   "source": [
    "#### *Генерация данных*\n",
    "`data` - DataFrame с данными\n",
    "   - `user` - пользователи, рандобно сгенерировал имена с помощью библиотеки faker (для красоты)\n",
    "   - `means` - среднее пользователя\n",
    "      - среднее=100\n",
    "      - стандартное отклонение=15\n",
    "      - размер выборки=1000\n",
    "   - `success` = Успех/Не успех (0/1)"
   ]
  },
  {
   "cell_type": "code",
   "execution_count": 429,
   "metadata": {},
   "outputs": [
    {
     "data": {
      "text/html": [
       "<div>\n",
       "<style scoped>\n",
       "    .dataframe tbody tr th:only-of-type {\n",
       "        vertical-align: middle;\n",
       "    }\n",
       "\n",
       "    .dataframe tbody tr th {\n",
       "        vertical-align: top;\n",
       "    }\n",
       "\n",
       "    .dataframe thead th {\n",
       "        text-align: right;\n",
       "    }\n",
       "</style>\n",
       "<table border=\"1\" class=\"dataframe\">\n",
       "  <thead>\n",
       "    <tr style=\"text-align: right;\">\n",
       "      <th></th>\n",
       "      <th>user</th>\n",
       "      <th>means</th>\n",
       "      <th>success</th>\n",
       "    </tr>\n",
       "  </thead>\n",
       "  <tbody>\n",
       "    <tr>\n",
       "      <th>0</th>\n",
       "      <td>Воробьев Спиридон Давидович</td>\n",
       "      <td>109.934283</td>\n",
       "      <td>0</td>\n",
       "    </tr>\n",
       "    <tr>\n",
       "      <th>1</th>\n",
       "      <td>Василиса Николаевна Соловьева</td>\n",
       "      <td>97.234714</td>\n",
       "      <td>1</td>\n",
       "    </tr>\n",
       "    <tr>\n",
       "      <th>2</th>\n",
       "      <td>Тетерина Лидия Кузьминична</td>\n",
       "      <td>112.953771</td>\n",
       "      <td>0</td>\n",
       "    </tr>\n",
       "  </tbody>\n",
       "</table>\n",
       "</div>"
      ],
      "text/plain": [
       "                            user       means  success\n",
       "0    Воробьев Спиридон Давидович  109.934283        0\n",
       "1  Василиса Николаевна Соловьева   97.234714        1\n",
       "2     Тетерина Лидия Кузьминична  112.953771        0"
      ]
     },
     "metadata": {},
     "output_type": "display_data"
    },
    {
     "data": {
      "text/html": [
       "<div>\n",
       "<style scoped>\n",
       "    .dataframe tbody tr th:only-of-type {\n",
       "        vertical-align: middle;\n",
       "    }\n",
       "\n",
       "    .dataframe tbody tr th {\n",
       "        vertical-align: top;\n",
       "    }\n",
       "\n",
       "    .dataframe thead th {\n",
       "        text-align: right;\n",
       "    }\n",
       "</style>\n",
       "<table border=\"1\" class=\"dataframe\">\n",
       "  <thead>\n",
       "    <tr style=\"text-align: right;\">\n",
       "      <th></th>\n",
       "      <th>user</th>\n",
       "      <th>means</th>\n",
       "      <th>success</th>\n",
       "    </tr>\n",
       "  </thead>\n",
       "  <tbody>\n",
       "    <tr>\n",
       "      <th>997</th>\n",
       "      <td>Волкова Алевтина Геннадиевна</td>\n",
       "      <td>112.816857</td>\n",
       "      <td>1</td>\n",
       "    </tr>\n",
       "    <tr>\n",
       "      <th>998</th>\n",
       "      <td>Нинель Макаровна Савельева</td>\n",
       "      <td>88.576420</td>\n",
       "      <td>0</td>\n",
       "    </tr>\n",
       "    <tr>\n",
       "      <th>999</th>\n",
       "      <td>Егорова Василиса Наумовна</td>\n",
       "      <td>111.451656</td>\n",
       "      <td>0</td>\n",
       "    </tr>\n",
       "  </tbody>\n",
       "</table>\n",
       "</div>"
      ],
      "text/plain": [
       "                             user       means  success\n",
       "997  Волкова Алевтина Геннадиевна  112.816857        1\n",
       "998    Нинель Макаровна Савельева   88.576420        0\n",
       "999     Егорова Василиса Наумовна  111.451656        0"
      ]
     },
     "metadata": {},
     "output_type": "display_data"
    }
   ],
   "source": [
    "data = pd.DataFrame({\n",
    "    'user': [fake.name() for _ in range(1000)],\n",
    "    'means': np.random.normal(loc=100, scale=20, size=1000),\n",
    "    'success': np.random.randint(0, 2, size=1000),\n",
    "})\n",
    "\n",
    "display(data.head(3))\n",
    "display(data.tail(3))"
   ]
  },
  {
   "cell_type": "markdown",
   "metadata": {},
   "source": [
    "### 2. Расчет доверительного интервала для среднего значения:\n",
    "- `mean_means` - Среднее значение выборки по колонке **means**\n",
    "- `std_means` - Стандартное отклонение среднего значения\n",
    "- `count_selection` - Размер выборки\n",
    "- `error_mean` - Вычисление стандартной ошибки среднего\n",
    "- `confidence_level` - Уровень доверия 95%\n",
    "- `error_rate` - Величину допустимой погрешности \n",
    "- `lower_confidence_interval` - Нижняя границы доверительного интервала\n",
    "- `upper_confidence_interval` - Верхняя границы доверительного интервала"
   ]
  },
  {
   "cell_type": "code",
   "execution_count": 430,
   "metadata": {},
   "outputs": [
    {
     "name": "stdout",
     "output_type": "stream",
     "text": [
      "\n",
      "       Нижняя границы доверительного интервала для среднего значения: 99.17281476837209\n",
      "       Верхняя границы доверительного интервала для среднего значения: 101.60046746452093\n",
      "      \n"
     ]
    }
   ],
   "source": [
    "mean_means = np.mean(data['means'])\n",
    "std_means = np.std(data['means'], ddof=1)\n",
    "count_selection = len(data['means'])\n",
    "error_mean = std_means / np.sqrt(count_selection)\n",
    "confidence_level = 0.95\n",
    "error_rate = stats.norm.ppf((1 + confidence_level) / 2)\n",
    "\n",
    "lower_interval_means = mean_means - error_rate * error_mean\n",
    "upper_interval_means = mean_means + error_rate * error_mean\n",
    "interval_mean = lower_interval_means, upper_interval_means\n",
    "\n",
    "print(f'''\n",
    "       Нижняя границы доверительного интервала для среднего значения: {lower_interval_means}\n",
    "       Верхняя границы доверительного интервала для среднего значения: {upper_interval_means}\n",
    "      ''')"
   ]
  },
  {
   "cell_type": "markdown",
   "metadata": {},
   "source": [
    "### 3. Расчет доверительного интервала для доли\n",
    "- `count_success` - Подсчет успешных результатов\n",
    "- `assessment ` - Оценка вероятности успеха\n",
    "- `count_selection` - Количества наблюдений\n",
    "- `error_success` - Расчет стандартной ошибки для доли успеха\n",
    "- `confidence_level` - Урокень доверия 95 %\n",
    "- `error_rate` - Величину допустимой погрешности\n",
    "- `lower_confidence_interval` - Нижняя границы доверительного интервала\n",
    "- `upper_confidence_interval` - Верхняя границы доверительного интервала"
   ]
  },
  {
   "cell_type": "code",
   "execution_count": 431,
   "metadata": {},
   "outputs": [
    {
     "name": "stdout",
     "output_type": "stream",
     "text": [
      "\n",
      "       Нижняя границы доверительного интервала для доли: 0.4800177488123244\n",
      "       Верхняя границы доверительного интервала для доли: 0.5419822511876756\n",
      "      \n"
     ]
    }
   ],
   "source": [
    "count_success = np.sum(data['success'])\n",
    "assessment  = count_success / len(data['success'])\n",
    "count_selection = len(data['success'])\n",
    "error_success = np.sqrt(assessment  * (1 - assessment ) / count_selection)\n",
    "confidence_level = 0.95\n",
    "error_rate = stats.norm.ppf((1 + confidence_level) / 2)\n",
    "\n",
    "lower_interval_success = assessment  - error_rate * error_success\n",
    "upper_interval_success = assessment  + error_rate * error_success\n",
    "interval_success = lower_interval_success, upper_interval_success\n",
    "\n",
    "print(f'''\n",
    "       Нижняя границы доверительного интервала для доли: {lower_interval_success}\n",
    "       Верхняя границы доверительного интервала для доли: {upper_interval_success}\n",
    "      ''')"
   ]
  },
  {
   "cell_type": "markdown",
   "metadata": {},
   "source": [
    "### 4. Визуализация результатов"
   ]
  },
  {
   "cell_type": "markdown",
   "metadata": {},
   "source": [
    "*Визуализация доверительного интервала для среднего значения*"
   ]
  },
  {
   "cell_type": "code",
   "execution_count": 432,
   "metadata": {},
   "outputs": [
    {
     "data": {
      "image/png": "[encoded data removed]",
      "text/plain": [
       "<Figure size 1000x300 with 1 Axes>"
      ]
     },
     "metadata": {},
     "output_type": "display_data"
    }
   ],
   "source": [
    "plt.figure(figsize=(10, 3))\n",
    "\n",
    "plt.errorbar(x='mean_means',\n",
    "             y=mean_means,\n",
    "             yerr=[error_rate * error_mean],\n",
    "             fmt='o',\n",
    "             markersize=6,\n",
    "             capsize=4,\n",
    "             color='blue',\n",
    "             label='95% Интервал')\n",
    "\n",
    "plt.title('Доверительный интервал для среднего значения')\n",
    "plt.ylabel('Значение')\n",
    "plt.legend()\n",
    "\n",
    "plt.text('mean_means', mean_means, f' {round(mean_means, 2)}', verticalalignment='center', horizontalalignment='left')\n",
    "plt.text('mean_means', lower_interval_means, f' {round(lower_interval_means, 2)}', verticalalignment='center', horizontalalignment='left')\n",
    "plt.text('mean_means', upper_interval_means, f' {round(upper_interval_means, 2)}', verticalalignment='center', horizontalalignment='left')\n",
    "\n",
    "plt.show()"
   ]
  },
  {
   "cell_type": "markdown",
   "metadata": {},
   "source": [
    "*Визуализация доверительного интервала для доли успеха*"
   ]
  },
  {
   "cell_type": "code",
   "execution_count": 433,
   "metadata": {},
   "outputs": [
    {
     "data": {
      "image/png": "[encoded data removed]",
      "text/plain": [
       "<Figure size 1000x300 with 1 Axes>"
      ]
     },
     "metadata": {},
     "output_type": "display_data"
    }
   ],
   "source": [
    "plt.figure(figsize=(10, 3))\n",
    "\n",
    "plt.errorbar(x='success',\n",
    "             y=assessment,\n",
    "             yerr=[error_rate * error_success],\n",
    "             fmt='o',\n",
    "             markersize=6,\n",
    "             capsize=4,\n",
    "             color='red',\n",
    "             label='95% Интервал')\n",
    "\n",
    "plt.title('Доверительный интервал для доли успеха')\n",
    "plt.ylabel('Значение')\n",
    "plt.legend()\n",
    "\n",
    "plt.text('success', assessment, f' {round(assessment, 2)}', verticalalignment='center', horizontalalignment='left')\n",
    "plt.text('success', lower_interval_success, f' {round(lower_interval_success, 2)}', verticalalignment='center', horizontalalignment='left')\n",
    "plt.text('success', upper_interval_success, f' {round(upper_interval_success, 2)}', verticalalignment='center', horizontalalignment='left')\n",
    "\n",
    "plt.show()\n"
   ]
  },
  {
   "cell_type": "markdown",
   "metadata": {},
   "source": [
    "### Вывод"
   ]
  },
  {
   "cell_type": "code",
   "execution_count": 434,
   "metadata": {},
   "outputs": [
    {
     "name": "stdout",
     "output_type": "stream",
     "text": [
      "\n",
      "       Среднее значение признака `means`: 100.39\n",
      "       Доверительный интервал для среднего значения при 95.0% уровне доверия: (99.17281476837209, 101.60046746452093)\n",
      "       --------------------------------------------------------------------------------------------------------\n",
      "       Доля успеха: 51.1%\n",
      "       Доверительный интервал для доли успеха при 95.0% уровне доверия: (0.4800177488123244, 0.5419822511876756)\n",
      "       \n"
     ]
    }
   ],
   "source": [
    "print(f'''\n",
    "       Среднее значение признака `means`: {round(mean_means, 2)}\n",
    "       Доверительный интервал для среднего значения при {confidence_level*100}% уровне доверия: {interval_mean}\n",
    "       --------------------------------------------------------------------------------------------------------\n",
    "       Доля успеха: {assessment* 100}%\n",
    "       Доверительный интервал для доли успеха при {confidence_level*100}% уровне доверия: {interval_success}\n",
    "       ''')"
   ]
  }
 ],
 "metadata": {
  "kernelspec": {
   "display_name": "venv",
   "language": "python",
   "name": "python3"
  },
  "language_info": {
   "codemirror_mode": {
    "name": "ipython",
    "version": 3
   },
   "file_extension": ".py",
   "mimetype": "text/x-python",
   "name": "python",
   "nbconvert_exporter": "python",
   "pygments_lexer": "ipython3",
   "version": "3.11.7"
  }
 },
 "nbformat": 4,
 "nbformat_minor": 2
}
