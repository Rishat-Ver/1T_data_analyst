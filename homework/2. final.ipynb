{
 "cells": [
  {
   "cell_type": "markdown",
   "metadata": {},
   "source": [
    "### Импорт библиотек"
   ]
  },
  {
   "cell_type": "code",
   "execution_count": 12,
   "metadata": {},
   "outputs": [],
   "source": [
    "import pandas as pd\n",
    "import psycopg2\n",
    "from dotenv import load_dotenv\n",
    "from sqlalchemy import create_engine, text\n",
    "from sqlalchemy.engine import URL\n",
    "import matplotlib.pyplot as plt\n",
    "import seaborn as sns\n",
    "\n",
    "import os\n",
    "import warnings\n",
    "# import logging\n"
   ]
  },
  {
   "cell_type": "markdown",
   "metadata": {},
   "source": [
    "### Глобальные настройки"
   ]
  },
  {
   "cell_type": "code",
   "execution_count": 13,
   "metadata": {},
   "outputs": [
    {
     "data": {
      "text/plain": [
       "True"
      ]
     },
     "execution_count": 13,
     "metadata": {},
     "output_type": "execute_result"
    }
   ],
   "source": [
    "warnings.filterwarnings(\"ignore\", category=UserWarning)\n",
    "\n",
    "load_dotenv()\n",
    "\n",
    "# logging.basicConfig()\n",
    "# logging.getLogger('sqlalchemy.engine').setLevel(logging.INFO)"
   ]
  },
  {
   "cell_type": "markdown",
   "metadata": {},
   "source": [
    "#### Создаем DataFrame-ы из предоставленных данных `Final_proj`"
   ]
  },
  {
   "cell_type": "code",
   "execution_count": 14,
   "metadata": {},
   "outputs": [
    {
     "data": {
      "text/html": [
       "<div>\n",
       "<style scoped>\n",
       "    .dataframe tbody tr th:only-of-type {\n",
       "        vertical-align: middle;\n",
       "    }\n",
       "\n",
       "    .dataframe tbody tr th {\n",
       "        vertical-align: top;\n",
       "    }\n",
       "\n",
       "    .dataframe thead th {\n",
       "        text-align: right;\n",
       "    }\n",
       "</style>\n",
       "<table border=\"1\" class=\"dataframe\">\n",
       "  <thead>\n",
       "    <tr style=\"text-align: right;\">\n",
       "      <th></th>\n",
       "      <th>campaning_SD</th>\n",
       "      <th>Start_date</th>\n",
       "      <th>response_period</th>\n",
       "      <th>description</th>\n",
       "    </tr>\n",
       "  </thead>\n",
       "  <tbody>\n",
       "    <tr>\n",
       "      <th>0</th>\n",
       "      <td>camp_3581</td>\n",
       "      <td>2023-06-23</td>\n",
       "      <td>3</td>\n",
       "      <td>А_Б тест макета банера в письме</td>\n",
       "    </tr>\n",
       "  </tbody>\n",
       "</table>\n",
       "</div>"
      ],
      "text/plain": [
       "  campaning_SD  Start_date  response_period                      description\n",
       "0    camp_3581  2023-06-23                3  А_Б тест макета банера в письме"
      ]
     },
     "metadata": {},
     "output_type": "display_data"
    },
    {
     "name": "stdout",
     "output_type": "stream",
     "text": [
      "----------------------------------------------------------------------------------------------------\n"
     ]
    },
    {
     "data": {
      "text/html": [
       "<div>\n",
       "<style scoped>\n",
       "    .dataframe tbody tr th:only-of-type {\n",
       "        vertical-align: middle;\n",
       "    }\n",
       "\n",
       "    .dataframe tbody tr th {\n",
       "        vertical-align: top;\n",
       "    }\n",
       "\n",
       "    .dataframe thead th {\n",
       "        text-align: right;\n",
       "    }\n",
       "</style>\n",
       "<table border=\"1\" class=\"dataframe\">\n",
       "  <thead>\n",
       "    <tr style=\"text-align: right;\">\n",
       "      <th></th>\n",
       "      <th>campaning_SD</th>\n",
       "      <th>send_name</th>\n",
       "      <th>cell_package_sk</th>\n",
       "      <th>communication_SK</th>\n",
       "      <th>subject</th>\n",
       "    </tr>\n",
       "  </thead>\n",
       "  <tbody>\n",
       "    <tr>\n",
       "      <th>0</th>\n",
       "      <td>camp_3581</td>\n",
       "      <td>23_06_2023_win_prize_A</td>\n",
       "      <td>118512</td>\n",
       "      <td>808600</td>\n",
       "      <td>Выиграй приз при любой покупке!</td>\n",
       "    </tr>\n",
       "  </tbody>\n",
       "</table>\n",
       "</div>"
      ],
      "text/plain": [
       "  campaning_SD               send_name  cell_package_sk  communication_SK  \\\n",
       "0    camp_3581  23_06_2023_win_prize_A           118512            808600   \n",
       "\n",
       "                           subject  \n",
       "0  Выиграй приз при любой покупке!  "
      ]
     },
     "metadata": {},
     "output_type": "display_data"
    },
    {
     "name": "stdout",
     "output_type": "stream",
     "text": [
      "----------------------------------------------------------------------------------------------------\n"
     ]
    },
    {
     "data": {
      "text/html": [
       "<div>\n",
       "<style scoped>\n",
       "    .dataframe tbody tr th:only-of-type {\n",
       "        vertical-align: middle;\n",
       "    }\n",
       "\n",
       "    .dataframe tbody tr th {\n",
       "        vertical-align: top;\n",
       "    }\n",
       "\n",
       "    .dataframe thead th {\n",
       "        text-align: right;\n",
       "    }\n",
       "</style>\n",
       "<table border=\"1\" class=\"dataframe\">\n",
       "  <thead>\n",
       "    <tr style=\"text-align: right;\">\n",
       "      <th></th>\n",
       "      <th>Id_customer</th>\n",
       "      <th>response_code</th>\n",
       "      <th>cell_package_sk</th>\n",
       "    </tr>\n",
       "  </thead>\n",
       "  <tbody>\n",
       "    <tr>\n",
       "      <th>0</th>\n",
       "      <td>2917</td>\n",
       "      <td>1</td>\n",
       "      <td>118512</td>\n",
       "    </tr>\n",
       "  </tbody>\n",
       "</table>\n",
       "</div>"
      ],
      "text/plain": [
       "   Id_customer  response_code  cell_package_sk\n",
       "0         2917              1           118512"
      ]
     },
     "metadata": {},
     "output_type": "display_data"
    },
    {
     "name": "stdout",
     "output_type": "stream",
     "text": [
      "----------------------------------------------------------------------------------------------------\n"
     ]
    },
    {
     "data": {
      "text/html": [
       "<div>\n",
       "<style scoped>\n",
       "    .dataframe tbody tr th:only-of-type {\n",
       "        vertical-align: middle;\n",
       "    }\n",
       "\n",
       "    .dataframe tbody tr th {\n",
       "        vertical-align: top;\n",
       "    }\n",
       "\n",
       "    .dataframe thead th {\n",
       "        text-align: right;\n",
       "    }\n",
       "</style>\n",
       "<table border=\"1\" class=\"dataframe\">\n",
       "  <thead>\n",
       "    <tr style=\"text-align: right;\">\n",
       "      <th></th>\n",
       "      <th>Date</th>\n",
       "      <th>Id_customer</th>\n",
       "      <th>id_product</th>\n",
       "    </tr>\n",
       "  </thead>\n",
       "  <tbody>\n",
       "    <tr>\n",
       "      <th>0</th>\n",
       "      <td>2023-07-03 00:00:00</td>\n",
       "      <td>2917</td>\n",
       "      <td>6</td>\n",
       "    </tr>\n",
       "  </tbody>\n",
       "</table>\n",
       "</div>"
      ],
      "text/plain": [
       "                  Date  Id_customer  id_product\n",
       "0  2023-07-03 00:00:00         2917           6"
      ]
     },
     "metadata": {},
     "output_type": "display_data"
    },
    {
     "name": "stdout",
     "output_type": "stream",
     "text": [
      "----------------------------------------------------------------------------------------------------\n"
     ]
    },
    {
     "data": {
      "text/html": [
       "<div>\n",
       "<style scoped>\n",
       "    .dataframe tbody tr th:only-of-type {\n",
       "        vertical-align: middle;\n",
       "    }\n",
       "\n",
       "    .dataframe tbody tr th {\n",
       "        vertical-align: top;\n",
       "    }\n",
       "\n",
       "    .dataframe thead th {\n",
       "        text-align: right;\n",
       "    }\n",
       "</style>\n",
       "<table border=\"1\" class=\"dataframe\">\n",
       "  <thead>\n",
       "    <tr style=\"text-align: right;\">\n",
       "      <th></th>\n",
       "      <th>product_id</th>\n",
       "      <th>price</th>\n",
       "    </tr>\n",
       "  </thead>\n",
       "  <tbody>\n",
       "    <tr>\n",
       "      <th>0</th>\n",
       "      <td>1</td>\n",
       "      <td>40</td>\n",
       "    </tr>\n",
       "  </tbody>\n",
       "</table>\n",
       "</div>"
      ],
      "text/plain": [
       "   product_id  price\n",
       "0           1     40"
      ]
     },
     "metadata": {},
     "output_type": "display_data"
    },
    {
     "name": "stdout",
     "output_type": "stream",
     "text": [
      "----------------------------------------------------------------------------------------------------\n"
     ]
    }
   ],
   "source": [
    "df_companing = pd.read_csv('../datasets/Final_proj/companing.csv')\n",
    "df_sendings = pd.read_csv('../datasets/Final_proj/sendings.csv')\n",
    "df_response = pd.read_csv('../datasets/Final_proj/response.csv')\n",
    "df_sales = pd.read_csv('../datasets/Final_proj/sales.csv')\n",
    "df_price = pd.read_csv('../datasets/Final_proj/price.csv')\n",
    "\n",
    "display(df_companing.head(1))\n",
    "print('-'*100)\n",
    "display(df_sendings.head(1))\n",
    "print('-'*100)\n",
    "display(df_response.head(1))\n",
    "print('-'*100)\n",
    "display(df_sales.head(1))\n",
    "print('-'*100)\n",
    "display(df_price.head(1))\n",
    "print('-'*100)\n"
   ]
  },
  {
   "cell_type": "markdown",
   "metadata": {},
   "source": [
    "#### С помощью `sqlalchemy` заполняем базу данными из `DataFrame`-ов\n",
    "- Создание движка\n",
    "- Создание новой схемы\n",
    "- Загрузка данных в базу"
   ]
  },
  {
   "cell_type": "code",
   "execution_count": 15,
   "metadata": {},
   "outputs": [
    {
     "data": {
      "text/plain": [
       "21"
      ]
     },
     "execution_count": 15,
     "metadata": {},
     "output_type": "execute_result"
    }
   ],
   "source": [
    "# Смотрел логи не мог понять почему происходит ROLBACK и схема не создавалась в базе\n",
    "# Пришлось сомому управлять этой транзакцией и вызывать ROLBACK только в случае ошибок...\n",
    "\n",
    "url_object = URL.create(\"postgresql\",\n",
    "                        username=os.getenv('DB_USER'),\n",
    "                        password=os.getenv('DB_PASSWORD'),\n",
    "                        host=os.getenv('DB_HOST'),\n",
    "                        port=os.getenv('DB_PORT'),\n",
    "                        database=os.getenv('DB_NAME'))\n",
    "\n",
    "engine = create_engine(url_object)\n",
    "\n",
    "with engine.connect() as con:\n",
    "    trans = con.begin()\n",
    "    try:\n",
    "        con.execute(text(\"CREATE SCHEMA IF NOT EXISTS final_02;\"))\n",
    "        trans.commit()\n",
    "    except Exception as e:\n",
    "        trans.rollback()\n",
    "\n",
    "\n",
    "df_companing.to_sql('companing', engine, schema='final_02', if_exists='replace', index=False)\n",
    "df_sendings.to_sql('sendings', engine, schema='final_02', if_exists='replace', index=False)\n",
    "df_response.to_sql('response', engine, schema='final_02', if_exists='replace', index=False)\n",
    "df_sales.to_sql('sales', engine, schema='final_02', if_exists='replace', index=False)\n",
    "df_price.to_sql('price', engine, schema='final_02', if_exists='replace', index=False)"
   ]
  },
  {
   "cell_type": "markdown",
   "metadata": {},
   "source": [
    "#### Подключаемся к базе с помощью `psycopg2`"
   ]
  },
  {
   "cell_type": "code",
   "execution_count": 16,
   "metadata": {},
   "outputs": [],
   "source": [
    "conn = psycopg2.connect(host=os.getenv('DB_HOST'),\n",
    "                        port=os.getenv('DB_PORT'),\n",
    "                        dbname=os.getenv('DB_NAME'),\n",
    "                        user=os.getenv('DB_USER'),\n",
    "                        password=os.getenv('DB_PASSWORD'),\n",
    "                        options=\"-c search_path=final_02,public\")"
   ]
  },
  {
   "cell_type": "markdown",
   "metadata": {},
   "source": [
    "#### Повторный просмотр данных , уже из БД"
   ]
  },
  {
   "cell_type": "code",
   "execution_count": 17,
   "metadata": {},
   "outputs": [
    {
     "data": {
      "text/html": [
       "<div>\n",
       "<style scoped>\n",
       "    .dataframe tbody tr th:only-of-type {\n",
       "        vertical-align: middle;\n",
       "    }\n",
       "\n",
       "    .dataframe tbody tr th {\n",
       "        vertical-align: top;\n",
       "    }\n",
       "\n",
       "    .dataframe thead th {\n",
       "        text-align: right;\n",
       "    }\n",
       "</style>\n",
       "<table border=\"1\" class=\"dataframe\">\n",
       "  <thead>\n",
       "    <tr style=\"text-align: right;\">\n",
       "      <th></th>\n",
       "      <th>campaning_SD</th>\n",
       "      <th>Start_date</th>\n",
       "      <th>response_period</th>\n",
       "      <th>description</th>\n",
       "    </tr>\n",
       "  </thead>\n",
       "  <tbody>\n",
       "    <tr>\n",
       "      <th>0</th>\n",
       "      <td>camp_3581</td>\n",
       "      <td>2023-06-23</td>\n",
       "      <td>3</td>\n",
       "      <td>А_Б тест макета банера в письме</td>\n",
       "    </tr>\n",
       "  </tbody>\n",
       "</table>\n",
       "</div>"
      ],
      "text/plain": [
       "  campaning_SD  Start_date  response_period                      description\n",
       "0    camp_3581  2023-06-23                3  А_Б тест макета банера в письме"
      ]
     },
     "metadata": {},
     "output_type": "display_data"
    },
    {
     "name": "stdout",
     "output_type": "stream",
     "text": [
      "----------------------------------------------------------------------------------------------------\n"
     ]
    },
    {
     "data": {
      "text/html": [
       "<div>\n",
       "<style scoped>\n",
       "    .dataframe tbody tr th:only-of-type {\n",
       "        vertical-align: middle;\n",
       "    }\n",
       "\n",
       "    .dataframe tbody tr th {\n",
       "        vertical-align: top;\n",
       "    }\n",
       "\n",
       "    .dataframe thead th {\n",
       "        text-align: right;\n",
       "    }\n",
       "</style>\n",
       "<table border=\"1\" class=\"dataframe\">\n",
       "  <thead>\n",
       "    <tr style=\"text-align: right;\">\n",
       "      <th></th>\n",
       "      <th>campaning_SD</th>\n",
       "      <th>send_name</th>\n",
       "      <th>cell_package_sk</th>\n",
       "      <th>communication_SK</th>\n",
       "      <th>subject</th>\n",
       "    </tr>\n",
       "  </thead>\n",
       "  <tbody>\n",
       "    <tr>\n",
       "      <th>0</th>\n",
       "      <td>camp_3581</td>\n",
       "      <td>23_06_2023_win_prize_A</td>\n",
       "      <td>118512</td>\n",
       "      <td>808600</td>\n",
       "      <td>Выиграй приз при любой покупке!</td>\n",
       "    </tr>\n",
       "  </tbody>\n",
       "</table>\n",
       "</div>"
      ],
      "text/plain": [
       "  campaning_SD               send_name  cell_package_sk  communication_SK  \\\n",
       "0    camp_3581  23_06_2023_win_prize_A           118512            808600   \n",
       "\n",
       "                           subject  \n",
       "0  Выиграй приз при любой покупке!  "
      ]
     },
     "metadata": {},
     "output_type": "display_data"
    },
    {
     "name": "stdout",
     "output_type": "stream",
     "text": [
      "----------------------------------------------------------------------------------------------------\n"
     ]
    },
    {
     "data": {
      "text/html": [
       "<div>\n",
       "<style scoped>\n",
       "    .dataframe tbody tr th:only-of-type {\n",
       "        vertical-align: middle;\n",
       "    }\n",
       "\n",
       "    .dataframe tbody tr th {\n",
       "        vertical-align: top;\n",
       "    }\n",
       "\n",
       "    .dataframe thead th {\n",
       "        text-align: right;\n",
       "    }\n",
       "</style>\n",
       "<table border=\"1\" class=\"dataframe\">\n",
       "  <thead>\n",
       "    <tr style=\"text-align: right;\">\n",
       "      <th></th>\n",
       "      <th>Id_customer</th>\n",
       "      <th>response_code</th>\n",
       "      <th>cell_package_sk</th>\n",
       "    </tr>\n",
       "  </thead>\n",
       "  <tbody>\n",
       "    <tr>\n",
       "      <th>0</th>\n",
       "      <td>2917</td>\n",
       "      <td>1</td>\n",
       "      <td>118512</td>\n",
       "    </tr>\n",
       "  </tbody>\n",
       "</table>\n",
       "</div>"
      ],
      "text/plain": [
       "   Id_customer  response_code  cell_package_sk\n",
       "0         2917              1           118512"
      ]
     },
     "metadata": {},
     "output_type": "display_data"
    },
    {
     "name": "stdout",
     "output_type": "stream",
     "text": [
      "----------------------------------------------------------------------------------------------------\n"
     ]
    },
    {
     "data": {
      "text/html": [
       "<div>\n",
       "<style scoped>\n",
       "    .dataframe tbody tr th:only-of-type {\n",
       "        vertical-align: middle;\n",
       "    }\n",
       "\n",
       "    .dataframe tbody tr th {\n",
       "        vertical-align: top;\n",
       "    }\n",
       "\n",
       "    .dataframe thead th {\n",
       "        text-align: right;\n",
       "    }\n",
       "</style>\n",
       "<table border=\"1\" class=\"dataframe\">\n",
       "  <thead>\n",
       "    <tr style=\"text-align: right;\">\n",
       "      <th></th>\n",
       "      <th>Date</th>\n",
       "      <th>Id_customer</th>\n",
       "      <th>id_product</th>\n",
       "    </tr>\n",
       "  </thead>\n",
       "  <tbody>\n",
       "    <tr>\n",
       "      <th>0</th>\n",
       "      <td>2023-07-03 00:00:00</td>\n",
       "      <td>2917</td>\n",
       "      <td>6</td>\n",
       "    </tr>\n",
       "  </tbody>\n",
       "</table>\n",
       "</div>"
      ],
      "text/plain": [
       "                  Date  Id_customer  id_product\n",
       "0  2023-07-03 00:00:00         2917           6"
      ]
     },
     "metadata": {},
     "output_type": "display_data"
    },
    {
     "name": "stdout",
     "output_type": "stream",
     "text": [
      "----------------------------------------------------------------------------------------------------\n"
     ]
    },
    {
     "data": {
      "text/html": [
       "<div>\n",
       "<style scoped>\n",
       "    .dataframe tbody tr th:only-of-type {\n",
       "        vertical-align: middle;\n",
       "    }\n",
       "\n",
       "    .dataframe tbody tr th {\n",
       "        vertical-align: top;\n",
       "    }\n",
       "\n",
       "    .dataframe thead th {\n",
       "        text-align: right;\n",
       "    }\n",
       "</style>\n",
       "<table border=\"1\" class=\"dataframe\">\n",
       "  <thead>\n",
       "    <tr style=\"text-align: right;\">\n",
       "      <th></th>\n",
       "      <th>product_id</th>\n",
       "      <th>price</th>\n",
       "    </tr>\n",
       "  </thead>\n",
       "  <tbody>\n",
       "    <tr>\n",
       "      <th>0</th>\n",
       "      <td>1</td>\n",
       "      <td>40</td>\n",
       "    </tr>\n",
       "  </tbody>\n",
       "</table>\n",
       "</div>"
      ],
      "text/plain": [
       "   product_id  price\n",
       "0           1     40"
      ]
     },
     "metadata": {},
     "output_type": "display_data"
    },
    {
     "name": "stdout",
     "output_type": "stream",
     "text": [
      "----------------------------------------------------------------------------------------------------\n"
     ]
    }
   ],
   "source": [
    "df_companing = pd.read_sql('SELECT * FROM \"final_02\".\"companing\"', conn)\n",
    "df_sendings = pd.read_sql('SELECT * FROM \"final_02\".\"sendings\"', conn)\n",
    "df_response = pd.read_sql('SELECT * FROM \"final_02\".\"response\"', conn)\n",
    "df_sales = pd.read_sql('SELECT * FROM \"final_02\".\"sales\"', conn)\n",
    "df_price = pd.read_sql('SELECT * FROM \"final_02\".\"price\"', conn)\n",
    "\n",
    "display(df_companing.head(1))\n",
    "print('-'*100)\n",
    "display(df_sendings.head(1))\n",
    "print('-'*100)\n",
    "display(df_response.head(1))\n",
    "print('-'*100)\n",
    "display(df_sales.head(1))\n",
    "print('-'*100)\n",
    "display(df_price.head(1))\n",
    "print('-'*100)\n"
   ]
  },
  {
   "cell_type": "markdown",
   "metadata": {},
   "source": [
    "#### Запрос в БД\n",
    "- `combined_table` - Подзапрс , объеденяем таблицы\n",
    "\n",
    "- `select_sum_count_resp` - Подзапрс, считаем `response`, `count_people`, `summa_purchase` \n",
    "    - `response` - Количество людей, совершивших покупку\n",
    "    - `count_people` - Количество людей в группе \n",
    "    - `summa_purchase` - Сумму покупок по группам\n",
    "    \n",
    "- Основной запрос - Считаем `response_rate`\n",
    "    - `response_rate` - Доля откликов в  группуе"
   ]
  },
  {
   "cell_type": "code",
   "execution_count": 18,
   "metadata": {},
   "outputs": [
    {
     "data": {
      "text/html": [
       "<div>\n",
       "<style scoped>\n",
       "    .dataframe tbody tr th:only-of-type {\n",
       "        vertical-align: middle;\n",
       "    }\n",
       "\n",
       "    .dataframe tbody tr th {\n",
       "        vertical-align: top;\n",
       "    }\n",
       "\n",
       "    .dataframe thead th {\n",
       "        text-align: right;\n",
       "    }\n",
       "</style>\n",
       "<table border=\"1\" class=\"dataframe\">\n",
       "  <thead>\n",
       "    <tr style=\"text-align: right;\">\n",
       "      <th></th>\n",
       "      <th>company</th>\n",
       "      <th>send_name</th>\n",
       "      <th>connection</th>\n",
       "      <th>code</th>\n",
       "      <th>response</th>\n",
       "      <th>count_people</th>\n",
       "      <th>summa_purchase</th>\n",
       "      <th>response_rate</th>\n",
       "    </tr>\n",
       "  </thead>\n",
       "  <tbody>\n",
       "    <tr>\n",
       "      <th>0</th>\n",
       "      <td>camp_3581</td>\n",
       "      <td>23_06_2023_win_prize_A</td>\n",
       "      <td>808600</td>\n",
       "      <td>1</td>\n",
       "      <td>1648</td>\n",
       "      <td>2005</td>\n",
       "      <td>478140.0</td>\n",
       "      <td>0.821945</td>\n",
       "    </tr>\n",
       "    <tr>\n",
       "      <th>1</th>\n",
       "      <td>camp_3581</td>\n",
       "      <td>23_06_2023_win_prize_CTR_A</td>\n",
       "      <td>808600</td>\n",
       "      <td>3</td>\n",
       "      <td>428</td>\n",
       "      <td>525</td>\n",
       "      <td>131930.0</td>\n",
       "      <td>0.815238</td>\n",
       "    </tr>\n",
       "    <tr>\n",
       "      <th>2</th>\n",
       "      <td>camp_3581</td>\n",
       "      <td>23_06_2023_win_prize_B</td>\n",
       "      <td>959200</td>\n",
       "      <td>1</td>\n",
       "      <td>2399</td>\n",
       "      <td>2968</td>\n",
       "      <td>677275.0</td>\n",
       "      <td>0.808288</td>\n",
       "    </tr>\n",
       "    <tr>\n",
       "      <th>3</th>\n",
       "      <td>camp_3581</td>\n",
       "      <td>23_06_2023_win_prize_CTR_B</td>\n",
       "      <td>959200</td>\n",
       "      <td>3</td>\n",
       "      <td>810</td>\n",
       "      <td>1015</td>\n",
       "      <td>230485.0</td>\n",
       "      <td>0.798030</td>\n",
       "    </tr>\n",
       "    <tr>\n",
       "      <th>4</th>\n",
       "      <td>camp_35367</td>\n",
       "      <td>28_06_2023_sale_5%</td>\n",
       "      <td>335700</td>\n",
       "      <td>1</td>\n",
       "      <td>5556</td>\n",
       "      <td>7081</td>\n",
       "      <td>1481655.0</td>\n",
       "      <td>0.784635</td>\n",
       "    </tr>\n",
       "    <tr>\n",
       "      <th>5</th>\n",
       "      <td>camp_35367</td>\n",
       "      <td>28_06_2023_sale_5%_CTR</td>\n",
       "      <td>335700</td>\n",
       "      <td>3</td>\n",
       "      <td>748</td>\n",
       "      <td>1012</td>\n",
       "      <td>175820.0</td>\n",
       "      <td>0.739130</td>\n",
       "    </tr>\n",
       "    <tr>\n",
       "      <th>6</th>\n",
       "      <td>camp_3512</td>\n",
       "      <td>03_07_2013_special_offer</td>\n",
       "      <td>450725</td>\n",
       "      <td>1</td>\n",
       "      <td>1117</td>\n",
       "      <td>1683</td>\n",
       "      <td>254355.0</td>\n",
       "      <td>0.663696</td>\n",
       "    </tr>\n",
       "    <tr>\n",
       "      <th>7</th>\n",
       "      <td>camp_3512</td>\n",
       "      <td>03_07_2013_special_offer_CTR</td>\n",
       "      <td>450725</td>\n",
       "      <td>3</td>\n",
       "      <td>144</td>\n",
       "      <td>371</td>\n",
       "      <td>24215.0</td>\n",
       "      <td>0.388140</td>\n",
       "    </tr>\n",
       "  </tbody>\n",
       "</table>\n",
       "</div>"
      ],
      "text/plain": [
       "      company                     send_name  connection  code  response  \\\n",
       "0   camp_3581        23_06_2023_win_prize_A      808600     1      1648   \n",
       "1   camp_3581    23_06_2023_win_prize_CTR_A      808600     3       428   \n",
       "2   camp_3581        23_06_2023_win_prize_B      959200     1      2399   \n",
       "3   camp_3581    23_06_2023_win_prize_CTR_B      959200     3       810   \n",
       "4  camp_35367            28_06_2023_sale_5%      335700     1      5556   \n",
       "5  camp_35367        28_06_2023_sale_5%_CTR      335700     3       748   \n",
       "6   camp_3512      03_07_2013_special_offer      450725     1      1117   \n",
       "7   camp_3512  03_07_2013_special_offer_CTR      450725     3       144   \n",
       "\n",
       "   count_people  summa_purchase  response_rate  \n",
       "0          2005        478140.0       0.821945  \n",
       "1           525        131930.0       0.815238  \n",
       "2          2968        677275.0       0.808288  \n",
       "3          1015        230485.0       0.798030  \n",
       "4          7081       1481655.0       0.784635  \n",
       "5          1012        175820.0       0.739130  \n",
       "6          1683        254355.0       0.663696  \n",
       "7           371         24215.0       0.388140  "
      ]
     },
     "metadata": {},
     "output_type": "display_data"
    }
   ],
   "source": [
    "df_request_to_bd = pd.read_sql(\n",
    "    \"\"\"\n",
    "     WITH combined_table AS (\n",
    "          SELECT \"comp\".\"campaning_SD\"     AS company,\n",
    "                 \"comp\".\"Start_date\"       AS start_data,\n",
    "                 \"comp\".\"response_period\"  AS period,\n",
    "                 \"send\".\"send_name\"        AS send_name,\n",
    "                 \"send\".\"communication_SK\" AS connection,\n",
    "                 \"send\".\"cell_package_sk\"  AS number_group,\n",
    "                 \"resp\".\"response_code\"    AS code,\n",
    "                 \"resp\".\"Id_customer\"      AS id_people,\n",
    "                 \"sale\".\"Date\"             AS date,\n",
    "                 \"sale\".\"id_product\"       AS id_product,\n",
    "                 \"pric\".\"price\"            AS price\n",
    "            FROM companing AS comp\n",
    "                 JOIN sendings AS send USING(\"campaning_SD\")\n",
    "                 JOIN response AS resp ON \"send\".\"cell_package_sk\" = \"resp\".\"cell_package_sk\"\n",
    "                      AND \"resp\".\"response_code\" IN (1, 3)\n",
    "                 LEFT JOIN sales AS sale ON \"resp\".\"Id_customer\" = \"sale\".\"Id_customer\"\n",
    "                      AND \"sale\".\"Date\":: timestamp BETWEEN \"comp\".\"Start_date\":: timestamp AND \"comp\".\"Start_date\":: timestamp + INTERVAL '3 day'\n",
    "                 LEFT JOIN price AS pric ON \"pric\".\"product_id\" = \"sale\".\"id_product\"),\n",
    "\n",
    "          select_sum_count_resp AS(\n",
    "          SELECT company,\n",
    "                 send_name,\n",
    "                 connection,\n",
    "                 code,\n",
    "                 COUNT(DISTINCT CASE\n",
    "                                WHEN \"date\" IS NOT NULL THEN \"id_people\"\n",
    "                                END) AS response,\n",
    "                 COUNT(DISTINCT id_people) AS count_people,\n",
    "                 SUM(price) AS summa_purchase\n",
    "            FROM combined_table\n",
    "           GROUP BY send_name, code, company, connection\n",
    "           ORDER BY company DESC)\n",
    "\n",
    "     SELECT *,\n",
    "            response:: FLOAT / count_people AS response_rate\n",
    "       FROM select_sum_count_resp\n",
    "      ORDER BY response_rate DESC;\n",
    "    \"\"\"\n",
    "    , conn)\n",
    "\n",
    "display(df_request_to_bd)"
   ]
  },
  {
   "cell_type": "markdown",
   "metadata": {},
   "source": [
    "#### ARPPU (Average Revenue Per Paying User)"
   ]
  },
  {
   "cell_type": "code",
   "execution_count": 19,
   "metadata": {},
   "outputs": [
    {
     "data": {
      "text/html": [
       "<div>\n",
       "<style scoped>\n",
       "    .dataframe tbody tr th:only-of-type {\n",
       "        vertical-align: middle;\n",
       "    }\n",
       "\n",
       "    .dataframe tbody tr th {\n",
       "        vertical-align: top;\n",
       "    }\n",
       "\n",
       "    .dataframe thead th {\n",
       "        text-align: right;\n",
       "    }\n",
       "</style>\n",
       "<table border=\"1\" class=\"dataframe\">\n",
       "  <thead>\n",
       "    <tr style=\"text-align: right;\">\n",
       "      <th></th>\n",
       "      <th>company</th>\n",
       "      <th>send_name</th>\n",
       "      <th>connection</th>\n",
       "      <th>code</th>\n",
       "      <th>response</th>\n",
       "      <th>count_people</th>\n",
       "      <th>summa_purchase</th>\n",
       "      <th>response_rate</th>\n",
       "      <th>ARPPU</th>\n",
       "    </tr>\n",
       "  </thead>\n",
       "  <tbody>\n",
       "    <tr>\n",
       "      <th>0</th>\n",
       "      <td>camp_3581</td>\n",
       "      <td>23_06_2023_win_prize_A</td>\n",
       "      <td>808600</td>\n",
       "      <td>1</td>\n",
       "      <td>1648</td>\n",
       "      <td>2005</td>\n",
       "      <td>478140.0</td>\n",
       "      <td>0.821945</td>\n",
       "      <td>290.0</td>\n",
       "    </tr>\n",
       "    <tr>\n",
       "      <th>1</th>\n",
       "      <td>camp_3581</td>\n",
       "      <td>23_06_2023_win_prize_CTR_A</td>\n",
       "      <td>808600</td>\n",
       "      <td>3</td>\n",
       "      <td>428</td>\n",
       "      <td>525</td>\n",
       "      <td>131930.0</td>\n",
       "      <td>0.815238</td>\n",
       "      <td>308.0</td>\n",
       "    </tr>\n",
       "    <tr>\n",
       "      <th>2</th>\n",
       "      <td>camp_3581</td>\n",
       "      <td>23_06_2023_win_prize_B</td>\n",
       "      <td>959200</td>\n",
       "      <td>1</td>\n",
       "      <td>2399</td>\n",
       "      <td>2968</td>\n",
       "      <td>677275.0</td>\n",
       "      <td>0.808288</td>\n",
       "      <td>282.0</td>\n",
       "    </tr>\n",
       "    <tr>\n",
       "      <th>3</th>\n",
       "      <td>camp_3581</td>\n",
       "      <td>23_06_2023_win_prize_CTR_B</td>\n",
       "      <td>959200</td>\n",
       "      <td>3</td>\n",
       "      <td>810</td>\n",
       "      <td>1015</td>\n",
       "      <td>230485.0</td>\n",
       "      <td>0.798030</td>\n",
       "      <td>285.0</td>\n",
       "    </tr>\n",
       "    <tr>\n",
       "      <th>4</th>\n",
       "      <td>camp_35367</td>\n",
       "      <td>28_06_2023_sale_5%</td>\n",
       "      <td>335700</td>\n",
       "      <td>1</td>\n",
       "      <td>5556</td>\n",
       "      <td>7081</td>\n",
       "      <td>1481655.0</td>\n",
       "      <td>0.784635</td>\n",
       "      <td>267.0</td>\n",
       "    </tr>\n",
       "    <tr>\n",
       "      <th>5</th>\n",
       "      <td>camp_35367</td>\n",
       "      <td>28_06_2023_sale_5%_CTR</td>\n",
       "      <td>335700</td>\n",
       "      <td>3</td>\n",
       "      <td>748</td>\n",
       "      <td>1012</td>\n",
       "      <td>175820.0</td>\n",
       "      <td>0.739130</td>\n",
       "      <td>235.0</td>\n",
       "    </tr>\n",
       "    <tr>\n",
       "      <th>6</th>\n",
       "      <td>camp_3512</td>\n",
       "      <td>03_07_2013_special_offer</td>\n",
       "      <td>450725</td>\n",
       "      <td>1</td>\n",
       "      <td>1117</td>\n",
       "      <td>1683</td>\n",
       "      <td>254355.0</td>\n",
       "      <td>0.663696</td>\n",
       "      <td>228.0</td>\n",
       "    </tr>\n",
       "    <tr>\n",
       "      <th>7</th>\n",
       "      <td>camp_3512</td>\n",
       "      <td>03_07_2013_special_offer_CTR</td>\n",
       "      <td>450725</td>\n",
       "      <td>3</td>\n",
       "      <td>144</td>\n",
       "      <td>371</td>\n",
       "      <td>24215.0</td>\n",
       "      <td>0.388140</td>\n",
       "      <td>168.0</td>\n",
       "    </tr>\n",
       "  </tbody>\n",
       "</table>\n",
       "</div>"
      ],
      "text/plain": [
       "      company                     send_name  connection  code  response  \\\n",
       "0   camp_3581        23_06_2023_win_prize_A      808600     1      1648   \n",
       "1   camp_3581    23_06_2023_win_prize_CTR_A      808600     3       428   \n",
       "2   camp_3581        23_06_2023_win_prize_B      959200     1      2399   \n",
       "3   camp_3581    23_06_2023_win_prize_CTR_B      959200     3       810   \n",
       "4  camp_35367            28_06_2023_sale_5%      335700     1      5556   \n",
       "5  camp_35367        28_06_2023_sale_5%_CTR      335700     3       748   \n",
       "6   camp_3512      03_07_2013_special_offer      450725     1      1117   \n",
       "7   camp_3512  03_07_2013_special_offer_CTR      450725     3       144   \n",
       "\n",
       "   count_people  summa_purchase  response_rate  ARPPU  \n",
       "0          2005        478140.0       0.821945  290.0  \n",
       "1           525        131930.0       0.815238  308.0  \n",
       "2          2968        677275.0       0.808288  282.0  \n",
       "3          1015        230485.0       0.798030  285.0  \n",
       "4          7081       1481655.0       0.784635  267.0  \n",
       "5          1012        175820.0       0.739130  235.0  \n",
       "6          1683        254355.0       0.663696  228.0  \n",
       "7           371         24215.0       0.388140  168.0  "
      ]
     },
     "execution_count": 19,
     "metadata": {},
     "output_type": "execute_result"
    }
   ],
   "source": [
    "df_request_to_bd['ARPPU'] = round(df_request_to_bd['summa_purchase'] / df_request_to_bd['response'])\n",
    "\n",
    "df_request_to_bd"
   ]
  },
  {
   "cell_type": "markdown",
   "metadata": {},
   "source": [
    "#### Расчет дополнительной выручки компании\n",
    "\n",
    "- `target_groups` - Цудувая группа\n",
    "\n",
    "- `control_groups`- Контрольная группа\n",
    "\n",
    "- *Создал мультииндексы*\n",
    "\n",
    "- `delta_response_rate` - Разница в отклике между целевой и контрольной группами\n",
    "\n",
    "- `additional_clients` - Дополнительные клиенты\n",
    "\n",
    "- `additional_revenue` - Дополнительная выручка\n"
   ]
  },
  {
   "cell_type": "code",
   "execution_count": 20,
   "metadata": {},
   "outputs": [
    {
     "data": {
      "text/html": [
       "<div>\n",
       "<style scoped>\n",
       "    .dataframe tbody tr th:only-of-type {\n",
       "        vertical-align: middle;\n",
       "    }\n",
       "\n",
       "    .dataframe tbody tr th {\n",
       "        vertical-align: top;\n",
       "    }\n",
       "\n",
       "    .dataframe thead th {\n",
       "        text-align: right;\n",
       "    }\n",
       "</style>\n",
       "<table border=\"1\" class=\"dataframe\">\n",
       "  <thead>\n",
       "    <tr style=\"text-align: right;\">\n",
       "      <th></th>\n",
       "      <th></th>\n",
       "      <th>delta_response_rate</th>\n",
       "      <th>additional_clients</th>\n",
       "      <th>additional_revenue</th>\n",
       "    </tr>\n",
       "    <tr>\n",
       "      <th>company</th>\n",
       "      <th>connection</th>\n",
       "      <th></th>\n",
       "      <th></th>\n",
       "      <th></th>\n",
       "    </tr>\n",
       "  </thead>\n",
       "  <tbody>\n",
       "    <tr>\n",
       "      <th>camp_3512</th>\n",
       "      <th>450725</th>\n",
       "      <td>0.275556</td>\n",
       "      <td>308.0</td>\n",
       "      <td>70224.0</td>\n",
       "    </tr>\n",
       "    <tr>\n",
       "      <th>camp_35367</th>\n",
       "      <th>335700</th>\n",
       "      <td>0.045505</td>\n",
       "      <td>253.0</td>\n",
       "      <td>67551.0</td>\n",
       "    </tr>\n",
       "    <tr>\n",
       "      <th rowspan=\"2\" valign=\"top\">camp_3581</th>\n",
       "      <th>959200</th>\n",
       "      <td>0.010259</td>\n",
       "      <td>25.0</td>\n",
       "      <td>7050.0</td>\n",
       "    </tr>\n",
       "    <tr>\n",
       "      <th>808600</th>\n",
       "      <td>0.006707</td>\n",
       "      <td>11.0</td>\n",
       "      <td>3190.0</td>\n",
       "    </tr>\n",
       "  </tbody>\n",
       "</table>\n",
       "</div>"
      ],
      "text/plain": [
       "                       delta_response_rate  additional_clients  \\\n",
       "company    connection                                            \n",
       "camp_3512  450725                 0.275556               308.0   \n",
       "camp_35367 335700                 0.045505               253.0   \n",
       "camp_3581  959200                 0.010259                25.0   \n",
       "           808600                 0.006707                11.0   \n",
       "\n",
       "                       additional_revenue  \n",
       "company    connection                      \n",
       "camp_3512  450725                 70224.0  \n",
       "camp_35367 335700                 67551.0  \n",
       "camp_3581  959200                  7050.0  \n",
       "           808600                  3190.0  "
      ]
     },
     "metadata": {},
     "output_type": "display_data"
    }
   ],
   "source": [
    "target_groups = df_request_to_bd[df_request_to_bd['send_name'].str.contains('_CTR') == False]\n",
    "control_groups = df_request_to_bd[df_request_to_bd['send_name'].str.contains('_CTR') == True]\n",
    "\n",
    "target_groups.set_index(['company', 'connection'], inplace=True)\n",
    "control_groups.set_index(['company', 'connection'], inplace=True)\n",
    "\n",
    "results = pd.DataFrame()\n",
    "results['delta_response_rate'] = target_groups['response_rate'] - control_groups['response_rate']\n",
    "results['additional_clients'] = round(results['delta_response_rate'] * target_groups['response'])\n",
    "results['additional_revenue'] = round(results['additional_clients'] * target_groups['ARPPU'], 2)\n",
    "\n",
    "results.sort_values(by='additional_revenue', ascending=False, inplace=True)\n",
    "display(results)"
   ]
  },
  {
   "cell_type": "markdown",
   "metadata": {},
   "source": [
    "#### Визуализация данных"
   ]
  },
  {
   "cell_type": "code",
   "execution_count": 21,
   "metadata": {},
   "outputs": [
    {
     "data": {
      "image/png": "[encoded data removed]",
      "text/plain": [
       "<Figure size 900x300 with 1 Axes>"
      ]
     },
     "metadata": {},
     "output_type": "display_data"
    }
   ],
   "source": [
    "results['company'] = [f\"{i[0]}-{i[1]}\" for i in results.index.values]\n",
    "\n",
    "figure, ax = plt.subplots(figsize=(9, 3))\n",
    "\n",
    "sns.set_color_codes(\"muted\")\n",
    "sns.barplot(x='company', y='additional_revenue', data=results, label=\"Доп.выручка\", color=\"blue\")\n",
    "\n",
    "ax.legend(ncol=1, loc=\"upper right\", frameon=True)\n",
    "plt.title('Дополнительная выручка')\n",
    "plt.xlabel('Компания')\n",
    "plt.ylabel('Доп.выручка')\n",
    "\n",
    "\n",
    "plt.show()\n"
   ]
  },
  {
   "cell_type": "markdown",
   "metadata": {},
   "source": [
    "#### Закрываем соединение"
   ]
  },
  {
   "cell_type": "code",
   "execution_count": 22,
   "metadata": {},
   "outputs": [],
   "source": [
    "conn.close()"
   ]
  },
  {
   "cell_type": "markdown",
   "metadata": {},
   "source": [
    "# Вывод:\n",
    "\n",
    "Компания camp_3512 принесла наибольшую выручку <br>\n",
    "Рекламная компания оказалась наиболее эфективная <br>\n",
    "Разница в откликах Целевой группы и Контрольной группы оказалось значительно выше <br>\n",
    "В итоге данная компание привлекла больше дополнительных клиентов <br>\n",
    "Что в свою очередь отразилось на выручке"
   ]
  }
 ],
 "metadata": {
  "kernelspec": {
   "display_name": "venv",
   "language": "python",
   "name": "python3"
  },
  "language_info": {
   "codemirror_mode": {
    "name": "ipython",
    "version": 3
   },
   "file_extension": ".py",
   "mimetype": "text/x-python",
   "name": "python",
   "nbconvert_exporter": "python",
   "pygments_lexer": "ipython3",
   "version": "3.11.7"
  }
 },
 "nbformat": 4,
 "nbformat_minor": 2
}
