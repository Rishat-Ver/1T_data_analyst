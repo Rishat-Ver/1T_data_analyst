{
 "cells": [
  {
   "cell_type": "markdown",
   "metadata": {},
   "source": [
    "## 4. Итоговый проект"
   ]
  },
  {
   "cell_type": "markdown",
   "metadata": {},
   "source": [
    "#### Импорт библиотек"
   ]
  },
  {
   "cell_type": "code",
   "execution_count": 329,
   "metadata": {},
   "outputs": [],
   "source": [
    "import pandas as pd\n",
    "import numpy as np\n",
    "import psycopg2\n",
    "from dotenv import load_dotenv\n",
    "from pandas.errors import SettingWithCopyWarning\n",
    "\n",
    "from pprint import pprint\n",
    "import re\n",
    "import warnings\n",
    "import os"
   ]
  },
  {
   "cell_type": "markdown",
   "metadata": {},
   "source": [
    "#### Глобальные настройки"
   ]
  },
  {
   "cell_type": "code",
   "execution_count": 330,
   "metadata": {},
   "outputs": [
    {
     "data": {
      "text/plain": [
       "True"
      ]
     },
     "execution_count": 330,
     "metadata": {},
     "output_type": "execute_result"
    }
   ],
   "source": [
    "warnings.filterwarnings(\"ignore\", category=UserWarning)\n",
    "warnings.simplefilter(action='ignore', category=SettingWithCopyWarning)\n",
    "warnings.simplefilter(action='ignore', category=FutureWarning)\n",
    "\n",
    "load_dotenv()"
   ]
  },
  {
   "cell_type": "markdown",
   "metadata": {},
   "source": [
    "#### Загрузка данных для дальнейшей обработки и анализа."
   ]
  },
  {
   "cell_type": "code",
   "execution_count": 331,
   "metadata": {},
   "outputs": [],
   "source": [
    "df = pd.read_csv('../datasets/preprocessed_student_data.csv')"
   ]
  },
  {
   "cell_type": "markdown",
   "metadata": {},
   "source": [
    "#### Просмотр данных"
   ]
  },
  {
   "cell_type": "code",
   "execution_count": 332,
   "metadata": {},
   "outputs": [
    {
     "name": "stdout",
     "output_type": "stream",
     "text": [
      "{'0. Размер DataFrame': (103, 12),\n",
      " '1. Индексы DataFrame': RangeIndex(start=0, stop=103, step=1),\n",
      " '2. Колонки DataFrame': ['student_id', 'name', 'age', 'gender', 'grade', 'major', 'gpa', 'attendance_rate', 'extracurricular_activities', 'study_hours_per_week', 'sleep_hours_per_day', 'distance_from_home_km'],\n",
      " '3. Числовые колонки': {'age': dtype('float64'), 'attendance_rate': dtype('int64'), 'distance_from_home_km': dtype('float64'), 'gpa': dtype('float64'), 'sleep_hours_per_day': dtype('float64'), 'study_hours_per_week': dtype('int64')},\n",
      " '4. Строковые колонки': {'extracurricular_activities': dtype('O'), 'gender': dtype('O'), 'grade': dtype('O'), 'major': dtype('O'), 'name': dtype('O'), 'student_id': dtype('O')},\n",
      " '5. Колонки с пропусками': ['age', 'gender', 'gpa', 'extracurricular_activities'],\n",
      " '6. Строки с пропусками': [0, 1, 2, 5, 6, 9, 11, 14, 17, 18, 20, 22, 24, 25, 27, 32, 38, 39, 40, 48, 49, 54, 58, 60, 63, 64, 66, 67, 68, 74, 80, 81, 84, 85, 88, 89, 91, 94, 95, 97],\n",
      " '7. Колличество строк без пропусков': 61,\n",
      " '8. Колличество полных дубликатов': 4,\n",
      " '9. Колличество занимаемой памяти': '0.04 мегабайт'}\n",
      "\n",
      "{'age': dtype('float64'),\n",
      " 'attendance_rate': dtype('int64'),\n",
      " 'distance_from_home_km': dtype('float64'),\n",
      " 'extracurricular_activities': dtype('O'),\n",
      " 'gender': dtype('O'),\n",
      " 'gpa': dtype('float64'),\n",
      " 'grade': dtype('O'),\n",
      " 'major': dtype('O'),\n",
      " 'name': dtype('O'),\n",
      " 'sleep_hours_per_day': dtype('float64'),\n",
      " 'student_id': dtype('O'),\n",
      " 'study_hours_per_week': dtype('int64')}\n"
     ]
    },
    {
     "data": {
      "text/html": [
       "<div>\n",
       "<style scoped>\n",
       "    .dataframe tbody tr th:only-of-type {\n",
       "        vertical-align: middle;\n",
       "    }\n",
       "\n",
       "    .dataframe tbody tr th {\n",
       "        vertical-align: top;\n",
       "    }\n",
       "\n",
       "    .dataframe thead th {\n",
       "        text-align: right;\n",
       "    }\n",
       "</style>\n",
       "<table border=\"1\" class=\"dataframe\">\n",
       "  <thead>\n",
       "    <tr style=\"text-align: right;\">\n",
       "      <th></th>\n",
       "      <th>student_id</th>\n",
       "      <th>name</th>\n",
       "      <th>age</th>\n",
       "      <th>gender</th>\n",
       "      <th>grade</th>\n",
       "      <th>major</th>\n",
       "      <th>gpa</th>\n",
       "      <th>attendance_rate</th>\n",
       "      <th>extracurricular_activities</th>\n",
       "      <th>study_hours_per_week</th>\n",
       "      <th>sleep_hours_per_day</th>\n",
       "      <th>distance_from_home_km</th>\n",
       "    </tr>\n",
       "  </thead>\n",
       "  <tbody>\n",
       "    <tr>\n",
       "      <th>0</th>\n",
       "      <td>d12413d6-3617-4390-a956-0e56342dc881</td>\n",
       "      <td>Tracy Ramos</td>\n",
       "      <td>22.0</td>\n",
       "      <td>NaN</td>\n",
       "      <td>A</td>\n",
       "      <td>Science</td>\n",
       "      <td>2.99</td>\n",
       "      <td>70</td>\n",
       "      <td>Music</td>\n",
       "      <td>12</td>\n",
       "      <td>8.504874</td>\n",
       "      <td>21.75</td>\n",
       "    </tr>\n",
       "    <tr>\n",
       "      <th>1</th>\n",
       "      <td>a3176691-10eb-47aa-9aae-72660937d95a</td>\n",
       "      <td>Valerie Price</td>\n",
       "      <td>18.0</td>\n",
       "      <td>Female</td>\n",
       "      <td>C</td>\n",
       "      <td>Math</td>\n",
       "      <td>2.98</td>\n",
       "      <td>81</td>\n",
       "      <td>NaN</td>\n",
       "      <td>10</td>\n",
       "      <td>6.992983</td>\n",
       "      <td>9.34</td>\n",
       "    </tr>\n",
       "    <tr>\n",
       "      <th>2</th>\n",
       "      <td>31bfc4cd-3137-4d32-b920-665cce9dce0d</td>\n",
       "      <td>Zachary Grimes</td>\n",
       "      <td>25.0</td>\n",
       "      <td>NaN</td>\n",
       "      <td>C</td>\n",
       "      <td>Science</td>\n",
       "      <td>3.28</td>\n",
       "      <td>91</td>\n",
       "      <td>Sports</td>\n",
       "      <td>27</td>\n",
       "      <td>5.613224</td>\n",
       "      <td>19.45</td>\n",
       "    </tr>\n",
       "  </tbody>\n",
       "</table>\n",
       "</div>"
      ],
      "text/plain": [
       "                             student_id            name   age  gender grade  \\\n",
       "0  d12413d6-3617-4390-a956-0e56342dc881     Tracy Ramos  22.0     NaN     A   \n",
       "1  a3176691-10eb-47aa-9aae-72660937d95a   Valerie Price  18.0  Female     C   \n",
       "2  31bfc4cd-3137-4d32-b920-665cce9dce0d  Zachary Grimes  25.0     NaN     C   \n",
       "\n",
       "     major   gpa  attendance_rate extracurricular_activities  \\\n",
       "0  Science  2.99               70                      Music   \n",
       "1     Math  2.98               81                        NaN   \n",
       "2  Science  3.28               91                     Sports   \n",
       "\n",
       "   study_hours_per_week  sleep_hours_per_day  distance_from_home_km  \n",
       "0                    12             8.504874                  21.75  \n",
       "1                    10             6.992983                   9.34  \n",
       "2                    27             5.613224                  19.45  "
      ]
     },
     "metadata": {},
     "output_type": "display_data"
    }
   ],
   "source": [
    "info_df = {}\n",
    "\n",
    "info_df['0. Размер DataFrame'] = df.shape\n",
    "info_df['1. Индексы DataFrame'] = df.index\n",
    "info_df['2. Колонки DataFrame'] = list(df.columns.values)\n",
    "info_df['3. Числовые колонки'] = dict(df.select_dtypes(include=[int, float, complex]).dtypes)\n",
    "info_df['4. Строковые колонки'] = dict(df.select_dtypes(include=[object]).dtypes)\n",
    "info_df['5. Колонки с пропусками'] = list(df.columns[df.isnull().any()])\n",
    "info_df['6. Строки с пропусками'] = list(df[df.isnull().any(axis=1)].index.values)\n",
    "info_df['7. Колличество строк без пропусков'] = len(df.value_counts())\n",
    "info_df['8. Колличество полных дубликатов'] = len(df[df.duplicated(keep=False)])\n",
    "info_df['9. Колличество занимаемой памяти'] = f\"{round(df.memory_usage(deep=True).sum() / 1048576, 2)} мегабайт\"\n",
    "\n",
    "types_column = dict(zip(df.columns, df.dtypes))\n",
    "\n",
    "pprint(info_df, width=400, compact=True)\n",
    "print()\n",
    "pprint(types_column)\n",
    "\n",
    "display(df.head(3))"
   ]
  },
  {
   "cell_type": "markdown",
   "metadata": {},
   "source": [
    "```\n",
    "student_id.................. Идентификатор студента\n",
    "name........................ Имя студента\n",
    "age......................... Возраст студента\t\n",
    "gender...................... Пол студента\n",
    "grade....................... Класс студента\n",
    "major....................... Главный урок\n",
    "gpa......................... Средний балл студента\n",
    "attendance_rate............. Уровень посещаемости студента\n",
    "extracurricular_activities.. Внеклассные занятия студента\n",
    "study_hours_per_week........ Количество часов учебы в неделю студента\n",
    "sleep_hours_per_day......... Количество часов сна в день студента\n",
    "distance_from_home_km....... Удаленность от дома студента\n",
    "```"
   ]
  },
  {
   "cell_type": "markdown",
   "metadata": {},
   "source": [
    "#### Предварительная обработка данных\n",
    "- Удаляем дубликаты\n",
    "- Разделяем имена и возраст\n",
    "- Избавляемся от пропусков и неверных значений\n",
    "- Корректировка типов данных\n",
    "- Неверные данные (данные которые не могут быть)\n",
    "6. Пункт вообще не понятен , что значит не соответствие , это внеклассовое занятие , чем хочет тем и будет заниматься"
   ]
  },
  {
   "cell_type": "code",
   "execution_count": 333,
   "metadata": {},
   "outputs": [],
   "source": [
    "# Удаляем дубликаты\n",
    "df = df[~df.duplicated(keep=False)]\n",
    "\n",
    "# Разделяем имена и возраст\n",
    "pattern_name = r'([a-zA-Z]+\\s[a-zA-Z]+)'\n",
    "pattern_age = r'([0-9]+\\.[0-9]+)'\n",
    "name_age = df.loc[:, 'name']\n",
    "\n",
    "for i, v in enumerate(name_age):\n",
    "    if all([re.search(pattern_name, v), re.search(pattern_age, v)]):\n",
    "        name = re.search(pattern_name, v).group(0)\n",
    "        age = float(re.search(pattern_age, v).group(0))\n",
    "        df.loc[i, 'name'] = name\n",
    "        df.loc[i, 'age'] = age\n",
    "\n",
    "# Избавляемся от пропусков и неверных значений\n",
    "df['age'].fillna(df['age'].mean(), inplace=True)\n",
    "\n",
    "df['gpa'].fillna(df['gpa'].mean(), inplace=True)\n",
    "\n",
    "gender_of_nan = 'Male' if len(df[df['gender'] == 'Male']) > len(df[df['gender'] == 'Female']) else 'Female'\n",
    "df['gender'].fillna(gender_of_nan, inplace=True)\n",
    "\n",
    "# Корректировка типов данных\n",
    "df['age'] = df['age'].astype(int)\n",
    "df['study_hours_per_week'] = df['study_hours_per_week'].astype(int)\n",
    "\n",
    "# Исправление неверных значений\n",
    "df['age'] = df['age'].replace(0, df['age'].mean())\n",
    "\n",
    "df.loc[df['study_hours_per_week'] < 0, 'study_hours_per_week'] = df['study_hours_per_week'].mean()\n"
   ]
  },
  {
   "cell_type": "markdown",
   "metadata": {},
   "source": [
    "#### Загружаем исправленные и обработанные данные в csv файл"
   ]
  },
  {
   "cell_type": "code",
   "execution_count": 334,
   "metadata": {},
   "outputs": [],
   "source": [
    "df.to_csv('../datasets/preprocessed_student_data_good.csv', index=False)"
   ]
  },
  {
   "cell_type": "code",
   "execution_count": 335,
   "metadata": {},
   "outputs": [
    {
     "name": "stdout",
     "output_type": "stream",
     "text": [
      "{'age': dtype('int32'),\n",
      " 'attendance_rate': dtype('int64'),\n",
      " 'distance_from_home_km': dtype('float64'),\n",
      " 'extracurricular_activities': dtype('O'),\n",
      " 'gender': dtype('O'),\n",
      " 'gpa': dtype('float64'),\n",
      " 'grade': dtype('O'),\n",
      " 'major': dtype('O'),\n",
      " 'name': dtype('O'),\n",
      " 'sleep_hours_per_day': dtype('float64'),\n",
      " 'student_id': dtype('O'),\n",
      " 'study_hours_per_week': dtype('float64')}\n"
     ]
    }
   ],
   "source": [
    "types_column = dict(zip(df.columns, df.dtypes))\n",
    "\n",
    "pprint(types_column)"
   ]
  },
  {
   "cell_type": "markdown",
   "metadata": {},
   "source": [
    "#### Создаем таблицу в БД и загружаем данные"
   ]
  },
  {
   "cell_type": "code",
   "execution_count": 336,
   "metadata": {},
   "outputs": [],
   "source": [
    "conn = psycopg2.connect(host=os.getenv('DB_HOST'),\n",
    "                        port=os.getenv('DB_PORT'),\n",
    "                        dbname=os.getenv('DB_NAME_GRAFANA'),\n",
    "                        user=os.getenv('DB_USER'),\n",
    "                        password=os.getenv('DB_PASSWORD'),\n",
    "                        options=\"-c search_path=public\")\n",
    "\n",
    "cursor = conn.cursor()\n",
    "\n",
    "drop_table = '''\n",
    "    drop table prodgect_grafana;\n",
    "'''\n",
    "\n",
    "create_table = '''\n",
    "    CREATE TABLE prodgect_grafana (\n",
    "        student_id VARCHAR(255),\n",
    "        name VARCHAR(255),\n",
    "        age INTEGER,\n",
    "        gender VARCHAR(10),\n",
    "        grade VARCHAR(255),\n",
    "        major VARCHAR(255),\n",
    "        gpa NUMERIC(10, 6),\n",
    "        attendance_rate INTEGER,\n",
    "        extracurricular_activities VARCHAR(255),\n",
    "        study_hours_per_week INTEGER,\n",
    "        sleep_hours_per_day NUMERIC(10, 6),\n",
    "        distance_from_home_km NUMERIC(10, 6)\n",
    "    );\n",
    "'''\n",
    "cursor.execute(drop_table)\n",
    "cursor.execute(create_table)\n",
    "conn.commit()\n",
    "\n",
    "df = pd.read_csv('../datasets/preprocessed_student_data_good.csv')\n",
    "\n",
    "for index, row in df.iterrows():\n",
    "    cursor.execute(\n",
    "        '''\n",
    "        INSERT INTO prodgect_grafana (\n",
    "            student_id,\n",
    "            name,\n",
    "            age,\n",
    "            gender,\n",
    "            grade,\n",
    "            major,\n",
    "            gpa,\n",
    "            attendance_rate,\n",
    "            extracurricular_activities,\n",
    "            study_hours_per_week,\n",
    "            sleep_hours_per_day,\n",
    "            distance_from_home_km)\n",
    "        VALUES (%s, %s, %s, %s, %s, %s, %s, %s, %s, %s, %s, %s)\n",
    "        ''',\n",
    "        tuple(row)\n",
    "    )\n",
    "\n",
    "conn.commit()\n",
    "cursor.close()\n",
    "conn.close()"
   ]
  },
  {
   "cell_type": "markdown",
   "metadata": {},
   "source": [
    "#### Краткий вывод о предоброботке данных:\n",
    "\n",
    "- В данных попались дублирующие строки - избавился от них\n",
    "- Данные загрузились некорректно (например имена студентов и возраст попали в одну колонку), обработан этот момент\n",
    "- Чувствительно важнные данные например возраст, колличество часов и т п обработанны (нулевые и пропущенные значения заменены средними по выборке)\n",
    "- Изменил тип данных некоторых колонок для удобства работы с ними\n",
    "- Очевидно не верные значения заменил средними по выборке\n",
    "- Перезалил исправленные данные в csv-файл\n",
    "- Создаем БД и загружаем данные для работы с Grafana"
   ]
  },
  {
   "cell_type": "markdown",
   "metadata": {},
   "source": [
    "```markdown\n",
    "![Grafana_final](https://github.com/Rishat-Ver/1T_data_analyst/blob/main/images/Grafana_final.jpg)\n",
    "```"
   ]
  }
 ],
 "metadata": {
  "kernelspec": {
   "display_name": "venv",
   "language": "python",
   "name": "python3"
  },
  "language_info": {
   "codemirror_mode": {
    "name": "ipython",
    "version": 3
   },
   "file_extension": ".py",
   "mimetype": "text/x-python",
   "name": "python",
   "nbconvert_exporter": "python",
   "pygments_lexer": "ipython3",
   "version": "3.11.7"
  }
 },
 "nbformat": 4,
 "nbformat_minor": 2
}
