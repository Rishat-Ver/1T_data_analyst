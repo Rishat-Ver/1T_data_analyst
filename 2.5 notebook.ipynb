{
 "cells": [
  {
   "attachments": {
    "db.png": {
     "image/png": "[encoded data removed]"
    }
   },
   "cell_type": "markdown",
   "id": "34775d5f",
   "metadata": {},
   "source": [
    "<img href='db.png'>![db.png](attachment:db.png)"
   ]
  },
  {
   "cell_type": "code",
   "execution_count": 35,
   "id": "216e746e",
   "metadata": {},
   "outputs": [
    {
     "ename": "ModuleNotFoundError",
     "evalue": "No module named 'matplotlib'",
     "output_type": "error",
     "traceback": [
      "\u001b[1;31m---------------------------------------------------------------------------\u001b[0m",
      "\u001b[1;31mModuleNotFoundError\u001b[0m                       Traceback (most recent call last)",
      "Cell \u001b[1;32mIn[35], line 3\u001b[0m\n\u001b[0;32m      1\u001b[0m \u001b[38;5;28;01mimport\u001b[39;00m \u001b[38;5;21;01mpsycopg2\u001b[39;00m\n\u001b[0;32m      2\u001b[0m \u001b[38;5;28;01mimport\u001b[39;00m \u001b[38;5;21;01mpandas\u001b[39;00m \u001b[38;5;28;01mas\u001b[39;00m \u001b[38;5;21;01mpd\u001b[39;00m\n\u001b[1;32m----> 3\u001b[0m \u001b[38;5;28;01mimport\u001b[39;00m \u001b[38;5;21;01mmatplotlib_inline\u001b[39;00m\n",
      "File \u001b[1;32m~\\PycharmProjects\\pr\\venv\\lib\\site-packages\\matplotlib_inline\\__init__.py:1\u001b[0m\n\u001b[1;32m----> 1\u001b[0m \u001b[38;5;28;01mfrom\u001b[39;00m \u001b[38;5;21;01m.\u001b[39;00m \u001b[38;5;28;01mimport\u001b[39;00m backend_inline, config  \u001b[38;5;66;03m# noqa\u001b[39;00m\n\u001b[0;32m      2\u001b[0m __version__ \u001b[38;5;241m=\u001b[39m \u001b[38;5;124m\"\u001b[39m\u001b[38;5;124m0.1.6\u001b[39m\u001b[38;5;124m\"\u001b[39m  \u001b[38;5;66;03m# noqa\u001b[39;00m\n",
      "File \u001b[1;32m~\\PycharmProjects\\pr\\venv\\lib\\site-packages\\matplotlib_inline\\backend_inline.py:6\u001b[0m\n\u001b[0;32m      1\u001b[0m \u001b[38;5;124;03m\"\"\"A matplotlib backend for publishing figures via display_data\"\"\"\u001b[39;00m\n\u001b[0;32m      3\u001b[0m \u001b[38;5;66;03m# Copyright (c) IPython Development Team.\u001b[39;00m\n\u001b[0;32m      4\u001b[0m \u001b[38;5;66;03m# Distributed under the terms of the BSD 3-Clause License.\u001b[39;00m\n\u001b[1;32m----> 6\u001b[0m \u001b[38;5;28;01mimport\u001b[39;00m \u001b[38;5;21;01mmatplotlib\u001b[39;00m\n\u001b[0;32m      7\u001b[0m \u001b[38;5;28;01mfrom\u001b[39;00m \u001b[38;5;21;01mmatplotlib\u001b[39;00m \u001b[38;5;28;01mimport\u001b[39;00m colors\n\u001b[0;32m      8\u001b[0m \u001b[38;5;28;01mfrom\u001b[39;00m \u001b[38;5;21;01mmatplotlib\u001b[39;00m\u001b[38;5;21;01m.\u001b[39;00m\u001b[38;5;21;01mbackends\u001b[39;00m \u001b[38;5;28;01mimport\u001b[39;00m backend_agg\n",
      "\u001b[1;31mModuleNotFoundError\u001b[0m: No module named 'matplotlib'"
     ]
    }
   ],
   "source": [
    "import psycopg2\n",
    "import pandas as pd"
   ]
  },
  {
   "cell_type": "code",
   "execution_count": 25,
   "id": "9cfbb916",
   "metadata": {},
   "outputs": [],
   "source": [
    "params = {'host': 'localhost', \n",
    "          'port': 5432, \n",
    "          'dbname': 'postgres', \n",
    "          'user': 'postgres', \n",
    "          'password': '123123'\n",
    "         }"
   ]
  },
  {
   "cell_type": "code",
   "execution_count": 136,
   "id": "98523ce5",
   "metadata": {},
   "outputs": [],
   "source": [
    "conn = psycopg2.connect(host=params['host'], \n",
    "                        port=params['port'], \n",
    "                        dbname=params['dbname'], \n",
    "                        user=params['user'], \n",
    "                        password=params['password'])"
   ]
  },
  {
   "cell_type": "markdown",
   "id": "4e109cd2",
   "metadata": {},
   "source": [
    "1. Выгрузить данные из таблицы PostgreSQL в pandas DataFrame."
   ]
  },
  {
   "cell_type": "code",
   "execution_count": 4,
   "id": "f386ad32",
   "metadata": {},
   "outputs": [],
   "source": [
    "query = 'SELECT * FROM public.trip'"
   ]
  },
  {
   "cell_type": "code",
   "execution_count": 5,
   "id": "9da99ef6",
   "metadata": {
    "scrolled": true
   },
   "outputs": [
    {
     "name": "stderr",
     "output_type": "stream",
     "text": [
      "C:\\Users\\campus\\AppData\\Local\\Temp\\ipykernel_10500\\1168034203.py:1: UserWarning: pandas only supports SQLAlchemy connectable (engine/connection) or database string URI or sqlite3 DBAPI2 connection. Other DBAPI2 objects are not tested. Please consider using SQLAlchemy.\n",
      "  df = pd.read_sql(query, conn)\n"
     ]
    }
   ],
   "source": [
    "df = pd.read_sql(query, conn)"
   ]
  },
  {
   "cell_type": "code",
   "execution_count": 6,
   "id": "c1ad76cc",
   "metadata": {},
   "outputs": [
    {
     "data": {
      "text/html": [
       "<div>\n",
       "<style scoped>\n",
       "    .dataframe tbody tr th:only-of-type {\n",
       "        vertical-align: middle;\n",
       "    }\n",
       "\n",
       "    .dataframe tbody tr th {\n",
       "        vertical-align: top;\n",
       "    }\n",
       "\n",
       "    .dataframe thead th {\n",
       "        text-align: right;\n",
       "    }\n",
       "</style>\n",
       "<table border=\"1\" class=\"dataframe\">\n",
       "  <thead>\n",
       "    <tr style=\"text-align: right;\">\n",
       "      <th></th>\n",
       "      <th>trip_no</th>\n",
       "      <th>id_comp</th>\n",
       "      <th>plane</th>\n",
       "      <th>town_from</th>\n",
       "      <th>town_to</th>\n",
       "      <th>time_out</th>\n",
       "      <th>time_in</th>\n",
       "    </tr>\n",
       "  </thead>\n",
       "  <tbody>\n",
       "    <tr>\n",
       "      <th>0</th>\n",
       "      <td>1100</td>\n",
       "      <td>4</td>\n",
       "      <td>Boeing</td>\n",
       "      <td>Rostov</td>\n",
       "      <td>Paris</td>\n",
       "      <td>1900-01-01 14:30:00</td>\n",
       "      <td>1900-01-01 17:50:00</td>\n",
       "    </tr>\n",
       "    <tr>\n",
       "      <th>1</th>\n",
       "      <td>1101</td>\n",
       "      <td>4</td>\n",
       "      <td>Boeing</td>\n",
       "      <td>Paris</td>\n",
       "      <td>Rostov</td>\n",
       "      <td>1900-01-01 08:12:00</td>\n",
       "      <td>1900-01-01 11:45:00</td>\n",
       "    </tr>\n",
       "    <tr>\n",
       "      <th>2</th>\n",
       "      <td>1123</td>\n",
       "      <td>3</td>\n",
       "      <td>TU-154</td>\n",
       "      <td>Rostov</td>\n",
       "      <td>Vladivostok</td>\n",
       "      <td>1900-01-01 16:20:00</td>\n",
       "      <td>1900-01-01 03:40:00</td>\n",
       "    </tr>\n",
       "    <tr>\n",
       "      <th>3</th>\n",
       "      <td>1124</td>\n",
       "      <td>3</td>\n",
       "      <td>TU-154</td>\n",
       "      <td>Vladivostok</td>\n",
       "      <td>Rostov</td>\n",
       "      <td>1900-01-01 09:00:00</td>\n",
       "      <td>1900-01-01 19:50:00</td>\n",
       "    </tr>\n",
       "    <tr>\n",
       "      <th>4</th>\n",
       "      <td>1145</td>\n",
       "      <td>2</td>\n",
       "      <td>IL-86</td>\n",
       "      <td>Moscow</td>\n",
       "      <td>Rostov</td>\n",
       "      <td>1900-01-01 09:35:00</td>\n",
       "      <td>1900-01-01 11:23:00</td>\n",
       "    </tr>\n",
       "  </tbody>\n",
       "</table>\n",
       "</div>"
      ],
      "text/plain": [
       "   trip_no  id_comp       plane                  town_from  \\\n",
       "0     1100        4  Boeing      Rostov                      \n",
       "1     1101        4  Boeing      Paris                       \n",
       "2     1123        3  TU-154      Rostov                      \n",
       "3     1124        3  TU-154      Vladivostok                 \n",
       "4     1145        2  IL-86       Moscow                      \n",
       "\n",
       "                     town_to            time_out             time_in  \n",
       "0  Paris                     1900-01-01 14:30:00 1900-01-01 17:50:00  \n",
       "1  Rostov                    1900-01-01 08:12:00 1900-01-01 11:45:00  \n",
       "2  Vladivostok               1900-01-01 16:20:00 1900-01-01 03:40:00  \n",
       "3  Rostov                    1900-01-01 09:00:00 1900-01-01 19:50:00  \n",
       "4  Rostov                    1900-01-01 09:35:00 1900-01-01 11:23:00  "
      ]
     },
     "execution_count": 6,
     "metadata": {},
     "output_type": "execute_result"
    }
   ],
   "source": [
    "df.head()"
   ]
  },
  {
   "cell_type": "code",
   "execution_count": 7,
   "id": "8d240dc9",
   "metadata": {
    "scrolled": true
   },
   "outputs": [
    {
     "name": "stdout",
     "output_type": "stream",
     "text": [
      "<class 'pandas.core.frame.DataFrame'>\n",
      "RangeIndex: 22 entries, 0 to 21\n",
      "Data columns (total 7 columns):\n",
      " #   Column     Non-Null Count  Dtype         \n",
      "---  ------     --------------  -----         \n",
      " 0   trip_no    22 non-null     int64         \n",
      " 1   id_comp    22 non-null     int64         \n",
      " 2   plane      22 non-null     object        \n",
      " 3   town_from  22 non-null     object        \n",
      " 4   town_to    22 non-null     object        \n",
      " 5   time_out   22 non-null     datetime64[ns]\n",
      " 6   time_in    22 non-null     datetime64[ns]\n",
      "dtypes: datetime64[ns](2), int64(2), object(3)\n",
      "memory usage: 1.3+ KB\n"
     ]
    }
   ],
   "source": [
    "df.info()"
   ]
  },
  {
   "cell_type": "markdown",
   "id": "6568d750",
   "metadata": {},
   "source": [
    "2. Преобразовать данные в pandas DataFrame и загрузить их обратно в таблицу PostgreSQL."
   ]
  },
  {
   "cell_type": "code",
   "execution_count": 8,
   "id": "6171c14b",
   "metadata": {},
   "outputs": [],
   "source": [
    "from sqlalchemy import create_engine, URL\n",
    "\n",
    "url_object = URL.create(\"postgresql\", \n",
    "                        username=params['user'], \n",
    "                        password=params['password'], \n",
    "                        host=params['host'], \n",
    "                        port=params['port'], \n",
    "                        database=params['dbname'])\n",
    "\n",
    "engine = create_engine(url_object)"
   ]
  },
  {
   "cell_type": "code",
   "execution_count": 9,
   "id": "8d8b8321",
   "metadata": {},
   "outputs": [],
   "source": [
    "df_copy = df.copy()"
   ]
  },
  {
   "cell_type": "code",
   "execution_count": 10,
   "id": "e2b16219",
   "metadata": {},
   "outputs": [],
   "source": [
    "df_copy = df_copy.drop(['time_out', 'time_in'], axis=1)"
   ]
  },
  {
   "cell_type": "code",
   "execution_count": 11,
   "id": "8189b210",
   "metadata": {},
   "outputs": [
    {
     "data": {
      "text/html": [
       "<div>\n",
       "<style scoped>\n",
       "    .dataframe tbody tr th:only-of-type {\n",
       "        vertical-align: middle;\n",
       "    }\n",
       "\n",
       "    .dataframe tbody tr th {\n",
       "        vertical-align: top;\n",
       "    }\n",
       "\n",
       "    .dataframe thead th {\n",
       "        text-align: right;\n",
       "    }\n",
       "</style>\n",
       "<table border=\"1\" class=\"dataframe\">\n",
       "  <thead>\n",
       "    <tr style=\"text-align: right;\">\n",
       "      <th></th>\n",
       "      <th>trip_no</th>\n",
       "      <th>id_comp</th>\n",
       "      <th>plane</th>\n",
       "      <th>town_from</th>\n",
       "      <th>town_to</th>\n",
       "    </tr>\n",
       "  </thead>\n",
       "  <tbody>\n",
       "    <tr>\n",
       "      <th>0</th>\n",
       "      <td>1100</td>\n",
       "      <td>4</td>\n",
       "      <td>Boeing</td>\n",
       "      <td>Rostov</td>\n",
       "      <td>Paris</td>\n",
       "    </tr>\n",
       "    <tr>\n",
       "      <th>1</th>\n",
       "      <td>1101</td>\n",
       "      <td>4</td>\n",
       "      <td>Boeing</td>\n",
       "      <td>Paris</td>\n",
       "      <td>Rostov</td>\n",
       "    </tr>\n",
       "    <tr>\n",
       "      <th>2</th>\n",
       "      <td>1123</td>\n",
       "      <td>3</td>\n",
       "      <td>TU-154</td>\n",
       "      <td>Rostov</td>\n",
       "      <td>Vladivostok</td>\n",
       "    </tr>\n",
       "    <tr>\n",
       "      <th>3</th>\n",
       "      <td>1124</td>\n",
       "      <td>3</td>\n",
       "      <td>TU-154</td>\n",
       "      <td>Vladivostok</td>\n",
       "      <td>Rostov</td>\n",
       "    </tr>\n",
       "    <tr>\n",
       "      <th>4</th>\n",
       "      <td>1145</td>\n",
       "      <td>2</td>\n",
       "      <td>IL-86</td>\n",
       "      <td>Moscow</td>\n",
       "      <td>Rostov</td>\n",
       "    </tr>\n",
       "  </tbody>\n",
       "</table>\n",
       "</div>"
      ],
      "text/plain": [
       "   trip_no  id_comp       plane                  town_from  \\\n",
       "0     1100        4  Boeing      Rostov                      \n",
       "1     1101        4  Boeing      Paris                       \n",
       "2     1123        3  TU-154      Rostov                      \n",
       "3     1124        3  TU-154      Vladivostok                 \n",
       "4     1145        2  IL-86       Moscow                      \n",
       "\n",
       "                     town_to  \n",
       "0  Paris                      \n",
       "1  Rostov                     \n",
       "2  Vladivostok                \n",
       "3  Rostov                     \n",
       "4  Rostov                     "
      ]
     },
     "execution_count": 11,
     "metadata": {},
     "output_type": "execute_result"
    }
   ],
   "source": [
    "df_copy.head()"
   ]
  },
  {
   "cell_type": "code",
   "execution_count": 12,
   "id": "41e5489d",
   "metadata": {},
   "outputs": [
    {
     "data": {
      "text/plain": [
       "22"
      ]
     },
     "execution_count": 12,
     "metadata": {},
     "output_type": "execute_result"
    }
   ],
   "source": [
    "df_copy.to_sql('new_df_table', engine, if_exists='replace', index=False)"
   ]
  },
  {
   "cell_type": "code",
   "execution_count": 13,
   "id": "f75b01bd",
   "metadata": {},
   "outputs": [],
   "source": [
    "query = 'SELECT * FROM public.new_df_table'"
   ]
  },
  {
   "cell_type": "code",
   "execution_count": 23,
   "id": "7dfbdc34",
   "metadata": {
    "scrolled": true
   },
   "outputs": [],
   "source": [
    "# pd.read_sql(query, conn)"
   ]
  },
  {
   "cell_type": "markdown",
   "id": "86130311",
   "metadata": {},
   "source": [
    "3. Выполнить агрегирование данных из таблицы PostgreSQL с помощью pandas и сохранить результаты в новую таблицу PostgreSQL."
   ]
  },
  {
   "cell_type": "code",
   "execution_count": 61,
   "id": "9435e277",
   "metadata": {},
   "outputs": [
    {
     "data": {
      "text/html": [
       "<div>\n",
       "<style scoped>\n",
       "    .dataframe tbody tr th:only-of-type {\n",
       "        vertical-align: middle;\n",
       "    }\n",
       "\n",
       "    .dataframe tbody tr th {\n",
       "        vertical-align: top;\n",
       "    }\n",
       "\n",
       "    .dataframe thead th {\n",
       "        text-align: right;\n",
       "    }\n",
       "</style>\n",
       "<table border=\"1\" class=\"dataframe\">\n",
       "  <thead>\n",
       "    <tr style=\"text-align: right;\">\n",
       "      <th></th>\n",
       "      <th>trip_no</th>\n",
       "      <th>id_comp</th>\n",
       "      <th>plane</th>\n",
       "      <th>town_from</th>\n",
       "      <th>town_to</th>\n",
       "      <th>time_out</th>\n",
       "      <th>time_in</th>\n",
       "    </tr>\n",
       "  </thead>\n",
       "  <tbody>\n",
       "    <tr>\n",
       "      <th>0</th>\n",
       "      <td>1100</td>\n",
       "      <td>4</td>\n",
       "      <td>Boeing</td>\n",
       "      <td>Rostov</td>\n",
       "      <td>Paris</td>\n",
       "      <td>1900-01-01 14:30:00</td>\n",
       "      <td>1900-01-01 17:50:00</td>\n",
       "    </tr>\n",
       "    <tr>\n",
       "      <th>1</th>\n",
       "      <td>1101</td>\n",
       "      <td>4</td>\n",
       "      <td>Boeing</td>\n",
       "      <td>Paris</td>\n",
       "      <td>Rostov</td>\n",
       "      <td>1900-01-01 08:12:00</td>\n",
       "      <td>1900-01-01 11:45:00</td>\n",
       "    </tr>\n",
       "    <tr>\n",
       "      <th>2</th>\n",
       "      <td>1123</td>\n",
       "      <td>3</td>\n",
       "      <td>TU-154</td>\n",
       "      <td>Rostov</td>\n",
       "      <td>Vladivostok</td>\n",
       "      <td>1900-01-01 16:20:00</td>\n",
       "      <td>1900-01-01 03:40:00</td>\n",
       "    </tr>\n",
       "    <tr>\n",
       "      <th>3</th>\n",
       "      <td>1124</td>\n",
       "      <td>3</td>\n",
       "      <td>TU-154</td>\n",
       "      <td>Vladivostok</td>\n",
       "      <td>Rostov</td>\n",
       "      <td>1900-01-01 09:00:00</td>\n",
       "      <td>1900-01-01 19:50:00</td>\n",
       "    </tr>\n",
       "    <tr>\n",
       "      <th>4</th>\n",
       "      <td>1145</td>\n",
       "      <td>2</td>\n",
       "      <td>IL-86</td>\n",
       "      <td>Moscow</td>\n",
       "      <td>Rostov</td>\n",
       "      <td>1900-01-01 09:35:00</td>\n",
       "      <td>1900-01-01 11:23:00</td>\n",
       "    </tr>\n",
       "  </tbody>\n",
       "</table>\n",
       "</div>"
      ],
      "text/plain": [
       "   trip_no  id_comp       plane                  town_from  \\\n",
       "0     1100        4  Boeing      Rostov                      \n",
       "1     1101        4  Boeing      Paris                       \n",
       "2     1123        3  TU-154      Rostov                      \n",
       "3     1124        3  TU-154      Vladivostok                 \n",
       "4     1145        2  IL-86       Moscow                      \n",
       "\n",
       "                     town_to            time_out             time_in  \n",
       "0  Paris                     1900-01-01 14:30:00 1900-01-01 17:50:00  \n",
       "1  Rostov                    1900-01-01 08:12:00 1900-01-01 11:45:00  \n",
       "2  Vladivostok               1900-01-01 16:20:00 1900-01-01 03:40:00  \n",
       "3  Rostov                    1900-01-01 09:00:00 1900-01-01 19:50:00  \n",
       "4  Rostov                    1900-01-01 09:35:00 1900-01-01 11:23:00  "
      ]
     },
     "execution_count": 61,
     "metadata": {},
     "output_type": "execute_result"
    }
   ],
   "source": [
    "df.head()"
   ]
  },
  {
   "cell_type": "code",
   "execution_count": 63,
   "id": "4cfeb6ec",
   "metadata": {},
   "outputs": [],
   "source": [
    "df_group = df.groupby(by='id_comp')['plane'].value_counts()"
   ]
  },
  {
   "cell_type": "code",
   "execution_count": 64,
   "id": "a61ac7e5",
   "metadata": {},
   "outputs": [
    {
     "data": {
      "text/plain": [
       "6"
      ]
     },
     "execution_count": 64,
     "metadata": {},
     "output_type": "execute_result"
    }
   ],
   "source": [
    "df_group.to_sql('group_table', engine)"
   ]
  },
  {
   "cell_type": "code",
   "execution_count": 65,
   "id": "38ececaa",
   "metadata": {},
   "outputs": [
    {
     "name": "stderr",
     "output_type": "stream",
     "text": [
      "C:\\Users\\campus\\AppData\\Local\\Temp\\ipykernel_10500\\1261234803.py:1: UserWarning: pandas only supports SQLAlchemy connectable (engine/connection) or database string URI or sqlite3 DBAPI2 connection. Other DBAPI2 objects are not tested. Please consider using SQLAlchemy.\n",
      "  pd.read_sql('SELECT * FROM public.group_table', conn)\n"
     ]
    },
    {
     "data": {
      "text/html": [
       "<div>\n",
       "<style scoped>\n",
       "    .dataframe tbody tr th:only-of-type {\n",
       "        vertical-align: middle;\n",
       "    }\n",
       "\n",
       "    .dataframe tbody tr th {\n",
       "        vertical-align: top;\n",
       "    }\n",
       "\n",
       "    .dataframe thead th {\n",
       "        text-align: right;\n",
       "    }\n",
       "</style>\n",
       "<table border=\"1\" class=\"dataframe\">\n",
       "  <thead>\n",
       "    <tr style=\"text-align: right;\">\n",
       "      <th></th>\n",
       "      <th>id_comp</th>\n",
       "      <th>plane</th>\n",
       "      <th>count</th>\n",
       "    </tr>\n",
       "  </thead>\n",
       "  <tbody>\n",
       "    <tr>\n",
       "      <th>0</th>\n",
       "      <td>1</td>\n",
       "      <td>TU-134</td>\n",
       "      <td>4</td>\n",
       "    </tr>\n",
       "    <tr>\n",
       "      <th>1</th>\n",
       "      <td>1</td>\n",
       "      <td>TU-154</td>\n",
       "      <td>2</td>\n",
       "    </tr>\n",
       "    <tr>\n",
       "      <th>2</th>\n",
       "      <td>2</td>\n",
       "      <td>IL-86</td>\n",
       "      <td>2</td>\n",
       "    </tr>\n",
       "    <tr>\n",
       "      <th>3</th>\n",
       "      <td>3</td>\n",
       "      <td>TU-154</td>\n",
       "      <td>2</td>\n",
       "    </tr>\n",
       "    <tr>\n",
       "      <th>4</th>\n",
       "      <td>4</td>\n",
       "      <td>Boeing</td>\n",
       "      <td>2</td>\n",
       "    </tr>\n",
       "    <tr>\n",
       "      <th>5</th>\n",
       "      <td>5</td>\n",
       "      <td>Boeing</td>\n",
       "      <td>10</td>\n",
       "    </tr>\n",
       "  </tbody>\n",
       "</table>\n",
       "</div>"
      ],
      "text/plain": [
       "   id_comp       plane  count\n",
       "0        1  TU-134          4\n",
       "1        1  TU-154          2\n",
       "2        2  IL-86           2\n",
       "3        3  TU-154          2\n",
       "4        4  Boeing          2\n",
       "5        5  Boeing         10"
      ]
     },
     "execution_count": 65,
     "metadata": {},
     "output_type": "execute_result"
    }
   ],
   "source": [
    "pd.read_sql('SELECT * FROM public.group_table', conn)"
   ]
  },
  {
   "cell_type": "markdown",
   "id": "1e20441e",
   "metadata": {},
   "source": [
    "4. Объединить данные из нескольких таблиц PostgreSQL в pandas DataFrame и выполнить операции над ними."
   ]
  },
  {
   "cell_type": "code",
   "execution_count": 68,
   "id": "3a54ba25",
   "metadata": {},
   "outputs": [],
   "source": [
    "query = '''SELECT company.name, \n",
    "                    trip.plane,\n",
    "                    trip.town_from,\n",
    "                    trip.town_to\n",
    "            FROM public.trip AS trip\n",
    "                JOIN public.company AS company\n",
    "                    ON trip.id_comp = company.id_comp'''"
   ]
  },
  {
   "cell_type": "code",
   "execution_count": 75,
   "id": "8a27ae15",
   "metadata": {},
   "outputs": [
    {
     "name": "stderr",
     "output_type": "stream",
     "text": [
      "C:\\Users\\campus\\AppData\\Local\\Temp\\ipykernel_10500\\3747454037.py:1: UserWarning: pandas only supports SQLAlchemy connectable (engine/connection) or database string URI or sqlite3 DBAPI2 connection. Other DBAPI2 objects are not tested. Please consider using SQLAlchemy.\n",
      "  df_temp = pd.read_sql(query, conn)\n"
     ]
    }
   ],
   "source": [
    "df_temp = pd.read_sql(query, conn)"
   ]
  },
  {
   "cell_type": "markdown",
   "id": "8c6470d2",
   "metadata": {},
   "source": [
    "5. Выполнить анализ данных из таблицы PostgreSQL с помощью pandas, например, построить графики, диаграммы и т.д."
   ]
  },
  {
   "cell_type": "code",
   "execution_count": 77,
   "id": "c4751961",
   "metadata": {},
   "outputs": [
    {
     "data": {
      "text/html": [
       "<div>\n",
       "<style scoped>\n",
       "    .dataframe tbody tr th:only-of-type {\n",
       "        vertical-align: middle;\n",
       "    }\n",
       "\n",
       "    .dataframe tbody tr th {\n",
       "        vertical-align: top;\n",
       "    }\n",
       "\n",
       "    .dataframe thead th {\n",
       "        text-align: right;\n",
       "    }\n",
       "</style>\n",
       "<table border=\"1\" class=\"dataframe\">\n",
       "  <thead>\n",
       "    <tr style=\"text-align: right;\">\n",
       "      <th></th>\n",
       "      <th>name</th>\n",
       "      <th>plane</th>\n",
       "      <th>town_from</th>\n",
       "      <th>town_to</th>\n",
       "    </tr>\n",
       "  </thead>\n",
       "  <tbody>\n",
       "    <tr>\n",
       "      <th>0</th>\n",
       "      <td>air_France</td>\n",
       "      <td>Boeing</td>\n",
       "      <td>Rostov</td>\n",
       "      <td>Paris</td>\n",
       "    </tr>\n",
       "    <tr>\n",
       "      <th>1</th>\n",
       "      <td>air_France</td>\n",
       "      <td>Boeing</td>\n",
       "      <td>Paris</td>\n",
       "      <td>Rostov</td>\n",
       "    </tr>\n",
       "    <tr>\n",
       "      <th>2</th>\n",
       "      <td>Dale_avia</td>\n",
       "      <td>TU-154</td>\n",
       "      <td>Rostov</td>\n",
       "      <td>Vladivostok</td>\n",
       "    </tr>\n",
       "    <tr>\n",
       "      <th>3</th>\n",
       "      <td>Dale_avia</td>\n",
       "      <td>TU-154</td>\n",
       "      <td>Vladivostok</td>\n",
       "      <td>Rostov</td>\n",
       "    </tr>\n",
       "    <tr>\n",
       "      <th>4</th>\n",
       "      <td>Aeroflot</td>\n",
       "      <td>IL-86</td>\n",
       "      <td>Moscow</td>\n",
       "      <td>Rostov</td>\n",
       "    </tr>\n",
       "  </tbody>\n",
       "</table>\n",
       "</div>"
      ],
      "text/plain": [
       "         name       plane                  town_from  \\\n",
       "0  air_France  Boeing      Rostov                      \n",
       "1  air_France  Boeing      Paris                       \n",
       "2  Dale_avia   TU-154      Rostov                      \n",
       "3  Dale_avia   TU-154      Vladivostok                 \n",
       "4  Aeroflot    IL-86       Moscow                      \n",
       "\n",
       "                     town_to  \n",
       "0  Paris                      \n",
       "1  Rostov                     \n",
       "2  Vladivostok                \n",
       "3  Rostov                     \n",
       "4  Rostov                     "
      ]
     },
     "execution_count": 77,
     "metadata": {},
     "output_type": "execute_result"
    }
   ],
   "source": [
    "df_temp.head()"
   ]
  },
  {
   "cell_type": "code",
   "execution_count": 79,
   "id": "3f9994ee",
   "metadata": {},
   "outputs": [
    {
     "data": {
      "text/plain": [
       "<Axes: >"
      ]
     },
     "execution_count": 79,
     "metadata": {},
     "output_type": "execute_result"
    },
    {
     "data": {
      "image/png": "[encoded data removed]",
      "text/plain": [
       "<Figure size 640x480 with 1 Axes>"
      ]
     },
     "metadata": {},
     "output_type": "display_data"
    }
   ],
   "source": [
    "df_temp.name.hist()"
   ]
  },
  {
   "cell_type": "markdown",
   "id": "19e7eb5d",
   "metadata": {},
   "source": [
    "6. Выгрузить данные из нескольких таблиц PostgreSQL в разные pandas DataFrame, выполнить объединение данных и сохранить результаты в новую таблицу PostgreSQL."
   ]
  },
  {
   "cell_type": "code",
   "execution_count": 137,
   "id": "b0e1a0f6",
   "metadata": {},
   "outputs": [
    {
     "name": "stderr",
     "output_type": "stream",
     "text": [
      "C:\\Users\\campus\\AppData\\Local\\Temp\\ipykernel_10500\\2796291431.py:3: UserWarning: pandas only supports SQLAlchemy connectable (engine/connection) or database string URI or sqlite3 DBAPI2 connection. Other DBAPI2 objects are not tested. Please consider using SQLAlchemy.\n",
      "  df_trip = pd.read_sql(query_trip, conn)\n",
      "C:\\Users\\campus\\AppData\\Local\\Temp\\ipykernel_10500\\2796291431.py:4: UserWarning: pandas only supports SQLAlchemy connectable (engine/connection) or database string URI or sqlite3 DBAPI2 connection. Other DBAPI2 objects are not tested. Please consider using SQLAlchemy.\n",
      "  df_company = pd.read_sql(query_company, conn)\n"
     ]
    }
   ],
   "source": [
    "query_trip = 'SELECT * FROM public.trip'\n",
    "query_company = 'SELECT * FROM public.company'\n",
    "df_trip = pd.read_sql(query_trip, conn)\n",
    "df_company = pd.read_sql(query_company, conn)"
   ]
  },
  {
   "cell_type": "code",
   "execution_count": 142,
   "id": "4a9c727a",
   "metadata": {},
   "outputs": [],
   "source": [
    "df_merge = pd.merge(df_trip, df_company, on='id_comp')"
   ]
  },
  {
   "cell_type": "markdown",
   "id": "ab30d869",
   "metadata": {},
   "source": [
    "7. Создать сводную таблицу на основе данных из таблицы PostgreSQL с помощью pandas и сохранить результаты в новую таблицу PostgreSQL."
   ]
  },
  {
   "cell_type": "code",
   "execution_count": 145,
   "id": "cffdfe57",
   "metadata": {},
   "outputs": [
    {
     "data": {
      "text/html": [
       "<div>\n",
       "<style scoped>\n",
       "    .dataframe tbody tr th:only-of-type {\n",
       "        vertical-align: middle;\n",
       "    }\n",
       "\n",
       "    .dataframe tbody tr th {\n",
       "        vertical-align: top;\n",
       "    }\n",
       "\n",
       "    .dataframe thead th {\n",
       "        text-align: right;\n",
       "    }\n",
       "</style>\n",
       "<table border=\"1\" class=\"dataframe\">\n",
       "  <thead>\n",
       "    <tr style=\"text-align: right;\">\n",
       "      <th></th>\n",
       "      <th></th>\n",
       "      <th>trip_no</th>\n",
       "    </tr>\n",
       "    <tr>\n",
       "      <th>name</th>\n",
       "      <th>plane</th>\n",
       "      <th></th>\n",
       "    </tr>\n",
       "  </thead>\n",
       "  <tbody>\n",
       "    <tr>\n",
       "      <th>Aeroflot</th>\n",
       "      <th>IL-86</th>\n",
       "      <td>2</td>\n",
       "    </tr>\n",
       "    <tr>\n",
       "      <th>British_AW</th>\n",
       "      <th>Boeing</th>\n",
       "      <td>10</td>\n",
       "    </tr>\n",
       "    <tr>\n",
       "      <th>Dale_avia</th>\n",
       "      <th>TU-154</th>\n",
       "      <td>2</td>\n",
       "    </tr>\n",
       "    <tr>\n",
       "      <th rowspan=\"2\" valign=\"top\">Don_avia</th>\n",
       "      <th>TU-134</th>\n",
       "      <td>4</td>\n",
       "    </tr>\n",
       "    <tr>\n",
       "      <th>TU-154</th>\n",
       "      <td>2</td>\n",
       "    </tr>\n",
       "    <tr>\n",
       "      <th>air_France</th>\n",
       "      <th>Boeing</th>\n",
       "      <td>2</td>\n",
       "    </tr>\n",
       "  </tbody>\n",
       "</table>\n",
       "</div>"
      ],
      "text/plain": [
       "                       trip_no\n",
       "name       plane              \n",
       "Aeroflot   IL-86             2\n",
       "British_AW Boeing           10\n",
       "Dale_avia  TU-154            2\n",
       "Don_avia   TU-134            4\n",
       "           TU-154            2\n",
       "air_France Boeing            2"
      ]
     },
     "execution_count": 145,
     "metadata": {},
     "output_type": "execute_result"
    }
   ],
   "source": [
    "pd.pivot_table(df_merge, index=['name', 'plane'], values='trip_no', aggfunc='count')"
   ]
  },
  {
   "cell_type": "markdown",
   "id": "6bf241f0",
   "metadata": {},
   "source": [
    "8. Выполнить фильтрацию данных из таблицы PostgreSQL с помощью pandas и сохранить результаты в новую таблицу PostgreSQL."
   ]
  },
  {
   "cell_type": "code",
   "execution_count": 151,
   "id": "d165b00d",
   "metadata": {},
   "outputs": [],
   "source": [
    "df_merge['plane'] = df_merge.apply(lambda row: row['plane'].strip(), axis=1)"
   ]
  },
  {
   "cell_type": "code",
   "execution_count": 156,
   "id": "45ccf9d5",
   "metadata": {},
   "outputs": [],
   "source": [
    "df_filtered = df_merge[df_merge['plane'] == 'Boeing'].reset_index(drop=True)"
   ]
  },
  {
   "cell_type": "code",
   "execution_count": 157,
   "id": "6cba8b5f",
   "metadata": {},
   "outputs": [
    {
     "data": {
      "text/html": [
       "<div>\n",
       "<style scoped>\n",
       "    .dataframe tbody tr th:only-of-type {\n",
       "        vertical-align: middle;\n",
       "    }\n",
       "\n",
       "    .dataframe tbody tr th {\n",
       "        vertical-align: top;\n",
       "    }\n",
       "\n",
       "    .dataframe thead th {\n",
       "        text-align: right;\n",
       "    }\n",
       "</style>\n",
       "<table border=\"1\" class=\"dataframe\">\n",
       "  <thead>\n",
       "    <tr style=\"text-align: right;\">\n",
       "      <th></th>\n",
       "      <th>trip_no</th>\n",
       "      <th>id_comp</th>\n",
       "      <th>plane</th>\n",
       "      <th>town_from</th>\n",
       "      <th>town_to</th>\n",
       "      <th>time_out</th>\n",
       "      <th>time_in</th>\n",
       "      <th>name</th>\n",
       "    </tr>\n",
       "  </thead>\n",
       "  <tbody>\n",
       "    <tr>\n",
       "      <th>0</th>\n",
       "      <td>1100</td>\n",
       "      <td>4</td>\n",
       "      <td>Boeing</td>\n",
       "      <td>Rostov</td>\n",
       "      <td>Paris</td>\n",
       "      <td>1900-01-01 14:30:00</td>\n",
       "      <td>1900-01-01 17:50:00</td>\n",
       "      <td>air_France</td>\n",
       "    </tr>\n",
       "    <tr>\n",
       "      <th>1</th>\n",
       "      <td>1101</td>\n",
       "      <td>4</td>\n",
       "      <td>Boeing</td>\n",
       "      <td>Paris</td>\n",
       "      <td>Rostov</td>\n",
       "      <td>1900-01-01 08:12:00</td>\n",
       "      <td>1900-01-01 11:45:00</td>\n",
       "      <td>air_France</td>\n",
       "    </tr>\n",
       "    <tr>\n",
       "      <th>2</th>\n",
       "      <td>7771</td>\n",
       "      <td>5</td>\n",
       "      <td>Boeing</td>\n",
       "      <td>London</td>\n",
       "      <td>Singapore</td>\n",
       "      <td>1900-01-01 01:00:00</td>\n",
       "      <td>1900-01-01 11:00:00</td>\n",
       "      <td>British_AW</td>\n",
       "    </tr>\n",
       "    <tr>\n",
       "      <th>3</th>\n",
       "      <td>7772</td>\n",
       "      <td>5</td>\n",
       "      <td>Boeing</td>\n",
       "      <td>Singapore</td>\n",
       "      <td>London</td>\n",
       "      <td>1900-01-01 12:00:00</td>\n",
       "      <td>1900-01-01 02:00:00</td>\n",
       "      <td>British_AW</td>\n",
       "    </tr>\n",
       "    <tr>\n",
       "      <th>4</th>\n",
       "      <td>7773</td>\n",
       "      <td>5</td>\n",
       "      <td>Boeing</td>\n",
       "      <td>London</td>\n",
       "      <td>Singapore</td>\n",
       "      <td>1900-01-01 03:00:00</td>\n",
       "      <td>1900-01-01 13:00:00</td>\n",
       "      <td>British_AW</td>\n",
       "    </tr>\n",
       "    <tr>\n",
       "      <th>5</th>\n",
       "      <td>7774</td>\n",
       "      <td>5</td>\n",
       "      <td>Boeing</td>\n",
       "      <td>Singapore</td>\n",
       "      <td>London</td>\n",
       "      <td>1900-01-01 14:00:00</td>\n",
       "      <td>1900-01-01 06:00:00</td>\n",
       "      <td>British_AW</td>\n",
       "    </tr>\n",
       "    <tr>\n",
       "      <th>6</th>\n",
       "      <td>7775</td>\n",
       "      <td>5</td>\n",
       "      <td>Boeing</td>\n",
       "      <td>London</td>\n",
       "      <td>Singapore</td>\n",
       "      <td>1900-01-01 09:00:00</td>\n",
       "      <td>1900-01-01 20:00:00</td>\n",
       "      <td>British_AW</td>\n",
       "    </tr>\n",
       "    <tr>\n",
       "      <th>7</th>\n",
       "      <td>7776</td>\n",
       "      <td>5</td>\n",
       "      <td>Boeing</td>\n",
       "      <td>Singapore</td>\n",
       "      <td>London</td>\n",
       "      <td>1900-01-01 18:00:00</td>\n",
       "      <td>1900-01-01 08:00:00</td>\n",
       "      <td>British_AW</td>\n",
       "    </tr>\n",
       "    <tr>\n",
       "      <th>8</th>\n",
       "      <td>7777</td>\n",
       "      <td>5</td>\n",
       "      <td>Boeing</td>\n",
       "      <td>London</td>\n",
       "      <td>Singapore</td>\n",
       "      <td>1900-01-01 18:00:00</td>\n",
       "      <td>1900-01-01 06:00:00</td>\n",
       "      <td>British_AW</td>\n",
       "    </tr>\n",
       "    <tr>\n",
       "      <th>9</th>\n",
       "      <td>7778</td>\n",
       "      <td>5</td>\n",
       "      <td>Boeing</td>\n",
       "      <td>Singapore</td>\n",
       "      <td>London</td>\n",
       "      <td>1900-01-01 22:00:00</td>\n",
       "      <td>1900-01-01 12:00:00</td>\n",
       "      <td>British_AW</td>\n",
       "    </tr>\n",
       "    <tr>\n",
       "      <th>10</th>\n",
       "      <td>8881</td>\n",
       "      <td>5</td>\n",
       "      <td>Boeing</td>\n",
       "      <td>London</td>\n",
       "      <td>Paris</td>\n",
       "      <td>1900-01-01 03:00:00</td>\n",
       "      <td>1900-01-01 04:00:00</td>\n",
       "      <td>British_AW</td>\n",
       "    </tr>\n",
       "    <tr>\n",
       "      <th>11</th>\n",
       "      <td>8882</td>\n",
       "      <td>5</td>\n",
       "      <td>Boeing</td>\n",
       "      <td>Paris</td>\n",
       "      <td>London</td>\n",
       "      <td>1900-01-01 22:00:00</td>\n",
       "      <td>1900-01-01 23:00:00</td>\n",
       "      <td>British_AW</td>\n",
       "    </tr>\n",
       "  </tbody>\n",
       "</table>\n",
       "</div>"
      ],
      "text/plain": [
       "    trip_no  id_comp   plane                  town_from  \\\n",
       "0      1100        4  Boeing  Rostov                      \n",
       "1      1101        4  Boeing  Paris                       \n",
       "2      7771        5  Boeing  London                      \n",
       "3      7772        5  Boeing  Singapore                   \n",
       "4      7773        5  Boeing  London                      \n",
       "5      7774        5  Boeing  Singapore                   \n",
       "6      7775        5  Boeing  London                      \n",
       "7      7776        5  Boeing  Singapore                   \n",
       "8      7777        5  Boeing  London                      \n",
       "9      7778        5  Boeing  Singapore                   \n",
       "10     8881        5  Boeing  London                      \n",
       "11     8882        5  Boeing  Paris                       \n",
       "\n",
       "                      town_to            time_out             time_in  \\\n",
       "0   Paris                     1900-01-01 14:30:00 1900-01-01 17:50:00   \n",
       "1   Rostov                    1900-01-01 08:12:00 1900-01-01 11:45:00   \n",
       "2   Singapore                 1900-01-01 01:00:00 1900-01-01 11:00:00   \n",
       "3   London                    1900-01-01 12:00:00 1900-01-01 02:00:00   \n",
       "4   Singapore                 1900-01-01 03:00:00 1900-01-01 13:00:00   \n",
       "5   London                    1900-01-01 14:00:00 1900-01-01 06:00:00   \n",
       "6   Singapore                 1900-01-01 09:00:00 1900-01-01 20:00:00   \n",
       "7   London                    1900-01-01 18:00:00 1900-01-01 08:00:00   \n",
       "8   Singapore                 1900-01-01 18:00:00 1900-01-01 06:00:00   \n",
       "9   London                    1900-01-01 22:00:00 1900-01-01 12:00:00   \n",
       "10  Paris                     1900-01-01 03:00:00 1900-01-01 04:00:00   \n",
       "11  London                    1900-01-01 22:00:00 1900-01-01 23:00:00   \n",
       "\n",
       "          name  \n",
       "0   air_France  \n",
       "1   air_France  \n",
       "2   British_AW  \n",
       "3   British_AW  \n",
       "4   British_AW  \n",
       "5   British_AW  \n",
       "6   British_AW  \n",
       "7   British_AW  \n",
       "8   British_AW  \n",
       "9   British_AW  \n",
       "10  British_AW  \n",
       "11  British_AW  "
      ]
     },
     "execution_count": 157,
     "metadata": {},
     "output_type": "execute_result"
    }
   ],
   "source": [
    "df_filtered"
   ]
  },
  {
   "cell_type": "markdown",
   "id": "050b397a",
   "metadata": {},
   "source": [
    "9. Преобразовать данные из таблицы PostgreSQL с помощью pandas и сохранить результаты в новую таблицу PostgreSQL."
   ]
  },
  {
   "cell_type": "code",
   "execution_count": 159,
   "id": "96c79ad4",
   "metadata": {},
   "outputs": [
    {
     "name": "stdout",
     "output_type": "stream",
     "text": [
      "<class 'pandas.core.frame.DataFrame'>\n",
      "RangeIndex: 22 entries, 0 to 21\n",
      "Data columns (total 8 columns):\n",
      " #   Column     Non-Null Count  Dtype         \n",
      "---  ------     --------------  -----         \n",
      " 0   trip_no    22 non-null     int64         \n",
      " 1   id_comp    22 non-null     int64         \n",
      " 2   plane      22 non-null     object        \n",
      " 3   town_from  22 non-null     object        \n",
      " 4   town_to    22 non-null     object        \n",
      " 5   time_out   22 non-null     datetime64[ns]\n",
      " 6   time_in    22 non-null     datetime64[ns]\n",
      " 7   name       22 non-null     object        \n",
      "dtypes: datetime64[ns](2), int64(2), object(4)\n",
      "memory usage: 1.5+ KB\n"
     ]
    }
   ],
   "source": [
    "df_merge.info()"
   ]
  },
  {
   "cell_type": "code",
   "execution_count": 160,
   "id": "b6b0815f",
   "metadata": {},
   "outputs": [
    {
     "data": {
      "text/plain": [
       "0     1100.0\n",
       "1     1101.0\n",
       "2     1123.0\n",
       "3     1124.0\n",
       "4     1145.0\n",
       "5     1146.0\n",
       "6     1181.0\n",
       "7     1182.0\n",
       "8     1187.0\n",
       "9     1188.0\n",
       "10    1195.0\n",
       "11    1196.0\n",
       "12    7771.0\n",
       "13    7772.0\n",
       "14    7773.0\n",
       "15    7774.0\n",
       "16    7775.0\n",
       "17    7776.0\n",
       "18    7777.0\n",
       "19    7778.0\n",
       "20    8881.0\n",
       "21    8882.0\n",
       "Name: trip_no, dtype: float64"
      ]
     },
     "execution_count": 160,
     "metadata": {},
     "output_type": "execute_result"
    }
   ],
   "source": [
    "df_merge.trip_no.astype(float)"
   ]
  },
  {
   "cell_type": "markdown",
   "id": "f2c2bd4a",
   "metadata": {},
   "source": [
    "10. Выполнить операции с датами и временем на основе данных из таблицы PostgreSQL с помощью pandas и сохранить результаты в новую таблицу PostgreSQL."
   ]
  },
  {
   "cell_type": "code",
   "execution_count": 162,
   "id": "873d9379",
   "metadata": {},
   "outputs": [],
   "source": [
    "df_merge['diff'] = df_merge.time_out - df_merge.time_in    "
   ]
  },
  {
   "cell_type": "code",
   "execution_count": 164,
   "id": "571b1219",
   "metadata": {},
   "outputs": [
    {
     "name": "stderr",
     "output_type": "stream",
     "text": [
      "C:\\Users\\campus\\AppData\\Local\\Temp\\ipykernel_10500\\51731777.py:1: UserWarning: the 'timedelta' type is not supported, and will be written as integer values (ns frequency) to the database.\n",
      "  df_merge.to_sql('res', engine)\n"
     ]
    },
    {
     "data": {
      "text/plain": [
       "22"
      ]
     },
     "execution_count": 164,
     "metadata": {},
     "output_type": "execute_result"
    }
   ],
   "source": [
    "df_merge.to_sql('res', engine)"
   ]
  },
  {
   "cell_type": "code",
   "execution_count": null,
   "id": "6e05396b",
   "metadata": {},
   "outputs": [],
   "source": []
  }
 ],
 "metadata": {
  "kernelspec": {
   "display_name": "Python 3 (ipykernel)",
   "language": "python",
   "name": "python3"
  },
  "language_info": {
   "codemirror_mode": {
    "name": "ipython",
    "version": 3
   },
   "file_extension": ".py",
   "mimetype": "text/x-python",
   "name": "python",
   "nbconvert_exporter": "python",
   "pygments_lexer": "ipython3",
   "version": "3.8.10"
  }
 },
 "nbformat": 4,
 "nbformat_minor": 5
}
